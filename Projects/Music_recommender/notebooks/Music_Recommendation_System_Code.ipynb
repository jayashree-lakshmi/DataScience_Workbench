{
 "cells": [
  {
   "cell_type": "markdown",
   "metadata": {
    "id": "DyAjEw4OHmDb"
   },
   "source": [
    "# **Music Recommendation System**"
   ]
  },
  {
   "cell_type": "markdown",
   "metadata": {
    "id": "FMCaC7Q_tq1m"
   },
   "source": [
    "## **Problem Definition**\n",
    "\n",
    "### **The Context:**\n",
    "\n",
    " With rapid technological advancements, retaining users on a single platform has become increasingly challenging. Users gravitate toward platforms that deliver exactly what they're looking for without requiring explicit input. To capture and maintain their attention while they listen to music, a **music platform** should recommend songs based on users' **historical interactions**. This **personalized experience** can attract more users and significantly increase the platform's revenue.\n",
    "\n",
    "In this project, we will explore techniques for building a **recommendation system**, using music as the primary example. However, the methods learned here can be applied to recommend any type of item, making this knowledge versatile for various domains beyond just music.\n",
    "\n",
    "### **The objective:**\n",
    "\n",
    "The goal of this project is to build various recommendation system to propose the top 10 songs for a user based on the liklihood of listening to those songs.\n",
    "* Popularity Based Recommendation System\n",
    "* Similarity Based Recommendation System\n",
    "* Model Based Collaborative Filtering - Matrix Factorization\n",
    "* Cluster Based Recommendation System\n",
    "* Content Based Recommendation Systems\n",
    "\n",
    "### **The key questions:**\n",
    "What are the key questions that need to be answered?\n",
    "* How can we ensure the recommendations are personalized and accurate?\n",
    "* What metrics (e.g., precision, recall, F1-score, RMSE) will be used to measure the effectiveness of the system?\n",
    "* What strategies will be implemented to address the \"cold start\" problem for new users or songs with limited data?\n",
    "* How can recommendations increase user engagement and platform revenue?\n",
    "* How do we ensure scalability and efficiency?\n",
    "* Can the recommendation techniques be applied beyond music?\n",
    "\n",
    "\n",
    "\n",
    "### **The problem formulation**:\n",
    "\n",
    "- What is it that we are trying to solve using data science?\n",
    "We are trying to solve the problem of personalizing the music experience for users by recommending songs they are likely to enjoy, based on their previous interactions and preferences. The main objectives we aim to address using data science include:\n",
    "  * How can we keep users engaged on the platform\n",
    "  * personalized song suggestions\n",
    "  * Cold Start Problem"
   ]
  },
  {
   "cell_type": "markdown",
   "metadata": {
    "id": "BVUiyhYTHS1t"
   },
   "source": [
    "## **Data Dictionary**\n",
    "\n",
    "The core data is the Taste Profile Subset released by the Echo Nest as part of the Million Song Dataset. There are two files in this dataset. The first file contains the details about the song id, titles, release, artist name, and the year of release. The second file contains the user id, song id, and the play count of users.\n",
    "\n",
    "**song_data**\n",
    "\n",
    "- song_id - A unique id given to every song\n",
    "- title - Title of the song\n",
    "- Release - Name of the released album\n",
    "- Artist_name - Name of the artist\n",
    "- year - Year of release\n",
    "\n",
    "**count_data**\n",
    "\n",
    "- user _id - A unique id given to the user\n",
    "- song_id - A unique id given to the song\n",
    "- play_count - Number of times the song was played\n",
    "\n",
    "## **Data Source**\n",
    "http://millionsongdataset.com/"
   ]
  },
  {
   "cell_type": "markdown",
   "metadata": {
    "id": "NRJtXkTrHxMQ"
   },
   "source": [
    "### **Importing Libraries and the Dataset**"
   ]
  },
  {
   "cell_type": "code",
   "execution_count": 1,
   "metadata": {
    "colab": {
     "base_uri": "https://localhost:8080/"
    },
    "executionInfo": {
     "elapsed": 28323,
     "status": "ok",
     "timestamp": 1728911956185,
     "user": {
      "displayName": "Jayashree Lakshmi",
      "userId": "09309199442259744900"
     },
     "user_tz": 240
    },
    "id": "6SRzOPXI2Efn",
    "outputId": "fd1b9bed-c9cc-4044-dbbb-e2f382e29769"
   },
   "outputs": [
    {
     "name": "stdout",
     "output_type": "stream",
     "text": [
      "Mounted at /content/drive\n"
     ]
    }
   ],
   "source": [
    "# Mounting the drive\n",
    "from google.colab import drive\n",
    "drive.mount('/content/drive')"
   ]
  },
  {
   "cell_type": "code",
   "execution_count": 1,
   "metadata": {
    "colab": {
     "base_uri": "https://localhost:8080/"
    },
    "executionInfo": {
     "elapsed": 91069,
     "status": "ok",
     "timestamp": 1728912047250,
     "user": {
      "displayName": "Jayashree Lakshmi",
      "userId": "09309199442259744900"
     },
     "user_tz": 240
    },
    "id": "ecxNZRjnm4Bg",
    "outputId": "898c4ec5-a920-424a-c6fa-85c85b2d4364"
   },
   "outputs": [
    {
     "name": "stdout",
     "output_type": "stream",
     "text": [
      "zsh:1: command not found: pip\n"
     ]
    }
   ],
   "source": [
    "#Install the surprise library\n",
    "!pip install surprise"
   ]
  },
  {
   "cell_type": "code",
   "execution_count": 3,
   "metadata": {
    "executionInfo": {
     "elapsed": 3048,
     "status": "ok",
     "timestamp": 1728912050248,
     "user": {
      "displayName": "Jayashree Lakshmi",
      "userId": "09309199442259744900"
     },
     "user_tz": 240
    },
    "id": "R4YvKrpzId3K"
   },
   "outputs": [],
   "source": [
    "# Used to ignore the warning given as output of the code\n",
    "import warnings\n",
    "warnings.filterwarnings('ignore')\n",
    "\n",
    "# Basic libraries of python for numeric and dataframe computations\n",
    "import numpy as np\n",
    "import pandas as pd\n",
    "\n",
    "# Import Matplotlib the Basic library for data visualization\n",
    "import matplotlib.pyplot as plt\n",
    "\n",
    "# Import seaborn - Slightly advanced library for data visualization\n",
    "import seaborn as sns\n",
    "\n",
    "# Import the required library to compute the cosine similarity between two vectors\n",
    "from sklearn.metrics.pairwise import cosine_similarity\n",
    "\n",
    "# Import defaultdict from collections A dictionary output that does not raise a key error\n",
    "from collections import defaultdict\n",
    "# Impoort mean_squared_error : a performance metrics in sklearn\n",
    "from sklearn.metrics import mean_squared_error\n",
    "\n",
    "#label encoding\n",
    "from sklearn.preprocessing import LabelEncoder"
   ]
  },
  {
   "cell_type": "markdown",
   "metadata": {
    "id": "bUGKX140wf-S"
   },
   "source": [
    "### **Load the dataset**"
   ]
  },
  {
   "cell_type": "code",
   "execution_count": 4,
   "metadata": {
    "executionInfo": {
     "elapsed": 13166,
     "status": "ok",
     "timestamp": 1728912063409,
     "user": {
      "displayName": "Jayashree Lakshmi",
      "userId": "09309199442259744900"
     },
     "user_tz": 240
    },
    "id": "si6ulhIYImck"
   },
   "outputs": [],
   "source": [
    "# Importing the datasets\n",
    "count_df = pd.read_csv('/content/drive/MyDrive/Colab Notebooks/Capstone_project/count_data.csv')\n",
    "song_df =pd.read_csv('/content/drive/MyDrive/Colab Notebooks/Capstone_project/song_data.csv')"
   ]
  },
  {
   "cell_type": "markdown",
   "metadata": {
    "id": "12TKB2M7XyC6"
   },
   "source": [
    "### **Understanding the data by viewing a few observations**"
   ]
  },
  {
   "cell_type": "code",
   "execution_count": 5,
   "metadata": {
    "colab": {
     "base_uri": "https://localhost:8080/",
     "height": 363
    },
    "executionInfo": {
     "elapsed": 172,
     "status": "ok",
     "timestamp": 1728912063420,
     "user": {
      "displayName": "Jayashree Lakshmi",
      "userId": "09309199442259744900"
     },
     "user_tz": 240
    },
    "id": "GCLzBuYiXlPM",
    "outputId": "05ab175a-54f3-4342-f619-e8de7e9d54d2"
   },
   "outputs": [
    {
     "data": {
      "application/vnd.google.colaboratory.intrinsic+json": {
       "type": "dataframe",
       "variable_name": "count_df"
      },
      "text/html": [
       "\n",
       "  <div id=\"df-4d4440d4-2089-437d-911f-1faa547b5fb0\" class=\"colab-df-container\">\n",
       "    <div>\n",
       "<style scoped>\n",
       "    .dataframe tbody tr th:only-of-type {\n",
       "        vertical-align: middle;\n",
       "    }\n",
       "\n",
       "    .dataframe tbody tr th {\n",
       "        vertical-align: top;\n",
       "    }\n",
       "\n",
       "    .dataframe thead th {\n",
       "        text-align: right;\n",
       "    }\n",
       "</style>\n",
       "<table border=\"1\" class=\"dataframe\">\n",
       "  <thead>\n",
       "    <tr style=\"text-align: right;\">\n",
       "      <th></th>\n",
       "      <th>Unnamed: 0</th>\n",
       "      <th>user_id</th>\n",
       "      <th>song_id</th>\n",
       "      <th>play_count</th>\n",
       "    </tr>\n",
       "  </thead>\n",
       "  <tbody>\n",
       "    <tr>\n",
       "      <th>0</th>\n",
       "      <td>0</td>\n",
       "      <td>b80344d063b5ccb3212f76538f3d9e43d87dca9e</td>\n",
       "      <td>SOAKIMP12A8C130995</td>\n",
       "      <td>1</td>\n",
       "    </tr>\n",
       "    <tr>\n",
       "      <th>1</th>\n",
       "      <td>1</td>\n",
       "      <td>b80344d063b5ccb3212f76538f3d9e43d87dca9e</td>\n",
       "      <td>SOBBMDR12A8C13253B</td>\n",
       "      <td>2</td>\n",
       "    </tr>\n",
       "    <tr>\n",
       "      <th>2</th>\n",
       "      <td>2</td>\n",
       "      <td>b80344d063b5ccb3212f76538f3d9e43d87dca9e</td>\n",
       "      <td>SOBXHDL12A81C204C0</td>\n",
       "      <td>1</td>\n",
       "    </tr>\n",
       "    <tr>\n",
       "      <th>3</th>\n",
       "      <td>3</td>\n",
       "      <td>b80344d063b5ccb3212f76538f3d9e43d87dca9e</td>\n",
       "      <td>SOBYHAJ12A6701BF1D</td>\n",
       "      <td>1</td>\n",
       "    </tr>\n",
       "    <tr>\n",
       "      <th>4</th>\n",
       "      <td>4</td>\n",
       "      <td>b80344d063b5ccb3212f76538f3d9e43d87dca9e</td>\n",
       "      <td>SODACBL12A8C13C273</td>\n",
       "      <td>1</td>\n",
       "    </tr>\n",
       "    <tr>\n",
       "      <th>5</th>\n",
       "      <td>5</td>\n",
       "      <td>b80344d063b5ccb3212f76538f3d9e43d87dca9e</td>\n",
       "      <td>SODDNQT12A6D4F5F7E</td>\n",
       "      <td>5</td>\n",
       "    </tr>\n",
       "    <tr>\n",
       "      <th>6</th>\n",
       "      <td>6</td>\n",
       "      <td>b80344d063b5ccb3212f76538f3d9e43d87dca9e</td>\n",
       "      <td>SODXRTY12AB0180F3B</td>\n",
       "      <td>1</td>\n",
       "    </tr>\n",
       "    <tr>\n",
       "      <th>7</th>\n",
       "      <td>7</td>\n",
       "      <td>b80344d063b5ccb3212f76538f3d9e43d87dca9e</td>\n",
       "      <td>SOFGUAY12AB017B0A8</td>\n",
       "      <td>1</td>\n",
       "    </tr>\n",
       "    <tr>\n",
       "      <th>8</th>\n",
       "      <td>8</td>\n",
       "      <td>b80344d063b5ccb3212f76538f3d9e43d87dca9e</td>\n",
       "      <td>SOFRQTD12A81C233C0</td>\n",
       "      <td>1</td>\n",
       "    </tr>\n",
       "    <tr>\n",
       "      <th>9</th>\n",
       "      <td>9</td>\n",
       "      <td>b80344d063b5ccb3212f76538f3d9e43d87dca9e</td>\n",
       "      <td>SOHQWYZ12A6D4FA701</td>\n",
       "      <td>1</td>\n",
       "    </tr>\n",
       "  </tbody>\n",
       "</table>\n",
       "</div>\n",
       "    <div class=\"colab-df-buttons\">\n",
       "\n",
       "  <div class=\"colab-df-container\">\n",
       "    <button class=\"colab-df-convert\" onclick=\"convertToInteractive('df-4d4440d4-2089-437d-911f-1faa547b5fb0')\"\n",
       "            title=\"Convert this dataframe to an interactive table.\"\n",
       "            style=\"display:none;\">\n",
       "\n",
       "  <svg xmlns=\"http://www.w3.org/2000/svg\" height=\"24px\" viewBox=\"0 -960 960 960\">\n",
       "    <path d=\"M120-120v-720h720v720H120Zm60-500h600v-160H180v160Zm220 220h160v-160H400v160Zm0 220h160v-160H400v160ZM180-400h160v-160H180v160Zm440 0h160v-160H620v160ZM180-180h160v-160H180v160Zm440 0h160v-160H620v160Z\"/>\n",
       "  </svg>\n",
       "    </button>\n",
       "\n",
       "  <style>\n",
       "    .colab-df-container {\n",
       "      display:flex;\n",
       "      gap: 12px;\n",
       "    }\n",
       "\n",
       "    .colab-df-convert {\n",
       "      background-color: #E8F0FE;\n",
       "      border: none;\n",
       "      border-radius: 50%;\n",
       "      cursor: pointer;\n",
       "      display: none;\n",
       "      fill: #1967D2;\n",
       "      height: 32px;\n",
       "      padding: 0 0 0 0;\n",
       "      width: 32px;\n",
       "    }\n",
       "\n",
       "    .colab-df-convert:hover {\n",
       "      background-color: #E2EBFA;\n",
       "      box-shadow: 0px 1px 2px rgba(60, 64, 67, 0.3), 0px 1px 3px 1px rgba(60, 64, 67, 0.15);\n",
       "      fill: #174EA6;\n",
       "    }\n",
       "\n",
       "    .colab-df-buttons div {\n",
       "      margin-bottom: 4px;\n",
       "    }\n",
       "\n",
       "    [theme=dark] .colab-df-convert {\n",
       "      background-color: #3B4455;\n",
       "      fill: #D2E3FC;\n",
       "    }\n",
       "\n",
       "    [theme=dark] .colab-df-convert:hover {\n",
       "      background-color: #434B5C;\n",
       "      box-shadow: 0px 1px 3px 1px rgba(0, 0, 0, 0.15);\n",
       "      filter: drop-shadow(0px 1px 2px rgba(0, 0, 0, 0.3));\n",
       "      fill: #FFFFFF;\n",
       "    }\n",
       "  </style>\n",
       "\n",
       "    <script>\n",
       "      const buttonEl =\n",
       "        document.querySelector('#df-4d4440d4-2089-437d-911f-1faa547b5fb0 button.colab-df-convert');\n",
       "      buttonEl.style.display =\n",
       "        google.colab.kernel.accessAllowed ? 'block' : 'none';\n",
       "\n",
       "      async function convertToInteractive(key) {\n",
       "        const element = document.querySelector('#df-4d4440d4-2089-437d-911f-1faa547b5fb0');\n",
       "        const dataTable =\n",
       "          await google.colab.kernel.invokeFunction('convertToInteractive',\n",
       "                                                    [key], {});\n",
       "        if (!dataTable) return;\n",
       "\n",
       "        const docLinkHtml = 'Like what you see? Visit the ' +\n",
       "          '<a target=\"_blank\" href=https://colab.research.google.com/notebooks/data_table.ipynb>data table notebook</a>'\n",
       "          + ' to learn more about interactive tables.';\n",
       "        element.innerHTML = '';\n",
       "        dataTable['output_type'] = 'display_data';\n",
       "        await google.colab.output.renderOutput(dataTable, element);\n",
       "        const docLink = document.createElement('div');\n",
       "        docLink.innerHTML = docLinkHtml;\n",
       "        element.appendChild(docLink);\n",
       "      }\n",
       "    </script>\n",
       "  </div>\n",
       "\n",
       "\n",
       "<div id=\"df-c11731f6-05a8-4468-a71b-b3cd18520988\">\n",
       "  <button class=\"colab-df-quickchart\" onclick=\"quickchart('df-c11731f6-05a8-4468-a71b-b3cd18520988')\"\n",
       "            title=\"Suggest charts\"\n",
       "            style=\"display:none;\">\n",
       "\n",
       "<svg xmlns=\"http://www.w3.org/2000/svg\" height=\"24px\"viewBox=\"0 0 24 24\"\n",
       "     width=\"24px\">\n",
       "    <g>\n",
       "        <path d=\"M19 3H5c-1.1 0-2 .9-2 2v14c0 1.1.9 2 2 2h14c1.1 0 2-.9 2-2V5c0-1.1-.9-2-2-2zM9 17H7v-7h2v7zm4 0h-2V7h2v10zm4 0h-2v-4h2v4z\"/>\n",
       "    </g>\n",
       "</svg>\n",
       "  </button>\n",
       "\n",
       "<style>\n",
       "  .colab-df-quickchart {\n",
       "      --bg-color: #E8F0FE;\n",
       "      --fill-color: #1967D2;\n",
       "      --hover-bg-color: #E2EBFA;\n",
       "      --hover-fill-color: #174EA6;\n",
       "      --disabled-fill-color: #AAA;\n",
       "      --disabled-bg-color: #DDD;\n",
       "  }\n",
       "\n",
       "  [theme=dark] .colab-df-quickchart {\n",
       "      --bg-color: #3B4455;\n",
       "      --fill-color: #D2E3FC;\n",
       "      --hover-bg-color: #434B5C;\n",
       "      --hover-fill-color: #FFFFFF;\n",
       "      --disabled-bg-color: #3B4455;\n",
       "      --disabled-fill-color: #666;\n",
       "  }\n",
       "\n",
       "  .colab-df-quickchart {\n",
       "    background-color: var(--bg-color);\n",
       "    border: none;\n",
       "    border-radius: 50%;\n",
       "    cursor: pointer;\n",
       "    display: none;\n",
       "    fill: var(--fill-color);\n",
       "    height: 32px;\n",
       "    padding: 0;\n",
       "    width: 32px;\n",
       "  }\n",
       "\n",
       "  .colab-df-quickchart:hover {\n",
       "    background-color: var(--hover-bg-color);\n",
       "    box-shadow: 0 1px 2px rgba(60, 64, 67, 0.3), 0 1px 3px 1px rgba(60, 64, 67, 0.15);\n",
       "    fill: var(--button-hover-fill-color);\n",
       "  }\n",
       "\n",
       "  .colab-df-quickchart-complete:disabled,\n",
       "  .colab-df-quickchart-complete:disabled:hover {\n",
       "    background-color: var(--disabled-bg-color);\n",
       "    fill: var(--disabled-fill-color);\n",
       "    box-shadow: none;\n",
       "  }\n",
       "\n",
       "  .colab-df-spinner {\n",
       "    border: 2px solid var(--fill-color);\n",
       "    border-color: transparent;\n",
       "    border-bottom-color: var(--fill-color);\n",
       "    animation:\n",
       "      spin 1s steps(1) infinite;\n",
       "  }\n",
       "\n",
       "  @keyframes spin {\n",
       "    0% {\n",
       "      border-color: transparent;\n",
       "      border-bottom-color: var(--fill-color);\n",
       "      border-left-color: var(--fill-color);\n",
       "    }\n",
       "    20% {\n",
       "      border-color: transparent;\n",
       "      border-left-color: var(--fill-color);\n",
       "      border-top-color: var(--fill-color);\n",
       "    }\n",
       "    30% {\n",
       "      border-color: transparent;\n",
       "      border-left-color: var(--fill-color);\n",
       "      border-top-color: var(--fill-color);\n",
       "      border-right-color: var(--fill-color);\n",
       "    }\n",
       "    40% {\n",
       "      border-color: transparent;\n",
       "      border-right-color: var(--fill-color);\n",
       "      border-top-color: var(--fill-color);\n",
       "    }\n",
       "    60% {\n",
       "      border-color: transparent;\n",
       "      border-right-color: var(--fill-color);\n",
       "    }\n",
       "    80% {\n",
       "      border-color: transparent;\n",
       "      border-right-color: var(--fill-color);\n",
       "      border-bottom-color: var(--fill-color);\n",
       "    }\n",
       "    90% {\n",
       "      border-color: transparent;\n",
       "      border-bottom-color: var(--fill-color);\n",
       "    }\n",
       "  }\n",
       "</style>\n",
       "\n",
       "  <script>\n",
       "    async function quickchart(key) {\n",
       "      const quickchartButtonEl =\n",
       "        document.querySelector('#' + key + ' button');\n",
       "      quickchartButtonEl.disabled = true;  // To prevent multiple clicks.\n",
       "      quickchartButtonEl.classList.add('colab-df-spinner');\n",
       "      try {\n",
       "        const charts = await google.colab.kernel.invokeFunction(\n",
       "            'suggestCharts', [key], {});\n",
       "      } catch (error) {\n",
       "        console.error('Error during call to suggestCharts:', error);\n",
       "      }\n",
       "      quickchartButtonEl.classList.remove('colab-df-spinner');\n",
       "      quickchartButtonEl.classList.add('colab-df-quickchart-complete');\n",
       "    }\n",
       "    (() => {\n",
       "      let quickchartButtonEl =\n",
       "        document.querySelector('#df-c11731f6-05a8-4468-a71b-b3cd18520988 button');\n",
       "      quickchartButtonEl.style.display =\n",
       "        google.colab.kernel.accessAllowed ? 'block' : 'none';\n",
       "    })();\n",
       "  </script>\n",
       "</div>\n",
       "\n",
       "    </div>\n",
       "  </div>\n"
      ],
      "text/plain": [
       "   Unnamed: 0                                   user_id             song_id  \\\n",
       "0           0  b80344d063b5ccb3212f76538f3d9e43d87dca9e  SOAKIMP12A8C130995   \n",
       "1           1  b80344d063b5ccb3212f76538f3d9e43d87dca9e  SOBBMDR12A8C13253B   \n",
       "2           2  b80344d063b5ccb3212f76538f3d9e43d87dca9e  SOBXHDL12A81C204C0   \n",
       "3           3  b80344d063b5ccb3212f76538f3d9e43d87dca9e  SOBYHAJ12A6701BF1D   \n",
       "4           4  b80344d063b5ccb3212f76538f3d9e43d87dca9e  SODACBL12A8C13C273   \n",
       "5           5  b80344d063b5ccb3212f76538f3d9e43d87dca9e  SODDNQT12A6D4F5F7E   \n",
       "6           6  b80344d063b5ccb3212f76538f3d9e43d87dca9e  SODXRTY12AB0180F3B   \n",
       "7           7  b80344d063b5ccb3212f76538f3d9e43d87dca9e  SOFGUAY12AB017B0A8   \n",
       "8           8  b80344d063b5ccb3212f76538f3d9e43d87dca9e  SOFRQTD12A81C233C0   \n",
       "9           9  b80344d063b5ccb3212f76538f3d9e43d87dca9e  SOHQWYZ12A6D4FA701   \n",
       "\n",
       "   play_count  \n",
       "0           1  \n",
       "1           2  \n",
       "2           1  \n",
       "3           1  \n",
       "4           1  \n",
       "5           5  \n",
       "6           1  \n",
       "7           1  \n",
       "8           1  \n",
       "9           1  "
      ]
     },
     "execution_count": 5,
     "metadata": {},
     "output_type": "execute_result"
    }
   ],
   "source": [
    "# Display first 10 records of count_df data\n",
    "count_df.head(10)"
   ]
  },
  {
   "cell_type": "code",
   "execution_count": 6,
   "metadata": {
    "colab": {
     "base_uri": "https://localhost:8080/",
     "height": 363
    },
    "executionInfo": {
     "elapsed": 90,
     "status": "ok",
     "timestamp": 1728912063421,
     "user": {
      "displayName": "Jayashree Lakshmi",
      "userId": "09309199442259744900"
     },
     "user_tz": 240
    },
    "id": "tV1ed0ApXpu3",
    "outputId": "3a36150d-4f2d-4d68-e906-fd99462af8dd"
   },
   "outputs": [
    {
     "data": {
      "application/vnd.google.colaboratory.intrinsic+json": {
       "type": "dataframe",
       "variable_name": "song_df"
      },
      "text/html": [
       "\n",
       "  <div id=\"df-e5ab1804-b093-4638-8052-7b174b499712\" class=\"colab-df-container\">\n",
       "    <div>\n",
       "<style scoped>\n",
       "    .dataframe tbody tr th:only-of-type {\n",
       "        vertical-align: middle;\n",
       "    }\n",
       "\n",
       "    .dataframe tbody tr th {\n",
       "        vertical-align: top;\n",
       "    }\n",
       "\n",
       "    .dataframe thead th {\n",
       "        text-align: right;\n",
       "    }\n",
       "</style>\n",
       "<table border=\"1\" class=\"dataframe\">\n",
       "  <thead>\n",
       "    <tr style=\"text-align: right;\">\n",
       "      <th></th>\n",
       "      <th>song_id</th>\n",
       "      <th>title</th>\n",
       "      <th>release</th>\n",
       "      <th>artist_name</th>\n",
       "      <th>year</th>\n",
       "    </tr>\n",
       "  </thead>\n",
       "  <tbody>\n",
       "    <tr>\n",
       "      <th>0</th>\n",
       "      <td>SOQMMHC12AB0180CB8</td>\n",
       "      <td>Silent Night</td>\n",
       "      <td>Monster Ballads X-Mas</td>\n",
       "      <td>Faster Pussy cat</td>\n",
       "      <td>2003</td>\n",
       "    </tr>\n",
       "    <tr>\n",
       "      <th>1</th>\n",
       "      <td>SOVFVAK12A8C1350D9</td>\n",
       "      <td>Tanssi vaan</td>\n",
       "      <td>Karkuteillä</td>\n",
       "      <td>Karkkiautomaatti</td>\n",
       "      <td>1995</td>\n",
       "    </tr>\n",
       "    <tr>\n",
       "      <th>2</th>\n",
       "      <td>SOGTUKN12AB017F4F1</td>\n",
       "      <td>No One Could Ever</td>\n",
       "      <td>Butter</td>\n",
       "      <td>Hudson Mohawke</td>\n",
       "      <td>2006</td>\n",
       "    </tr>\n",
       "    <tr>\n",
       "      <th>3</th>\n",
       "      <td>SOBNYVR12A8C13558C</td>\n",
       "      <td>Si Vos Querés</td>\n",
       "      <td>De Culo</td>\n",
       "      <td>Yerba Brava</td>\n",
       "      <td>2003</td>\n",
       "    </tr>\n",
       "    <tr>\n",
       "      <th>4</th>\n",
       "      <td>SOHSBXH12A8C13B0DF</td>\n",
       "      <td>Tangle Of Aspens</td>\n",
       "      <td>Rene Ablaze Presents Winter Sessions</td>\n",
       "      <td>Der Mystic</td>\n",
       "      <td>0</td>\n",
       "    </tr>\n",
       "    <tr>\n",
       "      <th>5</th>\n",
       "      <td>SOZVAPQ12A8C13B63C</td>\n",
       "      <td>Symphony No. 1 G minor \"Sinfonie Serieuse\"/All...</td>\n",
       "      <td>Berwald: Symphonies Nos. 1/2/3/4</td>\n",
       "      <td>David Montgomery</td>\n",
       "      <td>0</td>\n",
       "    </tr>\n",
       "    <tr>\n",
       "      <th>6</th>\n",
       "      <td>SOQVRHI12A6D4FB2D7</td>\n",
       "      <td>We Have Got Love</td>\n",
       "      <td>Strictly The Best Vol. 34</td>\n",
       "      <td>Sasha / Turbulence</td>\n",
       "      <td>0</td>\n",
       "    </tr>\n",
       "    <tr>\n",
       "      <th>7</th>\n",
       "      <td>SOEYRFT12AB018936C</td>\n",
       "      <td>2 Da Beat Ch'yall</td>\n",
       "      <td>Da Bomb</td>\n",
       "      <td>Kris Kross</td>\n",
       "      <td>1993</td>\n",
       "    </tr>\n",
       "    <tr>\n",
       "      <th>8</th>\n",
       "      <td>SOPMIYT12A6D4F851E</td>\n",
       "      <td>Goodbye</td>\n",
       "      <td>Danny Boy</td>\n",
       "      <td>Joseph Locke</td>\n",
       "      <td>0</td>\n",
       "    </tr>\n",
       "    <tr>\n",
       "      <th>9</th>\n",
       "      <td>SOJCFMH12A8C13B0C2</td>\n",
       "      <td>Mama_ mama can't you see ?</td>\n",
       "      <td>March to cadence with the US marines</td>\n",
       "      <td>The Sun Harbor's Chorus-Documentary Recordings</td>\n",
       "      <td>0</td>\n",
       "    </tr>\n",
       "  </tbody>\n",
       "</table>\n",
       "</div>\n",
       "    <div class=\"colab-df-buttons\">\n",
       "\n",
       "  <div class=\"colab-df-container\">\n",
       "    <button class=\"colab-df-convert\" onclick=\"convertToInteractive('df-e5ab1804-b093-4638-8052-7b174b499712')\"\n",
       "            title=\"Convert this dataframe to an interactive table.\"\n",
       "            style=\"display:none;\">\n",
       "\n",
       "  <svg xmlns=\"http://www.w3.org/2000/svg\" height=\"24px\" viewBox=\"0 -960 960 960\">\n",
       "    <path d=\"M120-120v-720h720v720H120Zm60-500h600v-160H180v160Zm220 220h160v-160H400v160Zm0 220h160v-160H400v160ZM180-400h160v-160H180v160Zm440 0h160v-160H620v160ZM180-180h160v-160H180v160Zm440 0h160v-160H620v160Z\"/>\n",
       "  </svg>\n",
       "    </button>\n",
       "\n",
       "  <style>\n",
       "    .colab-df-container {\n",
       "      display:flex;\n",
       "      gap: 12px;\n",
       "    }\n",
       "\n",
       "    .colab-df-convert {\n",
       "      background-color: #E8F0FE;\n",
       "      border: none;\n",
       "      border-radius: 50%;\n",
       "      cursor: pointer;\n",
       "      display: none;\n",
       "      fill: #1967D2;\n",
       "      height: 32px;\n",
       "      padding: 0 0 0 0;\n",
       "      width: 32px;\n",
       "    }\n",
       "\n",
       "    .colab-df-convert:hover {\n",
       "      background-color: #E2EBFA;\n",
       "      box-shadow: 0px 1px 2px rgba(60, 64, 67, 0.3), 0px 1px 3px 1px rgba(60, 64, 67, 0.15);\n",
       "      fill: #174EA6;\n",
       "    }\n",
       "\n",
       "    .colab-df-buttons div {\n",
       "      margin-bottom: 4px;\n",
       "    }\n",
       "\n",
       "    [theme=dark] .colab-df-convert {\n",
       "      background-color: #3B4455;\n",
       "      fill: #D2E3FC;\n",
       "    }\n",
       "\n",
       "    [theme=dark] .colab-df-convert:hover {\n",
       "      background-color: #434B5C;\n",
       "      box-shadow: 0px 1px 3px 1px rgba(0, 0, 0, 0.15);\n",
       "      filter: drop-shadow(0px 1px 2px rgba(0, 0, 0, 0.3));\n",
       "      fill: #FFFFFF;\n",
       "    }\n",
       "  </style>\n",
       "\n",
       "    <script>\n",
       "      const buttonEl =\n",
       "        document.querySelector('#df-e5ab1804-b093-4638-8052-7b174b499712 button.colab-df-convert');\n",
       "      buttonEl.style.display =\n",
       "        google.colab.kernel.accessAllowed ? 'block' : 'none';\n",
       "\n",
       "      async function convertToInteractive(key) {\n",
       "        const element = document.querySelector('#df-e5ab1804-b093-4638-8052-7b174b499712');\n",
       "        const dataTable =\n",
       "          await google.colab.kernel.invokeFunction('convertToInteractive',\n",
       "                                                    [key], {});\n",
       "        if (!dataTable) return;\n",
       "\n",
       "        const docLinkHtml = 'Like what you see? Visit the ' +\n",
       "          '<a target=\"_blank\" href=https://colab.research.google.com/notebooks/data_table.ipynb>data table notebook</a>'\n",
       "          + ' to learn more about interactive tables.';\n",
       "        element.innerHTML = '';\n",
       "        dataTable['output_type'] = 'display_data';\n",
       "        await google.colab.output.renderOutput(dataTable, element);\n",
       "        const docLink = document.createElement('div');\n",
       "        docLink.innerHTML = docLinkHtml;\n",
       "        element.appendChild(docLink);\n",
       "      }\n",
       "    </script>\n",
       "  </div>\n",
       "\n",
       "\n",
       "<div id=\"df-89481a1b-e0ea-4c5d-a9b2-95e600879bff\">\n",
       "  <button class=\"colab-df-quickchart\" onclick=\"quickchart('df-89481a1b-e0ea-4c5d-a9b2-95e600879bff')\"\n",
       "            title=\"Suggest charts\"\n",
       "            style=\"display:none;\">\n",
       "\n",
       "<svg xmlns=\"http://www.w3.org/2000/svg\" height=\"24px\"viewBox=\"0 0 24 24\"\n",
       "     width=\"24px\">\n",
       "    <g>\n",
       "        <path d=\"M19 3H5c-1.1 0-2 .9-2 2v14c0 1.1.9 2 2 2h14c1.1 0 2-.9 2-2V5c0-1.1-.9-2-2-2zM9 17H7v-7h2v7zm4 0h-2V7h2v10zm4 0h-2v-4h2v4z\"/>\n",
       "    </g>\n",
       "</svg>\n",
       "  </button>\n",
       "\n",
       "<style>\n",
       "  .colab-df-quickchart {\n",
       "      --bg-color: #E8F0FE;\n",
       "      --fill-color: #1967D2;\n",
       "      --hover-bg-color: #E2EBFA;\n",
       "      --hover-fill-color: #174EA6;\n",
       "      --disabled-fill-color: #AAA;\n",
       "      --disabled-bg-color: #DDD;\n",
       "  }\n",
       "\n",
       "  [theme=dark] .colab-df-quickchart {\n",
       "      --bg-color: #3B4455;\n",
       "      --fill-color: #D2E3FC;\n",
       "      --hover-bg-color: #434B5C;\n",
       "      --hover-fill-color: #FFFFFF;\n",
       "      --disabled-bg-color: #3B4455;\n",
       "      --disabled-fill-color: #666;\n",
       "  }\n",
       "\n",
       "  .colab-df-quickchart {\n",
       "    background-color: var(--bg-color);\n",
       "    border: none;\n",
       "    border-radius: 50%;\n",
       "    cursor: pointer;\n",
       "    display: none;\n",
       "    fill: var(--fill-color);\n",
       "    height: 32px;\n",
       "    padding: 0;\n",
       "    width: 32px;\n",
       "  }\n",
       "\n",
       "  .colab-df-quickchart:hover {\n",
       "    background-color: var(--hover-bg-color);\n",
       "    box-shadow: 0 1px 2px rgba(60, 64, 67, 0.3), 0 1px 3px 1px rgba(60, 64, 67, 0.15);\n",
       "    fill: var(--button-hover-fill-color);\n",
       "  }\n",
       "\n",
       "  .colab-df-quickchart-complete:disabled,\n",
       "  .colab-df-quickchart-complete:disabled:hover {\n",
       "    background-color: var(--disabled-bg-color);\n",
       "    fill: var(--disabled-fill-color);\n",
       "    box-shadow: none;\n",
       "  }\n",
       "\n",
       "  .colab-df-spinner {\n",
       "    border: 2px solid var(--fill-color);\n",
       "    border-color: transparent;\n",
       "    border-bottom-color: var(--fill-color);\n",
       "    animation:\n",
       "      spin 1s steps(1) infinite;\n",
       "  }\n",
       "\n",
       "  @keyframes spin {\n",
       "    0% {\n",
       "      border-color: transparent;\n",
       "      border-bottom-color: var(--fill-color);\n",
       "      border-left-color: var(--fill-color);\n",
       "    }\n",
       "    20% {\n",
       "      border-color: transparent;\n",
       "      border-left-color: var(--fill-color);\n",
       "      border-top-color: var(--fill-color);\n",
       "    }\n",
       "    30% {\n",
       "      border-color: transparent;\n",
       "      border-left-color: var(--fill-color);\n",
       "      border-top-color: var(--fill-color);\n",
       "      border-right-color: var(--fill-color);\n",
       "    }\n",
       "    40% {\n",
       "      border-color: transparent;\n",
       "      border-right-color: var(--fill-color);\n",
       "      border-top-color: var(--fill-color);\n",
       "    }\n",
       "    60% {\n",
       "      border-color: transparent;\n",
       "      border-right-color: var(--fill-color);\n",
       "    }\n",
       "    80% {\n",
       "      border-color: transparent;\n",
       "      border-right-color: var(--fill-color);\n",
       "      border-bottom-color: var(--fill-color);\n",
       "    }\n",
       "    90% {\n",
       "      border-color: transparent;\n",
       "      border-bottom-color: var(--fill-color);\n",
       "    }\n",
       "  }\n",
       "</style>\n",
       "\n",
       "  <script>\n",
       "    async function quickchart(key) {\n",
       "      const quickchartButtonEl =\n",
       "        document.querySelector('#' + key + ' button');\n",
       "      quickchartButtonEl.disabled = true;  // To prevent multiple clicks.\n",
       "      quickchartButtonEl.classList.add('colab-df-spinner');\n",
       "      try {\n",
       "        const charts = await google.colab.kernel.invokeFunction(\n",
       "            'suggestCharts', [key], {});\n",
       "      } catch (error) {\n",
       "        console.error('Error during call to suggestCharts:', error);\n",
       "      }\n",
       "      quickchartButtonEl.classList.remove('colab-df-spinner');\n",
       "      quickchartButtonEl.classList.add('colab-df-quickchart-complete');\n",
       "    }\n",
       "    (() => {\n",
       "      let quickchartButtonEl =\n",
       "        document.querySelector('#df-89481a1b-e0ea-4c5d-a9b2-95e600879bff button');\n",
       "      quickchartButtonEl.style.display =\n",
       "        google.colab.kernel.accessAllowed ? 'block' : 'none';\n",
       "    })();\n",
       "  </script>\n",
       "</div>\n",
       "\n",
       "    </div>\n",
       "  </div>\n"
      ],
      "text/plain": [
       "              song_id                                              title  \\\n",
       "0  SOQMMHC12AB0180CB8                                       Silent Night   \n",
       "1  SOVFVAK12A8C1350D9                                        Tanssi vaan   \n",
       "2  SOGTUKN12AB017F4F1                                  No One Could Ever   \n",
       "3  SOBNYVR12A8C13558C                                      Si Vos Querés   \n",
       "4  SOHSBXH12A8C13B0DF                                   Tangle Of Aspens   \n",
       "5  SOZVAPQ12A8C13B63C  Symphony No. 1 G minor \"Sinfonie Serieuse\"/All...   \n",
       "6  SOQVRHI12A6D4FB2D7                                   We Have Got Love   \n",
       "7  SOEYRFT12AB018936C                                  2 Da Beat Ch'yall   \n",
       "8  SOPMIYT12A6D4F851E                                            Goodbye   \n",
       "9  SOJCFMH12A8C13B0C2                         Mama_ mama can't you see ?   \n",
       "\n",
       "                                release  \\\n",
       "0                 Monster Ballads X-Mas   \n",
       "1                           Karkuteillä   \n",
       "2                                Butter   \n",
       "3                               De Culo   \n",
       "4  Rene Ablaze Presents Winter Sessions   \n",
       "5      Berwald: Symphonies Nos. 1/2/3/4   \n",
       "6             Strictly The Best Vol. 34   \n",
       "7                               Da Bomb   \n",
       "8                             Danny Boy   \n",
       "9  March to cadence with the US marines   \n",
       "\n",
       "                                      artist_name  year  \n",
       "0                                Faster Pussy cat  2003  \n",
       "1                                Karkkiautomaatti  1995  \n",
       "2                                  Hudson Mohawke  2006  \n",
       "3                                     Yerba Brava  2003  \n",
       "4                                      Der Mystic     0  \n",
       "5                                David Montgomery     0  \n",
       "6                              Sasha / Turbulence     0  \n",
       "7                                      Kris Kross  1993  \n",
       "8                                    Joseph Locke     0  \n",
       "9  The Sun Harbor's Chorus-Documentary Recordings     0  "
      ]
     },
     "execution_count": 6,
     "metadata": {},
     "output_type": "execute_result"
    }
   ],
   "source": [
    "# Display first 10 records of song_df data\n",
    "song_df.head(10)"
   ]
  },
  {
   "cell_type": "markdown",
   "metadata": {
    "id": "bvKb5FHcXzcN"
   },
   "source": [
    "### **Let us check the data types and and missing values of each column**"
   ]
  },
  {
   "cell_type": "code",
   "execution_count": 7,
   "metadata": {
    "colab": {
     "base_uri": "https://localhost:8080/"
    },
    "executionInfo": {
     "elapsed": 80,
     "status": "ok",
     "timestamp": 1728912063421,
     "user": {
      "displayName": "Jayashree Lakshmi",
      "userId": "09309199442259744900"
     },
     "user_tz": 240
    },
    "id": "yyoHc_cnX19J",
    "outputId": "02c134df-a788-453b-c988-12af1a1a5fd9"
   },
   "outputs": [
    {
     "name": "stdout",
     "output_type": "stream",
     "text": [
      "<class 'pandas.core.frame.DataFrame'>\n",
      "RangeIndex: 2000000 entries, 0 to 1999999\n",
      "Data columns (total 4 columns):\n",
      " #   Column      Dtype \n",
      "---  ------      ----- \n",
      " 0   Unnamed: 0  int64 \n",
      " 1   user_id     object\n",
      " 2   song_id     object\n",
      " 3   play_count  int64 \n",
      "dtypes: int64(2), object(2)\n",
      "memory usage: 61.0+ MB\n"
     ]
    }
   ],
   "source": [
    "# Display info of count_df\n",
    "count_df.info()"
   ]
  },
  {
   "cell_type": "code",
   "execution_count": 8,
   "metadata": {
    "colab": {
     "base_uri": "https://localhost:8080/"
    },
    "executionInfo": {
     "elapsed": 528,
     "status": "ok",
     "timestamp": 1728912063897,
     "user": {
      "displayName": "Jayashree Lakshmi",
      "userId": "09309199442259744900"
     },
     "user_tz": 240
    },
    "id": "rz3zDx_LX42y",
    "outputId": "373a931c-7c08-45fc-9560-6a989db14db6"
   },
   "outputs": [
    {
     "name": "stdout",
     "output_type": "stream",
     "text": [
      "<class 'pandas.core.frame.DataFrame'>\n",
      "RangeIndex: 1000000 entries, 0 to 999999\n",
      "Data columns (total 5 columns):\n",
      " #   Column       Non-Null Count    Dtype \n",
      "---  ------       --------------    ----- \n",
      " 0   song_id      1000000 non-null  object\n",
      " 1   title        999983 non-null   object\n",
      " 2   release      999993 non-null   object\n",
      " 3   artist_name  1000000 non-null  object\n",
      " 4   year         1000000 non-null  int64 \n",
      "dtypes: int64(1), object(4)\n",
      "memory usage: 38.1+ MB\n"
     ]
    }
   ],
   "source": [
    "# Display info of song_df\n",
    "song_df.info()"
   ]
  },
  {
   "cell_type": "markdown",
   "metadata": {
    "id": "Ze2TlWxpYadn"
   },
   "source": [
    "#### **Observations and Insights:**\n",
    "__About count_df  dataset__: This dataframe has 2000000 entries and 4 columns(unnamed:0, user_id,song_id,play_count)\n",
    "* Unnamed:0 column is a copy of index ,so its not usefull for our calculations\n",
    "* user_id,song_id columns are of object datatype, for out analysis in the coming sections ,there is a chance of converting it to numerical types\n",
    "* play_count is of integer type.\n",
    "\n",
    "__About song_df  dataset__: This dataframe has 1000000 entries and 5 columns (song_id,title,release,artist_name,year)\n",
    "Except year column all other columns are of object type and year is of integer type.\n",
    "There is a common columns in both the dataframe that is song_id, using this column we can join both the dataframes.\n",
    "\n",
    "The dataset is very huge ,so its better to trim the data inoder to reduce the processing time"
   ]
  },
  {
   "cell_type": "code",
   "execution_count": 9,
   "metadata": {
    "executionInfo": {
     "elapsed": 10019,
     "status": "ok",
     "timestamp": 1728912073908,
     "user": {
      "displayName": "Jayashree Lakshmi",
      "userId": "09309199442259744900"
     },
     "user_tz": 240
    },
    "id": "oTeurvID2T9U"
   },
   "outputs": [],
   "source": [
    "# Left merge count_df and song_df on \"song_id\". Drop duplicates from song_df data simultaneously\n",
    "count_data = pd.merge(count_df, song_df, on='song_id', how='left').drop_duplicates()\n",
    "# Drop the column 'Unnamed: 0'\n",
    "count_data.drop('Unnamed: 0', axis=1, inplace=True)\n",
    "## Name the obtained dataframe as \"df\"\n",
    "df = count_data"
   ]
  },
  {
   "cell_type": "markdown",
   "metadata": {
    "id": "yWeY9ZT43XFX"
   },
   "source": [
    "**Think About It:** As the user_id and song_id are encrypted. Can they be encoded to numeric features?\n"
   ]
  },
  {
   "cell_type": "code",
   "execution_count": 10,
   "metadata": {
    "colab": {
     "base_uri": "https://localhost:8080/",
     "height": 206
    },
    "executionInfo": {
     "elapsed": 3403,
     "status": "ok",
     "timestamp": 1728912077290,
     "user": {
      "displayName": "Jayashree Lakshmi",
      "userId": "09309199442259744900"
     },
     "user_tz": 240
    },
    "id": "oxeoOVxh2T9U",
    "outputId": "00300f8d-053a-49b5-cdee-e816c09040de"
   },
   "outputs": [
    {
     "data": {
      "application/vnd.google.colaboratory.intrinsic+json": {
       "type": "dataframe",
       "variable_name": "df"
      },
      "text/html": [
       "\n",
       "  <div id=\"df-8750881f-925e-4e55-bdf1-e9ccead16f78\" class=\"colab-df-container\">\n",
       "    <div>\n",
       "<style scoped>\n",
       "    .dataframe tbody tr th:only-of-type {\n",
       "        vertical-align: middle;\n",
       "    }\n",
       "\n",
       "    .dataframe tbody tr th {\n",
       "        vertical-align: top;\n",
       "    }\n",
       "\n",
       "    .dataframe thead th {\n",
       "        text-align: right;\n",
       "    }\n",
       "</style>\n",
       "<table border=\"1\" class=\"dataframe\">\n",
       "  <thead>\n",
       "    <tr style=\"text-align: right;\">\n",
       "      <th></th>\n",
       "      <th>user_id</th>\n",
       "      <th>song_id</th>\n",
       "      <th>play_count</th>\n",
       "      <th>title</th>\n",
       "      <th>release</th>\n",
       "      <th>artist_name</th>\n",
       "      <th>year</th>\n",
       "    </tr>\n",
       "  </thead>\n",
       "  <tbody>\n",
       "    <tr>\n",
       "      <th>0</th>\n",
       "      <td>54961</td>\n",
       "      <td>153</td>\n",
       "      <td>1</td>\n",
       "      <td>The Cove</td>\n",
       "      <td>Thicker Than Water</td>\n",
       "      <td>Jack Johnson</td>\n",
       "      <td>0</td>\n",
       "    </tr>\n",
       "    <tr>\n",
       "      <th>1</th>\n",
       "      <td>54961</td>\n",
       "      <td>413</td>\n",
       "      <td>2</td>\n",
       "      <td>Entre Dos Aguas</td>\n",
       "      <td>Flamenco Para Niños</td>\n",
       "      <td>Paco De Lucia</td>\n",
       "      <td>1976</td>\n",
       "    </tr>\n",
       "    <tr>\n",
       "      <th>2</th>\n",
       "      <td>54961</td>\n",
       "      <td>736</td>\n",
       "      <td>1</td>\n",
       "      <td>Stronger</td>\n",
       "      <td>Graduation</td>\n",
       "      <td>Kanye West</td>\n",
       "      <td>2007</td>\n",
       "    </tr>\n",
       "    <tr>\n",
       "      <th>4</th>\n",
       "      <td>54961</td>\n",
       "      <td>750</td>\n",
       "      <td>1</td>\n",
       "      <td>Constellations</td>\n",
       "      <td>In Between Dreams</td>\n",
       "      <td>Jack Johnson</td>\n",
       "      <td>2005</td>\n",
       "    </tr>\n",
       "    <tr>\n",
       "      <th>5</th>\n",
       "      <td>54961</td>\n",
       "      <td>1188</td>\n",
       "      <td>1</td>\n",
       "      <td>Learn To Fly</td>\n",
       "      <td>There Is Nothing Left To Lose</td>\n",
       "      <td>Foo Fighters</td>\n",
       "      <td>1999</td>\n",
       "    </tr>\n",
       "  </tbody>\n",
       "</table>\n",
       "</div>\n",
       "    <div class=\"colab-df-buttons\">\n",
       "\n",
       "  <div class=\"colab-df-container\">\n",
       "    <button class=\"colab-df-convert\" onclick=\"convertToInteractive('df-8750881f-925e-4e55-bdf1-e9ccead16f78')\"\n",
       "            title=\"Convert this dataframe to an interactive table.\"\n",
       "            style=\"display:none;\">\n",
       "\n",
       "  <svg xmlns=\"http://www.w3.org/2000/svg\" height=\"24px\" viewBox=\"0 -960 960 960\">\n",
       "    <path d=\"M120-120v-720h720v720H120Zm60-500h600v-160H180v160Zm220 220h160v-160H400v160Zm0 220h160v-160H400v160ZM180-400h160v-160H180v160Zm440 0h160v-160H620v160ZM180-180h160v-160H180v160Zm440 0h160v-160H620v160Z\"/>\n",
       "  </svg>\n",
       "    </button>\n",
       "\n",
       "  <style>\n",
       "    .colab-df-container {\n",
       "      display:flex;\n",
       "      gap: 12px;\n",
       "    }\n",
       "\n",
       "    .colab-df-convert {\n",
       "      background-color: #E8F0FE;\n",
       "      border: none;\n",
       "      border-radius: 50%;\n",
       "      cursor: pointer;\n",
       "      display: none;\n",
       "      fill: #1967D2;\n",
       "      height: 32px;\n",
       "      padding: 0 0 0 0;\n",
       "      width: 32px;\n",
       "    }\n",
       "\n",
       "    .colab-df-convert:hover {\n",
       "      background-color: #E2EBFA;\n",
       "      box-shadow: 0px 1px 2px rgba(60, 64, 67, 0.3), 0px 1px 3px 1px rgba(60, 64, 67, 0.15);\n",
       "      fill: #174EA6;\n",
       "    }\n",
       "\n",
       "    .colab-df-buttons div {\n",
       "      margin-bottom: 4px;\n",
       "    }\n",
       "\n",
       "    [theme=dark] .colab-df-convert {\n",
       "      background-color: #3B4455;\n",
       "      fill: #D2E3FC;\n",
       "    }\n",
       "\n",
       "    [theme=dark] .colab-df-convert:hover {\n",
       "      background-color: #434B5C;\n",
       "      box-shadow: 0px 1px 3px 1px rgba(0, 0, 0, 0.15);\n",
       "      filter: drop-shadow(0px 1px 2px rgba(0, 0, 0, 0.3));\n",
       "      fill: #FFFFFF;\n",
       "    }\n",
       "  </style>\n",
       "\n",
       "    <script>\n",
       "      const buttonEl =\n",
       "        document.querySelector('#df-8750881f-925e-4e55-bdf1-e9ccead16f78 button.colab-df-convert');\n",
       "      buttonEl.style.display =\n",
       "        google.colab.kernel.accessAllowed ? 'block' : 'none';\n",
       "\n",
       "      async function convertToInteractive(key) {\n",
       "        const element = document.querySelector('#df-8750881f-925e-4e55-bdf1-e9ccead16f78');\n",
       "        const dataTable =\n",
       "          await google.colab.kernel.invokeFunction('convertToInteractive',\n",
       "                                                    [key], {});\n",
       "        if (!dataTable) return;\n",
       "\n",
       "        const docLinkHtml = 'Like what you see? Visit the ' +\n",
       "          '<a target=\"_blank\" href=https://colab.research.google.com/notebooks/data_table.ipynb>data table notebook</a>'\n",
       "          + ' to learn more about interactive tables.';\n",
       "        element.innerHTML = '';\n",
       "        dataTable['output_type'] = 'display_data';\n",
       "        await google.colab.output.renderOutput(dataTable, element);\n",
       "        const docLink = document.createElement('div');\n",
       "        docLink.innerHTML = docLinkHtml;\n",
       "        element.appendChild(docLink);\n",
       "      }\n",
       "    </script>\n",
       "  </div>\n",
       "\n",
       "\n",
       "<div id=\"df-92f0f72a-7423-4f57-89d6-d92ca69d22fa\">\n",
       "  <button class=\"colab-df-quickchart\" onclick=\"quickchart('df-92f0f72a-7423-4f57-89d6-d92ca69d22fa')\"\n",
       "            title=\"Suggest charts\"\n",
       "            style=\"display:none;\">\n",
       "\n",
       "<svg xmlns=\"http://www.w3.org/2000/svg\" height=\"24px\"viewBox=\"0 0 24 24\"\n",
       "     width=\"24px\">\n",
       "    <g>\n",
       "        <path d=\"M19 3H5c-1.1 0-2 .9-2 2v14c0 1.1.9 2 2 2h14c1.1 0 2-.9 2-2V5c0-1.1-.9-2-2-2zM9 17H7v-7h2v7zm4 0h-2V7h2v10zm4 0h-2v-4h2v4z\"/>\n",
       "    </g>\n",
       "</svg>\n",
       "  </button>\n",
       "\n",
       "<style>\n",
       "  .colab-df-quickchart {\n",
       "      --bg-color: #E8F0FE;\n",
       "      --fill-color: #1967D2;\n",
       "      --hover-bg-color: #E2EBFA;\n",
       "      --hover-fill-color: #174EA6;\n",
       "      --disabled-fill-color: #AAA;\n",
       "      --disabled-bg-color: #DDD;\n",
       "  }\n",
       "\n",
       "  [theme=dark] .colab-df-quickchart {\n",
       "      --bg-color: #3B4455;\n",
       "      --fill-color: #D2E3FC;\n",
       "      --hover-bg-color: #434B5C;\n",
       "      --hover-fill-color: #FFFFFF;\n",
       "      --disabled-bg-color: #3B4455;\n",
       "      --disabled-fill-color: #666;\n",
       "  }\n",
       "\n",
       "  .colab-df-quickchart {\n",
       "    background-color: var(--bg-color);\n",
       "    border: none;\n",
       "    border-radius: 50%;\n",
       "    cursor: pointer;\n",
       "    display: none;\n",
       "    fill: var(--fill-color);\n",
       "    height: 32px;\n",
       "    padding: 0;\n",
       "    width: 32px;\n",
       "  }\n",
       "\n",
       "  .colab-df-quickchart:hover {\n",
       "    background-color: var(--hover-bg-color);\n",
       "    box-shadow: 0 1px 2px rgba(60, 64, 67, 0.3), 0 1px 3px 1px rgba(60, 64, 67, 0.15);\n",
       "    fill: var(--button-hover-fill-color);\n",
       "  }\n",
       "\n",
       "  .colab-df-quickchart-complete:disabled,\n",
       "  .colab-df-quickchart-complete:disabled:hover {\n",
       "    background-color: var(--disabled-bg-color);\n",
       "    fill: var(--disabled-fill-color);\n",
       "    box-shadow: none;\n",
       "  }\n",
       "\n",
       "  .colab-df-spinner {\n",
       "    border: 2px solid var(--fill-color);\n",
       "    border-color: transparent;\n",
       "    border-bottom-color: var(--fill-color);\n",
       "    animation:\n",
       "      spin 1s steps(1) infinite;\n",
       "  }\n",
       "\n",
       "  @keyframes spin {\n",
       "    0% {\n",
       "      border-color: transparent;\n",
       "      border-bottom-color: var(--fill-color);\n",
       "      border-left-color: var(--fill-color);\n",
       "    }\n",
       "    20% {\n",
       "      border-color: transparent;\n",
       "      border-left-color: var(--fill-color);\n",
       "      border-top-color: var(--fill-color);\n",
       "    }\n",
       "    30% {\n",
       "      border-color: transparent;\n",
       "      border-left-color: var(--fill-color);\n",
       "      border-top-color: var(--fill-color);\n",
       "      border-right-color: var(--fill-color);\n",
       "    }\n",
       "    40% {\n",
       "      border-color: transparent;\n",
       "      border-right-color: var(--fill-color);\n",
       "      border-top-color: var(--fill-color);\n",
       "    }\n",
       "    60% {\n",
       "      border-color: transparent;\n",
       "      border-right-color: var(--fill-color);\n",
       "    }\n",
       "    80% {\n",
       "      border-color: transparent;\n",
       "      border-right-color: var(--fill-color);\n",
       "      border-bottom-color: var(--fill-color);\n",
       "    }\n",
       "    90% {\n",
       "      border-color: transparent;\n",
       "      border-bottom-color: var(--fill-color);\n",
       "    }\n",
       "  }\n",
       "</style>\n",
       "\n",
       "  <script>\n",
       "    async function quickchart(key) {\n",
       "      const quickchartButtonEl =\n",
       "        document.querySelector('#' + key + ' button');\n",
       "      quickchartButtonEl.disabled = true;  // To prevent multiple clicks.\n",
       "      quickchartButtonEl.classList.add('colab-df-spinner');\n",
       "      try {\n",
       "        const charts = await google.colab.kernel.invokeFunction(\n",
       "            'suggestCharts', [key], {});\n",
       "      } catch (error) {\n",
       "        console.error('Error during call to suggestCharts:', error);\n",
       "      }\n",
       "      quickchartButtonEl.classList.remove('colab-df-spinner');\n",
       "      quickchartButtonEl.classList.add('colab-df-quickchart-complete');\n",
       "    }\n",
       "    (() => {\n",
       "      let quickchartButtonEl =\n",
       "        document.querySelector('#df-92f0f72a-7423-4f57-89d6-d92ca69d22fa button');\n",
       "      quickchartButtonEl.style.display =\n",
       "        google.colab.kernel.accessAllowed ? 'block' : 'none';\n",
       "    })();\n",
       "  </script>\n",
       "</div>\n",
       "\n",
       "    </div>\n",
       "  </div>\n"
      ],
      "text/plain": [
       "   user_id  song_id  play_count            title  \\\n",
       "0    54961      153           1         The Cove   \n",
       "1    54961      413           2  Entre Dos Aguas   \n",
       "2    54961      736           1         Stronger   \n",
       "4    54961      750           1   Constellations   \n",
       "5    54961     1188           1     Learn To Fly   \n",
       "\n",
       "                         release    artist_name  year  \n",
       "0             Thicker Than Water   Jack Johnson     0  \n",
       "1            Flamenco Para Niños  Paco De Lucia  1976  \n",
       "2                     Graduation     Kanye West  2007  \n",
       "4              In Between Dreams   Jack Johnson  2005  \n",
       "5  There Is Nothing Left To Lose   Foo Fighters  1999  "
      ]
     },
     "execution_count": 10,
     "metadata": {},
     "output_type": "execute_result"
    }
   ],
   "source": [
    "# Apply label encoding for \"user_id\" and \"song_id\"\n",
    "#Initialize LabelEncoder for user_id and song_id\n",
    "user_encoder = LabelEncoder()\n",
    "song_encoder = LabelEncoder()\n",
    "#fit and transform the user_id and song_id columns\n",
    "df['user_id'] = user_encoder.fit_transform(df['user_id'])\n",
    "df['song_id'] = song_encoder.fit_transform(df['song_id'])\n",
    "df.head()"
   ]
  },
  {
   "cell_type": "markdown",
   "metadata": {
    "id": "6Q9EFYwj35Ju"
   },
   "source": [
    "**Think About It:** As the data also contains users who have listened to very few songs and vice versa, is it required to filter the data so that it contains users who have listened to a good count of songs and vice versa?"
   ]
  },
  {
   "cell_type": "markdown",
   "metadata": {
    "id": "gcY5LKAQvk9J"
   },
   "source": [
    "A dataset of size 2000000 rows x 7 columns can be quite large and may require a lot of computing resources to process. This can lead to long processing times and can make it difficult to train and evaluate your model efficiently.\n",
    "In order to address this issue, it may be necessary to trim down your dataset to a more manageable size."
   ]
  },
  {
   "cell_type": "code",
   "execution_count": 11,
   "metadata": {
    "executionInfo": {
     "elapsed": 2464,
     "status": "ok",
     "timestamp": 1728912079748,
     "user": {
      "displayName": "Jayashree Lakshmi",
      "userId": "09309199442259744900"
     },
     "user_tz": 240
    },
    "id": "7GGH9TW0_9uX"
   },
   "outputs": [],
   "source": [
    "# Get the column containing the users\n",
    "users = df.user_id\n",
    "\n",
    "# Create a dictionary that maps users(listeners) to the number of songs that they have listened to\n",
    "playing_count = dict()\n",
    "\n",
    "for user in users:\n",
    "    # If we already have the user, just add 1 to their playing count\n",
    "    if user in playing_count:\n",
    "        playing_count[user] += 1\n",
    "\n",
    "    # Otherwise, set their playing count to 1\n",
    "    else:\n",
    "        playing_count[user] = 1"
   ]
  },
  {
   "cell_type": "code",
   "execution_count": 12,
   "metadata": {
    "executionInfo": {
     "elapsed": 5,
     "status": "ok",
     "timestamp": 1728912079748,
     "user": {
      "displayName": "Jayashree Lakshmi",
      "userId": "09309199442259744900"
     },
     "user_tz": 240
    },
    "id": "-cc6mOK7_9uX"
   },
   "outputs": [],
   "source": [
    "# We want our users to have listened at least 90 songs\n",
    "SONG_COUNT_CUTOFF = 90\n",
    "\n",
    "# Create a list of users who need to be removed\n",
    "remove_users = []\n",
    "\n",
    "for user, num_songs in playing_count.items():\n",
    "\n",
    "    if num_songs < SONG_COUNT_CUTOFF:\n",
    "        remove_users.append(user)\n",
    "\n",
    "df = df.loc[ ~ df.user_id.isin(remove_users)]"
   ]
  },
  {
   "cell_type": "code",
   "execution_count": 13,
   "metadata": {
    "executionInfo": {
     "elapsed": 718,
     "status": "ok",
     "timestamp": 1728912080462,
     "user": {
      "displayName": "Jayashree Lakshmi",
      "userId": "09309199442259744900"
     },
     "user_tz": 240
    },
    "id": "B5BS-Wk5_9uY"
   },
   "outputs": [],
   "source": [
    "# Get the column containing the songs\n",
    "songs = df.song_id\n",
    "\n",
    "# Create a dictionary that maps songs to its number of users(listeners)\n",
    "playing_count = dict()\n",
    "\n",
    "for song in songs:\n",
    "    # If we already have the song, just add 1 to their playing count\n",
    "    if song in playing_count:\n",
    "        playing_count[song] += 1\n",
    "\n",
    "    # Otherwise, set their playing count to 1\n",
    "    else:\n",
    "        playing_count[song] = 1"
   ]
  },
  {
   "cell_type": "code",
   "execution_count": 14,
   "metadata": {
    "executionInfo": {
     "elapsed": 9,
     "status": "ok",
     "timestamp": 1728912080465,
     "user": {
      "displayName": "Jayashree Lakshmi",
      "userId": "09309199442259744900"
     },
     "user_tz": 240
    },
    "id": "_nCtGwGO_9uY"
   },
   "outputs": [],
   "source": [
    "# We want our song to be listened by atleast 120 users to be considred\n",
    "LISTENER_COUNT_CUTOFF = 120\n",
    "\n",
    "remove_songs = []\n",
    "\n",
    "for song, num_users in playing_count.items():\n",
    "    if num_users < LISTENER_COUNT_CUTOFF:\n",
    "        remove_songs.append(song)\n",
    "\n",
    "df_final= df.loc[ ~ df.song_id.isin(remove_songs)]"
   ]
  },
  {
   "cell_type": "markdown",
   "metadata": {
    "id": "c8umLwO3aJ9A"
   },
   "source": [
    "Out of all the songs available, songs with play_count less than or equal to 5 are in almost 90% abundance. So for building the recommendation system let us consider only those songs."
   ]
  },
  {
   "cell_type": "code",
   "execution_count": 15,
   "metadata": {
    "executionInfo": {
     "elapsed": 231,
     "status": "ok",
     "timestamp": 1728912080688,
     "user": {
      "displayName": "Jayashree Lakshmi",
      "userId": "09309199442259744900"
     },
     "user_tz": 240
    },
    "id": "8qaKeoMcGpad"
   },
   "outputs": [],
   "source": [
    "# Keep only records of songs with play_count less than or equal to (<=) 5\n",
    "df_final = df_final[df_final.play_count<=5]"
   ]
  },
  {
   "cell_type": "code",
   "execution_count": 16,
   "metadata": {
    "colab": {
     "base_uri": "https://localhost:8080/"
    },
    "executionInfo": {
     "elapsed": 16,
     "status": "ok",
     "timestamp": 1728912080689,
     "user": {
      "displayName": "Jayashree Lakshmi",
      "userId": "09309199442259744900"
     },
     "user_tz": 240
    },
    "id": "aL1JZ00o5JtQ",
    "outputId": "f7f6926f-e6b9-4d34-e5eb-6bcbee00b52f"
   },
   "outputs": [
    {
     "data": {
      "text/plain": [
       "(138301, 7)"
      ]
     },
     "execution_count": 16,
     "metadata": {},
     "output_type": "execute_result"
    }
   ],
   "source": [
    "# Check the shape of the data\n",
    "df_final.shape"
   ]
  },
  {
   "cell_type": "markdown",
   "metadata": {
    "id": "uZcr1Eke2T9W"
   },
   "source": [
    "## **Exploratory Data Analysis**"
   ]
  },
  {
   "cell_type": "markdown",
   "metadata": {
    "id": "ByuHmvWDeBJI"
   },
   "source": [
    "### **Let's check the total number of unique users, songs, artists in the data**"
   ]
  },
  {
   "cell_type": "markdown",
   "metadata": {
    "id": "DE_gukSJ2T9W"
   },
   "source": [
    "Total number of unique user id"
   ]
  },
  {
   "cell_type": "code",
   "execution_count": 17,
   "metadata": {
    "colab": {
     "base_uri": "https://localhost:8080/"
    },
    "executionInfo": {
     "elapsed": 12,
     "status": "ok",
     "timestamp": 1728912080689,
     "user": {
      "displayName": "Jayashree Lakshmi",
      "userId": "09309199442259744900"
     },
     "user_tz": 240
    },
    "id": "n5E24_Ec2T9W",
    "outputId": "74a49fc5-aeb0-4183-be1c-cc9de809ec4e"
   },
   "outputs": [
    {
     "data": {
      "text/plain": [
       "3337"
      ]
     },
     "execution_count": 17,
     "metadata": {},
     "output_type": "execute_result"
    }
   ],
   "source": [
    "# Display total number of unique user_id\n",
    "df_final.user_id.nunique()"
   ]
  },
  {
   "cell_type": "markdown",
   "metadata": {
    "id": "wV3BOTdJII-t"
   },
   "source": [
    "Total number of unique song id"
   ]
  },
  {
   "cell_type": "code",
   "execution_count": 18,
   "metadata": {
    "colab": {
     "base_uri": "https://localhost:8080/"
    },
    "executionInfo": {
     "elapsed": 10,
     "status": "ok",
     "timestamp": 1728912080690,
     "user": {
      "displayName": "Jayashree Lakshmi",
      "userId": "09309199442259744900"
     },
     "user_tz": 240
    },
    "id": "5SlpPkIE2T9W",
    "outputId": "8b582f11-e27b-4914-9edb-9a8b66bacf89"
   },
   "outputs": [
    {
     "data": {
      "text/plain": [
       "620"
      ]
     },
     "execution_count": 18,
     "metadata": {},
     "output_type": "execute_result"
    }
   ],
   "source": [
    "# Display total number of unique song_id\n",
    "df_final.song_id.nunique()"
   ]
  },
  {
   "cell_type": "markdown",
   "metadata": {
    "id": "eGXPsCjXVpUW"
   },
   "source": [
    "Total number of unique artists"
   ]
  },
  {
   "cell_type": "code",
   "execution_count": 19,
   "metadata": {
    "colab": {
     "base_uri": "https://localhost:8080/"
    },
    "executionInfo": {
     "elapsed": 255,
     "status": "ok",
     "timestamp": 1728912080938,
     "user": {
      "displayName": "Jayashree Lakshmi",
      "userId": "09309199442259744900"
     },
     "user_tz": 240
    },
    "id": "qSVUwb8h2T9X",
    "outputId": "d6e4733d-f6a0-4268-b2a6-60dd8897c4d3"
   },
   "outputs": [
    {
     "data": {
      "text/plain": [
       "247"
      ]
     },
     "execution_count": 19,
     "metadata": {},
     "output_type": "execute_result"
    }
   ],
   "source": [
    "# Display total number of unique artists\n",
    "df_final.artist_name.nunique()"
   ]
  },
  {
   "cell_type": "markdown",
   "metadata": {
    "id": "bvk-YAo-eGGW"
   },
   "source": [
    "#### **Observations and Insights:** ***[RE-VERIFY]***\n",
    "There are\n",
    "3337 unique users\n",
    "620 unique songs\n",
    "247 unique artists\n",
    "Number of users are more than the songs\n"
   ]
  },
  {
   "cell_type": "markdown",
   "metadata": {
    "id": "rLdIfv22ISBK"
   },
   "source": [
    "### **Let's find out about the most interacted songs and interacted users**"
   ]
  },
  {
   "cell_type": "markdown",
   "metadata": {
    "id": "W3DyN_8atsCx"
   },
   "source": [
    "Most interacted songs"
   ]
  },
  {
   "cell_type": "code",
   "execution_count": 20,
   "metadata": {
    "colab": {
     "base_uri": "https://localhost:8080/",
     "height": 490
    },
    "executionInfo": {
     "elapsed": 8,
     "status": "ok",
     "timestamp": 1728912080939,
     "user": {
      "displayName": "Jayashree Lakshmi",
      "userId": "09309199442259744900"
     },
     "user_tz": 240
    },
    "id": "qWDrvIFF2T9X",
    "outputId": "6d936502-d7f5-4671-fc9e-a126eebb3074"
   },
   "outputs": [
    {
     "data": {
      "text/html": [
       "<div>\n",
       "<style scoped>\n",
       "    .dataframe tbody tr th:only-of-type {\n",
       "        vertical-align: middle;\n",
       "    }\n",
       "\n",
       "    .dataframe tbody tr th {\n",
       "        vertical-align: top;\n",
       "    }\n",
       "\n",
       "    .dataframe thead th {\n",
       "        text-align: right;\n",
       "    }\n",
       "</style>\n",
       "<table border=\"1\" class=\"dataframe\">\n",
       "  <thead>\n",
       "    <tr style=\"text-align: right;\">\n",
       "      <th></th>\n",
       "      <th>count</th>\n",
       "    </tr>\n",
       "    <tr>\n",
       "      <th>song_id</th>\n",
       "      <th></th>\n",
       "    </tr>\n",
       "  </thead>\n",
       "  <tbody>\n",
       "    <tr>\n",
       "      <th>8582</th>\n",
       "      <td>1602</td>\n",
       "    </tr>\n",
       "    <tr>\n",
       "      <th>6293</th>\n",
       "      <td>1264</td>\n",
       "    </tr>\n",
       "    <tr>\n",
       "      <th>3567</th>\n",
       "      <td>982</td>\n",
       "    </tr>\n",
       "    <tr>\n",
       "      <th>4270</th>\n",
       "      <td>960</td>\n",
       "    </tr>\n",
       "    <tr>\n",
       "      <th>1286</th>\n",
       "      <td>920</td>\n",
       "    </tr>\n",
       "    <tr>\n",
       "      <th>...</th>\n",
       "      <td>...</td>\n",
       "    </tr>\n",
       "    <tr>\n",
       "      <th>8324</th>\n",
       "      <td>103</td>\n",
       "    </tr>\n",
       "    <tr>\n",
       "      <th>7747</th>\n",
       "      <td>99</td>\n",
       "    </tr>\n",
       "    <tr>\n",
       "      <th>4831</th>\n",
       "      <td>98</td>\n",
       "    </tr>\n",
       "    <tr>\n",
       "      <th>2796</th>\n",
       "      <td>92</td>\n",
       "    </tr>\n",
       "    <tr>\n",
       "      <th>8801</th>\n",
       "      <td>87</td>\n",
       "    </tr>\n",
       "  </tbody>\n",
       "</table>\n",
       "<p>620 rows × 1 columns</p>\n",
       "</div><br><label><b>dtype:</b> int64</label>"
      ],
      "text/plain": [
       "song_id\n",
       "8582    1602\n",
       "6293    1264\n",
       "3567     982\n",
       "4270     960\n",
       "1286     920\n",
       "        ... \n",
       "8324     103\n",
       "7747      99\n",
       "4831      98\n",
       "2796      92\n",
       "8801      87\n",
       "Name: count, Length: 620, dtype: int64"
      ]
     },
     "execution_count": 20,
     "metadata": {},
     "output_type": "execute_result"
    }
   ],
   "source": [
    "df_final.song_id.value_counts()"
   ]
  },
  {
   "cell_type": "code",
   "execution_count": 21,
   "metadata": {
    "colab": {
     "base_uri": "https://localhost:8080/",
     "height": 580
    },
    "executionInfo": {
     "elapsed": 1562,
     "status": "ok",
     "timestamp": 1728912082495,
     "user": {
      "displayName": "Jayashree Lakshmi",
      "userId": "09309199442259744900"
     },
     "user_tz": 240
    },
    "id": "NsPqweWznBvm",
    "outputId": "c2512c24-c004-4466-87dc-272ff950d099"
   },
   "outputs": [
    {
     "data": {
      "image/png": "[encoded data removed]",
      "text/plain": [
       "<Figure size 1700x700 with 2 Axes>"
      ]
     },
     "metadata": {},
     "output_type": "display_data"
    }
   ],
   "source": [
    "fig,axs = plt.subplots(1,2,figsize=(17,7))\n",
    "sns.boxplot(data=df_final.song_id.value_counts(),ax=axs[0],palette='flare')\n",
    "axs[0].set_xlabel='song_id'\n",
    "axs[0].set_ylabel='play_count'\n",
    "axs[0].set_title='Boxplot of song play_count'\n",
    "\n",
    "sns.boxplot(data=df_final.user_id.value_counts(),ax=axs[1],palette='flare')\n",
    "axs[1].set_xlabel='user_id_id'\n",
    "axs[1].set_ylabel='play_count'\n",
    "axs[1].set_title='Boxplot of user play_count'\n",
    "fig.show()"
   ]
  },
  {
   "cell_type": "markdown",
   "metadata": {
    "id": "nnoXCc9zIV45"
   },
   "source": [
    "Most interacted users"
   ]
  },
  {
   "cell_type": "code",
   "execution_count": 22,
   "metadata": {
    "colab": {
     "base_uri": "https://localhost:8080/",
     "height": 490
    },
    "executionInfo": {
     "elapsed": 10,
     "status": "ok",
     "timestamp": 1728912082495,
     "user": {
      "displayName": "Jayashree Lakshmi",
      "userId": "09309199442259744900"
     },
     "user_tz": 240
    },
    "id": "971EiBdf2T9X",
    "outputId": "22797758-e645-4cd1-97f1-4a2f92f9b824"
   },
   "outputs": [
    {
     "data": {
      "text/html": [
       "<div>\n",
       "<style scoped>\n",
       "    .dataframe tbody tr th:only-of-type {\n",
       "        vertical-align: middle;\n",
       "    }\n",
       "\n",
       "    .dataframe tbody tr th {\n",
       "        vertical-align: top;\n",
       "    }\n",
       "\n",
       "    .dataframe thead th {\n",
       "        text-align: right;\n",
       "    }\n",
       "</style>\n",
       "<table border=\"1\" class=\"dataframe\">\n",
       "  <thead>\n",
       "    <tr style=\"text-align: right;\">\n",
       "      <th></th>\n",
       "      <th>count</th>\n",
       "    </tr>\n",
       "    <tr>\n",
       "      <th>user_id</th>\n",
       "      <th></th>\n",
       "    </tr>\n",
       "  </thead>\n",
       "  <tbody>\n",
       "    <tr>\n",
       "      <th>61472</th>\n",
       "      <td>282</td>\n",
       "    </tr>\n",
       "    <tr>\n",
       "      <th>15733</th>\n",
       "      <td>240</td>\n",
       "    </tr>\n",
       "    <tr>\n",
       "      <th>37049</th>\n",
       "      <td>237</td>\n",
       "    </tr>\n",
       "    <tr>\n",
       "      <th>9570</th>\n",
       "      <td>204</td>\n",
       "    </tr>\n",
       "    <tr>\n",
       "      <th>10763</th>\n",
       "      <td>199</td>\n",
       "    </tr>\n",
       "    <tr>\n",
       "      <th>...</th>\n",
       "      <td>...</td>\n",
       "    </tr>\n",
       "    <tr>\n",
       "      <th>33657</th>\n",
       "      <td>1</td>\n",
       "    </tr>\n",
       "    <tr>\n",
       "      <th>17961</th>\n",
       "      <td>1</td>\n",
       "    </tr>\n",
       "    <tr>\n",
       "      <th>14439</th>\n",
       "      <td>1</td>\n",
       "    </tr>\n",
       "    <tr>\n",
       "      <th>19776</th>\n",
       "      <td>1</td>\n",
       "    </tr>\n",
       "    <tr>\n",
       "      <th>45476</th>\n",
       "      <td>1</td>\n",
       "    </tr>\n",
       "  </tbody>\n",
       "</table>\n",
       "<p>3337 rows × 1 columns</p>\n",
       "</div><br><label><b>dtype:</b> int64</label>"
      ],
      "text/plain": [
       "user_id\n",
       "61472    282\n",
       "15733    240\n",
       "37049    237\n",
       "9570     204\n",
       "10763    199\n",
       "        ... \n",
       "33657      1\n",
       "17961      1\n",
       "14439      1\n",
       "19776      1\n",
       "45476      1\n",
       "Name: count, Length: 3337, dtype: int64"
      ]
     },
     "execution_count": 22,
     "metadata": {},
     "output_type": "execute_result"
    }
   ],
   "source": [
    "df_final.user_id.value_counts()"
   ]
  },
  {
   "cell_type": "markdown",
   "metadata": {
    "id": "tPZRc1e-eyyO"
   },
   "source": [
    "#### **Observations and Insights:**\n",
    "Below are the Top 5 Songs which are listened by many users:\n",
    "\n",
    "* songid - user count\n",
    "* 8582 -1602\n",
    "* 6293 -1264\n",
    "* 3567 -982\n",
    "* 4270 -960\n",
    "* 1286 -920\n",
    "maximum songs have play count more than 600\n",
    "\n",
    "Below are the Top 5 users who listned many songs:\n",
    "\n",
    "* userid -song count\n",
    "* 61472 -282\n",
    "* 15733 -240\n",
    "* 37049 -237\n",
    "* 9570 -204\n",
    "* 10763 -199\n",
    "maximum user have song count more than 150\n",
    "\n",
    "Only few outliers are present\n"
   ]
  },
  {
   "cell_type": "markdown",
   "metadata": {
    "id": "joFF5zndX1Dk"
   },
   "source": [
    "Songs released on yearly basis"
   ]
  },
  {
   "cell_type": "code",
   "execution_count": 23,
   "metadata": {
    "colab": {
     "base_uri": "https://localhost:8080/"
    },
    "executionInfo": {
     "elapsed": 1356,
     "status": "ok",
     "timestamp": 1728912083844,
     "user": {
      "displayName": "Jayashree Lakshmi",
      "userId": "09309199442259744900"
     },
     "user_tz": 240
    },
    "id": "bQp2iVMC2T9Y",
    "outputId": "12ee940b-eee7-402d-bedb-bb65bd5631d3"
   },
   "outputs": [
    {
     "data": {
      "text/plain": [
       "(90,)"
      ]
     },
     "execution_count": 23,
     "metadata": {},
     "output_type": "execute_result"
    }
   ],
   "source": [
    "# Find out the number of songs released in a year, use the songs_df\n",
    "  # Hint: Use groupby function on the 'year' column\n",
    "song_df.groupby('year').count()['title'].shape"
   ]
  },
  {
   "cell_type": "code",
   "execution_count": 24,
   "metadata": {
    "colab": {
     "base_uri": "https://localhost:8080/",
     "height": 1000
    },
    "executionInfo": {
     "elapsed": 3858,
     "status": "ok",
     "timestamp": 1728912087698,
     "user": {
      "displayName": "Jayashree Lakshmi",
      "userId": "09309199442259744900"
     },
     "user_tz": 240
    },
    "id": "bZCkOiAB2T9Y",
    "outputId": "ac0379b1-0746-43b1-bfdb-7f098b722678"
   },
   "outputs": [
    {
     "data": {
      "image/png": "[encoded data removed]",
      "text/plain": [
       "<Figure size 1700x1000 with 1 Axes>"
      ]
     },
     "metadata": {},
     "output_type": "display_data"
    }
   ],
   "source": [
    "# Create a barplot plot with y label as \"number of titles played\" and x -axis year\n",
    "data = song_df.groupby('year')['title'].count().reset_index()\n",
    "# Set the figure size\n",
    "plt.figure(figsize=(17,10))\n",
    "# Set the x label of the plot\n",
    "plt.xlabel('year')\n",
    "# Set the y label of the plot\n",
    "plt.ylabel('Number of titles played')\n",
    "# Set the title of the plot\n",
    "plt.title('Songs released in a year')\n",
    "# Show the plot\n",
    "sns.barplot(x='year', y='title', data=data, order=data['year'].sort_values(),palette='flare')\n",
    "plt.xticks(rotation=90,ha='right')\n",
    "plt.tight_layout()\n",
    "plt.show()"
   ]
  },
  {
   "cell_type": "code",
   "execution_count": 25,
   "metadata": {
    "colab": {
     "base_uri": "https://localhost:8080/",
     "height": 507
    },
    "executionInfo": {
     "elapsed": 835,
     "status": "ok",
     "timestamp": 1728912088529,
     "user": {
      "displayName": "Jayashree Lakshmi",
      "userId": "09309199442259744900"
     },
     "user_tz": 240
    },
    "id": "CYRZ8mGoc15h",
    "outputId": "9e030d07-8c2f-461a-f515-ba7e9a05b591"
   },
   "outputs": [
    {
     "data": {
      "image/png": "[encoded data removed]",
      "text/plain": [
       "<Figure size 1700x500 with 1 Axes>"
      ]
     },
     "metadata": {},
     "output_type": "display_data"
    }
   ],
   "source": [
    "\n",
    "# Create a barplot plot with y label as \"number of titles played\" and x -axis year\n",
    "data_filtered = song_df[song_df['year']>=1990].groupby('year')['title'].count().reset_index()\n",
    "# Set the figure size\n",
    "plt.figure(figsize=(17,5))\n",
    "# Set the x label of the plot\n",
    "plt.xlabel('year')\n",
    "# Set the y label of the plot\n",
    "plt.ylabel('Number of titles played')\n",
    "# Set the title of the plot\n",
    "plt.title('Songs released in a year after 1990')\n",
    "# Show the plot\n",
    "sns.barplot(x='year', y='title', data=data_filtered, order=data_filtered['year'].sort_values(),palette='flare')\n",
    "plt.xticks(rotation=90,ha='right')\n",
    "plt.tight_layout()\n",
    "plt.show()"
   ]
  },
  {
   "cell_type": "markdown",
   "metadata": {
    "id": "VUcXc7ZYfaGl"
   },
   "source": [
    "#### **Observations and Insights:** #\n",
    "We can observe the trend in the above graph, after 1956 people started listening to music and after 1990 most of the people started listening to various songs and during 2006 to 2008 the pcumnt was maximum.\n",
    "\n",
    "Most of tehe data we have is with out year so , we can see the count in 0 has reached maximum."
   ]
  },
  {
   "cell_type": "markdown",
   "metadata": {
    "id": "RtAjyDMioHCp"
   },
   "source": [
    "**Think About It:** What other insights can be drawn using exploratory data analysis?"
   ]
  },
  {
   "cell_type": "code",
   "execution_count": 26,
   "metadata": {
    "colab": {
     "base_uri": "https://localhost:8080/",
     "height": 872
    },
    "executionInfo": {
     "elapsed": 1570,
     "status": "ok",
     "timestamp": 1728912090090,
     "user": {
      "displayName": "Jayashree Lakshmi",
      "userId": "09309199442259744900"
     },
     "user_tz": 240
    },
    "id": "yfuCIrv3IB0C",
    "outputId": "1af08967-6f44-4bba-8d6c-e60380b3b5cd"
   },
   "outputs": [
    {
     "data": {
      "image/png": "[encoded data removed]",
      "text/plain": [
       "<Figure size 2000x1000 with 4 Axes>"
      ]
     },
     "metadata": {},
     "output_type": "display_data"
    }
   ],
   "source": [
    "#Song popularity\n",
    "fig,axs = plt.subplots(2,2,figsize=(20,10))\n",
    "sns.barplot(data=df_final.groupby('song_id').count()['play_count'].sort_values(ascending=False)[:10],ax=axs[0,0],palette='flare')\n",
    "axs[0,0].set_xlabel('song_id')\n",
    "axs[0,0].set_ylabel('play_count')\n",
    "axs[0,0].set_title('Most played songs')\n",
    "\n",
    "sns.barplot(data=df_final.groupby('song_id').count()['play_count'].sort_values(ascending=True)[:10],ax=axs[0,1],palette='flare')\n",
    "axs[0,1].set_xlabel('song_id')\n",
    "axs[0,1].set_ylabel('play_count')\n",
    "axs[0,1].set_title('Least played songs')\n",
    "#Active and inactive users\n",
    "sns.barplot(data=df_final.groupby('user_id').count()['play_count'].sort_values(ascending=False)[:10],ax=axs[1,0],palette='flare')\n",
    "axs[1,0].set_xlabel('user_id')\n",
    "axs[1,0].set_ylabel('play_count')\n",
    "axs[1,0].set_title('Active users')\n",
    "\n",
    "sns.barplot(data=df_final.groupby('user_id').count()['play_count'].sort_values(ascending=True)[:10],ax=axs[1,1],palette='flare')\n",
    "axs[1,1].set_xlabel('user_id')\n",
    "axs[1,1].set_ylabel('play_count')\n",
    "axs[1,1].set_title('Inactive users')\n",
    "\n",
    "plt.show()\n",
    "\n"
   ]
  },
  {
   "cell_type": "code",
   "execution_count": 27,
   "metadata": {
    "colab": {
     "base_uri": "https://localhost:8080/",
     "height": 895
    },
    "executionInfo": {
     "elapsed": 740,
     "status": "ok",
     "timestamp": 1728912090808,
     "user": {
      "displayName": "Jayashree Lakshmi",
      "userId": "09309199442259744900"
     },
     "user_tz": 240
    },
    "id": "fMskYJdbIm-w",
    "outputId": "acc486e6-60c3-4fc4-e86f-c85f9ff3a74d"
   },
   "outputs": [
    {
     "data": {
      "image/png": "[encoded data removed]",
      "text/plain": [
       "<Figure size 2000x700 with 2 Axes>"
      ]
     },
     "metadata": {},
     "output_type": "display_data"
    }
   ],
   "source": [
    "#Most popular artists and least popular artists\n",
    "fig,axs = plt.subplots(1,2,figsize=(20,7))\n",
    "sns.barplot(data=df_final.groupby('artist_name').count()['play_count'].sort_values(ascending=False)[:10],ax=axs[0],palette='flare')\n",
    "axs[0].set_xlabel('artist_name')\n",
    "axs[0].set_ylabel('play_count')\n",
    "axs[0].set_title('Most popular artist')\n",
    "\n",
    "\n",
    "sns.barplot(data=df_final.groupby('artist_name').count()['play_count'].sort_values(ascending=True)[:10],ax=axs[1],palette='flare')\n",
    "axs[1].set_xlabel('artist_name')\n",
    "axs[1].set_ylabel('play_count')\n",
    "axs[1].set_title('Less popular artist')\n",
    "plt.tight_layout()\n",
    "plt.xticks(rotation=45,ha='right')\n",
    "plt.show()"
   ]
  },
  {
   "cell_type": "code",
   "execution_count": 28,
   "metadata": {
    "colab": {
     "base_uri": "https://localhost:8080/",
     "height": 623
    },
    "executionInfo": {
     "elapsed": 840,
     "status": "ok",
     "timestamp": 1728912091642,
     "user": {
      "displayName": "Jayashree Lakshmi",
      "userId": "09309199442259744900"
     },
     "user_tz": 240
    },
    "id": "k06akJwuh9dC",
    "outputId": "ff5903ec-1a5f-4c68-b3e2-f6bb7af5666c"
   },
   "outputs": [
    {
     "data": {
      "text/plain": [
       "Text(37.722222222222214, 0.5, 'Artist Hotness (Total Play Count)')"
      ]
     },
     "execution_count": 28,
     "metadata": {},
     "output_type": "execute_result"
    },
    {
     "data": {
      "image/png": "[encoded data removed]",
      "text/plain": [
       "<Figure size 600x600 with 3 Axes>"
      ]
     },
     "metadata": {},
     "output_type": "display_data"
    }
   ],
   "source": [
    "\n",
    "artist_stats = df_final.groupby('artist_name').agg(\n",
    "    artist_hotness=('play_count', 'sum'),   # Total play count for hotness\n",
    "    artist_familiarity=('user_id', 'nunique')  # Unique user count for familiarity\n",
    ").reset_index()\n",
    "sns.jointplot(x='artist_familiarity', y='artist_hotness',data=artist_stats, kind='scatter', color='blue', marginal_kws=dict(bins=50, fill=True),palette='flare')\n",
    "plt.title('Artist Hotness vs Familiarity')\n",
    "plt.xlabel('Artist Familiarity (Unique Users)')\n",
    "plt.ylabel('Artist Hotness (Total Play Count)')\n"
   ]
  },
  {
   "cell_type": "markdown",
   "metadata": {
    "id": "4VzungT3uxRd"
   },
   "source": [
    "#### **Observations and Insights:** #\n",
    "In the above graph we have considered only top 10 populars\n",
    "* __Song popularity:__\n",
    "  * All the top 10 songs are having playcount morethan 700\n",
    "  * songid 8582 has maximum playcount\n",
    "  * Least played or less popular songs has more than 90 counts\n",
    "  * songid 8801 is the least played song\n",
    "\n",
    "\n",
    "* __Active and inactive users:__\n",
    "  * Majority of the top 10 active users have playcount more than 180 playcount\n",
    "  * active users is 61472 userid\n",
    "  * Majority of the top 10 inactive users have playcount 1\n",
    "  * there are 6 top inactive users who have playcount 1\n",
    "\n",
    "* __Most popular artists and least popular artists:__\n",
    "  * Popular artist is coldplay\n",
    "  * Less popular artist is old 97s\n",
    "\n",
    "\n"
   ]
  },
  {
   "cell_type": "markdown",
   "metadata": {
    "id": "OWO4C8KsK_5e"
   },
   "source": [
    "Now that we have explored the data, let's apply different algorithms to build recommendation systems.\n",
    "\n",
    "**Note:** Use the shorter version of the data, i.e., the data after the cutoffs as used in Milestone 1."
   ]
  },
  {
   "cell_type": "markdown",
   "metadata": {
    "id": "9VThYg7voGIz"
   },
   "source": [
    "## Building various models"
   ]
  },
  {
   "cell_type": "markdown",
   "metadata": {
    "id": "Ituk9wA4Idib"
   },
   "source": [
    "### **Popularity-Based Recommendation Systems**"
   ]
  },
  {
   "cell_type": "markdown",
   "metadata": {
    "id": "462hsbxaI1ED"
   },
   "source": [
    "Let's take the count and sum of play counts of the songs and build the popularity recommendation systems based on the sum of play counts."
   ]
  },
  {
   "cell_type": "code",
   "execution_count": 29,
   "metadata": {
    "executionInfo": {
     "elapsed": 24,
     "status": "ok",
     "timestamp": 1728912091643,
     "user": {
      "displayName": "Jayashree Lakshmi",
      "userId": "09309199442259744900"
     },
     "user_tz": 240
    },
    "id": "UXhBZlDE-jEu"
   },
   "outputs": [],
   "source": [
    "# Calculating average play_count\n",
    "       # Hint: Use groupby function on the song_id column\n",
    "average_count = df_final.groupby('song_id')['play_count'].mean()\n",
    "# Calculating the frequency a song is played\n",
    "      # Hint: Use groupby function on the song_id column\n",
    "play_freq = df_final.groupby('song_id')['play_count'].count()\n"
   ]
  },
  {
   "cell_type": "code",
   "execution_count": 30,
   "metadata": {
    "colab": {
     "base_uri": "https://localhost:8080/",
     "height": 238
    },
    "executionInfo": {
     "elapsed": 24,
     "status": "ok",
     "timestamp": 1728912091643,
     "user": {
      "displayName": "Jayashree Lakshmi",
      "userId": "09309199442259744900"
     },
     "user_tz": 240
    },
    "id": "v2XYdXvWdyys",
    "outputId": "3ff30006-4dda-4e63-a6d8-b4333534f20e"
   },
   "outputs": [
    {
     "data": {
      "application/vnd.google.colaboratory.intrinsic+json": {
       "summary": "{\n  \"name\": \"final_play\",\n  \"rows\": 620,\n  \"fields\": [\n    {\n      \"column\": \"song_id\",\n      \"properties\": {\n        \"dtype\": \"number\",\n        \"std\": 2894,\n        \"min\": 21,\n        \"max\": 9989,\n        \"num_unique_values\": 620,\n        \"samples\": [\n          693,\n          9186,\n          1180\n        ],\n        \"semantic_type\": \"\",\n        \"description\": \"\"\n      }\n    },\n    {\n      \"column\": \"avg_count\",\n      \"properties\": {\n        \"dtype\": \"number\",\n        \"std\": 0.21747132210876877,\n        \"min\": 1.2389937106918238,\n        \"max\": 3.36697247706422,\n        \"num_unique_values\": 585,\n        \"samples\": [\n          2.1682027649769586,\n          1.4216867469879517,\n          1.7064676616915422\n        ],\n        \"semantic_type\": \"\",\n        \"description\": \"\"\n      }\n    },\n    {\n      \"column\": \"play_freq\",\n      \"properties\": {\n        \"dtype\": \"number\",\n        \"std\": 156,\n        \"min\": 87,\n        \"max\": 1602,\n        \"num_unique_values\": 262,\n        \"samples\": [\n          332,\n          343,\n          634\n        ],\n        \"semantic_type\": \"\",\n        \"description\": \"\"\n      }\n    }\n  ]\n}",
       "type": "dataframe",
       "variable_name": "final_play"
      },
      "text/html": [
       "\n",
       "  <div id=\"df-54e0ef7e-77d2-4b6f-9681-321d441e902d\" class=\"colab-df-container\">\n",
       "    <div>\n",
       "<style scoped>\n",
       "    .dataframe tbody tr th:only-of-type {\n",
       "        vertical-align: middle;\n",
       "    }\n",
       "\n",
       "    .dataframe tbody tr th {\n",
       "        vertical-align: top;\n",
       "    }\n",
       "\n",
       "    .dataframe thead th {\n",
       "        text-align: right;\n",
       "    }\n",
       "</style>\n",
       "<table border=\"1\" class=\"dataframe\">\n",
       "  <thead>\n",
       "    <tr style=\"text-align: right;\">\n",
       "      <th></th>\n",
       "      <th>avg_count</th>\n",
       "      <th>play_freq</th>\n",
       "    </tr>\n",
       "    <tr>\n",
       "      <th>song_id</th>\n",
       "      <th></th>\n",
       "      <th></th>\n",
       "    </tr>\n",
       "  </thead>\n",
       "  <tbody>\n",
       "    <tr>\n",
       "      <th>21</th>\n",
       "      <td>1.631387</td>\n",
       "      <td>274</td>\n",
       "    </tr>\n",
       "    <tr>\n",
       "      <th>22</th>\n",
       "      <td>1.464286</td>\n",
       "      <td>140</td>\n",
       "    </tr>\n",
       "    <tr>\n",
       "      <th>50</th>\n",
       "      <td>1.616822</td>\n",
       "      <td>107</td>\n",
       "    </tr>\n",
       "    <tr>\n",
       "      <th>52</th>\n",
       "      <td>1.715232</td>\n",
       "      <td>453</td>\n",
       "    </tr>\n",
       "    <tr>\n",
       "      <th>62</th>\n",
       "      <td>1.727273</td>\n",
       "      <td>121</td>\n",
       "    </tr>\n",
       "  </tbody>\n",
       "</table>\n",
       "</div>\n",
       "    <div class=\"colab-df-buttons\">\n",
       "\n",
       "  <div class=\"colab-df-container\">\n",
       "    <button class=\"colab-df-convert\" onclick=\"convertToInteractive('df-54e0ef7e-77d2-4b6f-9681-321d441e902d')\"\n",
       "            title=\"Convert this dataframe to an interactive table.\"\n",
       "            style=\"display:none;\">\n",
       "\n",
       "  <svg xmlns=\"http://www.w3.org/2000/svg\" height=\"24px\" viewBox=\"0 -960 960 960\">\n",
       "    <path d=\"M120-120v-720h720v720H120Zm60-500h600v-160H180v160Zm220 220h160v-160H400v160Zm0 220h160v-160H400v160ZM180-400h160v-160H180v160Zm440 0h160v-160H620v160ZM180-180h160v-160H180v160Zm440 0h160v-160H620v160Z\"/>\n",
       "  </svg>\n",
       "    </button>\n",
       "\n",
       "  <style>\n",
       "    .colab-df-container {\n",
       "      display:flex;\n",
       "      gap: 12px;\n",
       "    }\n",
       "\n",
       "    .colab-df-convert {\n",
       "      background-color: #E8F0FE;\n",
       "      border: none;\n",
       "      border-radius: 50%;\n",
       "      cursor: pointer;\n",
       "      display: none;\n",
       "      fill: #1967D2;\n",
       "      height: 32px;\n",
       "      padding: 0 0 0 0;\n",
       "      width: 32px;\n",
       "    }\n",
       "\n",
       "    .colab-df-convert:hover {\n",
       "      background-color: #E2EBFA;\n",
       "      box-shadow: 0px 1px 2px rgba(60, 64, 67, 0.3), 0px 1px 3px 1px rgba(60, 64, 67, 0.15);\n",
       "      fill: #174EA6;\n",
       "    }\n",
       "\n",
       "    .colab-df-buttons div {\n",
       "      margin-bottom: 4px;\n",
       "    }\n",
       "\n",
       "    [theme=dark] .colab-df-convert {\n",
       "      background-color: #3B4455;\n",
       "      fill: #D2E3FC;\n",
       "    }\n",
       "\n",
       "    [theme=dark] .colab-df-convert:hover {\n",
       "      background-color: #434B5C;\n",
       "      box-shadow: 0px 1px 3px 1px rgba(0, 0, 0, 0.15);\n",
       "      filter: drop-shadow(0px 1px 2px rgba(0, 0, 0, 0.3));\n",
       "      fill: #FFFFFF;\n",
       "    }\n",
       "  </style>\n",
       "\n",
       "    <script>\n",
       "      const buttonEl =\n",
       "        document.querySelector('#df-54e0ef7e-77d2-4b6f-9681-321d441e902d button.colab-df-convert');\n",
       "      buttonEl.style.display =\n",
       "        google.colab.kernel.accessAllowed ? 'block' : 'none';\n",
       "\n",
       "      async function convertToInteractive(key) {\n",
       "        const element = document.querySelector('#df-54e0ef7e-77d2-4b6f-9681-321d441e902d');\n",
       "        const dataTable =\n",
       "          await google.colab.kernel.invokeFunction('convertToInteractive',\n",
       "                                                    [key], {});\n",
       "        if (!dataTable) return;\n",
       "\n",
       "        const docLinkHtml = 'Like what you see? Visit the ' +\n",
       "          '<a target=\"_blank\" href=https://colab.research.google.com/notebooks/data_table.ipynb>data table notebook</a>'\n",
       "          + ' to learn more about interactive tables.';\n",
       "        element.innerHTML = '';\n",
       "        dataTable['output_type'] = 'display_data';\n",
       "        await google.colab.output.renderOutput(dataTable, element);\n",
       "        const docLink = document.createElement('div');\n",
       "        docLink.innerHTML = docLinkHtml;\n",
       "        element.appendChild(docLink);\n",
       "      }\n",
       "    </script>\n",
       "  </div>\n",
       "\n",
       "\n",
       "<div id=\"df-b1c17ec9-8575-464f-8c6b-535a897ffe66\">\n",
       "  <button class=\"colab-df-quickchart\" onclick=\"quickchart('df-b1c17ec9-8575-464f-8c6b-535a897ffe66')\"\n",
       "            title=\"Suggest charts\"\n",
       "            style=\"display:none;\">\n",
       "\n",
       "<svg xmlns=\"http://www.w3.org/2000/svg\" height=\"24px\"viewBox=\"0 0 24 24\"\n",
       "     width=\"24px\">\n",
       "    <g>\n",
       "        <path d=\"M19 3H5c-1.1 0-2 .9-2 2v14c0 1.1.9 2 2 2h14c1.1 0 2-.9 2-2V5c0-1.1-.9-2-2-2zM9 17H7v-7h2v7zm4 0h-2V7h2v10zm4 0h-2v-4h2v4z\"/>\n",
       "    </g>\n",
       "</svg>\n",
       "  </button>\n",
       "\n",
       "<style>\n",
       "  .colab-df-quickchart {\n",
       "      --bg-color: #E8F0FE;\n",
       "      --fill-color: #1967D2;\n",
       "      --hover-bg-color: #E2EBFA;\n",
       "      --hover-fill-color: #174EA6;\n",
       "      --disabled-fill-color: #AAA;\n",
       "      --disabled-bg-color: #DDD;\n",
       "  }\n",
       "\n",
       "  [theme=dark] .colab-df-quickchart {\n",
       "      --bg-color: #3B4455;\n",
       "      --fill-color: #D2E3FC;\n",
       "      --hover-bg-color: #434B5C;\n",
       "      --hover-fill-color: #FFFFFF;\n",
       "      --disabled-bg-color: #3B4455;\n",
       "      --disabled-fill-color: #666;\n",
       "  }\n",
       "\n",
       "  .colab-df-quickchart {\n",
       "    background-color: var(--bg-color);\n",
       "    border: none;\n",
       "    border-radius: 50%;\n",
       "    cursor: pointer;\n",
       "    display: none;\n",
       "    fill: var(--fill-color);\n",
       "    height: 32px;\n",
       "    padding: 0;\n",
       "    width: 32px;\n",
       "  }\n",
       "\n",
       "  .colab-df-quickchart:hover {\n",
       "    background-color: var(--hover-bg-color);\n",
       "    box-shadow: 0 1px 2px rgba(60, 64, 67, 0.3), 0 1px 3px 1px rgba(60, 64, 67, 0.15);\n",
       "    fill: var(--button-hover-fill-color);\n",
       "  }\n",
       "\n",
       "  .colab-df-quickchart-complete:disabled,\n",
       "  .colab-df-quickchart-complete:disabled:hover {\n",
       "    background-color: var(--disabled-bg-color);\n",
       "    fill: var(--disabled-fill-color);\n",
       "    box-shadow: none;\n",
       "  }\n",
       "\n",
       "  .colab-df-spinner {\n",
       "    border: 2px solid var(--fill-color);\n",
       "    border-color: transparent;\n",
       "    border-bottom-color: var(--fill-color);\n",
       "    animation:\n",
       "      spin 1s steps(1) infinite;\n",
       "  }\n",
       "\n",
       "  @keyframes spin {\n",
       "    0% {\n",
       "      border-color: transparent;\n",
       "      border-bottom-color: var(--fill-color);\n",
       "      border-left-color: var(--fill-color);\n",
       "    }\n",
       "    20% {\n",
       "      border-color: transparent;\n",
       "      border-left-color: var(--fill-color);\n",
       "      border-top-color: var(--fill-color);\n",
       "    }\n",
       "    30% {\n",
       "      border-color: transparent;\n",
       "      border-left-color: var(--fill-color);\n",
       "      border-top-color: var(--fill-color);\n",
       "      border-right-color: var(--fill-color);\n",
       "    }\n",
       "    40% {\n",
       "      border-color: transparent;\n",
       "      border-right-color: var(--fill-color);\n",
       "      border-top-color: var(--fill-color);\n",
       "    }\n",
       "    60% {\n",
       "      border-color: transparent;\n",
       "      border-right-color: var(--fill-color);\n",
       "    }\n",
       "    80% {\n",
       "      border-color: transparent;\n",
       "      border-right-color: var(--fill-color);\n",
       "      border-bottom-color: var(--fill-color);\n",
       "    }\n",
       "    90% {\n",
       "      border-color: transparent;\n",
       "      border-bottom-color: var(--fill-color);\n",
       "    }\n",
       "  }\n",
       "</style>\n",
       "\n",
       "  <script>\n",
       "    async function quickchart(key) {\n",
       "      const quickchartButtonEl =\n",
       "        document.querySelector('#' + key + ' button');\n",
       "      quickchartButtonEl.disabled = true;  // To prevent multiple clicks.\n",
       "      quickchartButtonEl.classList.add('colab-df-spinner');\n",
       "      try {\n",
       "        const charts = await google.colab.kernel.invokeFunction(\n",
       "            'suggestCharts', [key], {});\n",
       "      } catch (error) {\n",
       "        console.error('Error during call to suggestCharts:', error);\n",
       "      }\n",
       "      quickchartButtonEl.classList.remove('colab-df-spinner');\n",
       "      quickchartButtonEl.classList.add('colab-df-quickchart-complete');\n",
       "    }\n",
       "    (() => {\n",
       "      let quickchartButtonEl =\n",
       "        document.querySelector('#df-b1c17ec9-8575-464f-8c6b-535a897ffe66 button');\n",
       "      quickchartButtonEl.style.display =\n",
       "        google.colab.kernel.accessAllowed ? 'block' : 'none';\n",
       "    })();\n",
       "  </script>\n",
       "</div>\n",
       "\n",
       "    </div>\n",
       "  </div>\n"
      ],
      "text/plain": [
       "         avg_count  play_freq\n",
       "song_id                      \n",
       "21        1.631387        274\n",
       "22        1.464286        140\n",
       "50        1.616822        107\n",
       "52        1.715232        453\n",
       "62        1.727273        121"
      ]
     },
     "execution_count": 30,
     "metadata": {},
     "output_type": "execute_result"
    }
   ],
   "source": [
    "# Making a dataframe with the average_count and play_freq\n",
    "final_play = pd.DataFrame({'avg_count':average_count,'play_freq':play_freq})\n",
    "# Let us see the first five records of the final_play dataset\n",
    "final_play.head()"
   ]
  },
  {
   "cell_type": "markdown",
   "metadata": {
    "id": "WnCT-A7RK_5g"
   },
   "source": [
    "Now, let's create a function to find the top n songs for a recommendation based on the average play count of song. We can also add a threshold for a minimum number of playcounts for a song to be considered for recommendation."
   ]
  },
  {
   "cell_type": "code",
   "execution_count": 31,
   "metadata": {
    "executionInfo": {
     "elapsed": 21,
     "status": "ok",
     "timestamp": 1728912091643,
     "user": {
      "displayName": "Jayashree Lakshmi",
      "userId": "09309199442259744900"
     },
     "user_tz": 240
    },
    "id": "QiT9FV3GNCrb"
   },
   "outputs": [],
   "source": [
    "# Build the function to find top n songs\n",
    "def top_n_songs(data, n, min_playcounts):\n",
    "  #Finding songs with minimum number of playcounts\n",
    "  recommendations = data['play_freq']>min_playcounts\n",
    "  #sorting values with respect to average count\n",
    "  recommendations.sort_values(ascending=False,inplace=True)\n",
    "  return recommendations.index[:n]"
   ]
  },
  {
   "cell_type": "code",
   "execution_count": 32,
   "metadata": {
    "colab": {
     "base_uri": "https://localhost:8080/"
    },
    "executionInfo": {
     "elapsed": 21,
     "status": "ok",
     "timestamp": 1728912091643,
     "user": {
      "displayName": "Jayashree Lakshmi",
      "userId": "09309199442259744900"
     },
     "user_tz": 240
    },
    "id": "GpZt_BeXgz4F",
    "outputId": "bcc1437f-537d-4d4c-a753-9d51e2784c95"
   },
   "outputs": [
    {
     "data": {
      "text/plain": [
       "Index([21, 6646, 6500, 6525, 6572, 6587, 6618, 6630, 6636, 6682], dtype='int64', name='song_id')"
      ]
     },
     "execution_count": 32,
     "metadata": {},
     "output_type": "execute_result"
    }
   ],
   "source": [
    "# Recommend top 10 songs using the function defined above\n",
    "top_n_songs(final_play,10,50)"
   ]
  },
  {
   "cell_type": "markdown",
   "metadata": {
    "id": "gf13HrPPJeWT"
   },
   "source": [
    "### **User User Similarity-Based Collaborative Filtering**"
   ]
  },
  {
   "cell_type": "markdown",
   "metadata": {
    "id": "ROcEpduohdua"
   },
   "source": [
    "To build the user-user-similarity-based and subsequent models we will use the \"surprise\" library."
   ]
  },
  {
   "cell_type": "code",
   "execution_count": 33,
   "metadata": {
    "colab": {
     "base_uri": "https://localhost:8080/"
    },
    "executionInfo": {
     "elapsed": 2711,
     "status": "ok",
     "timestamp": 1728912094341,
     "user": {
      "displayName": "Jayashree Lakshmi",
      "userId": "09309199442259744900"
     },
     "user_tz": 240
    },
    "id": "aKLrKn8IfGjk",
    "outputId": "3332d799-ac63-4e15-b7cd-8aa8ace09692"
   },
   "outputs": [
    {
     "name": "stdout",
     "output_type": "stream",
     "text": [
      "Requirement already satisfied: surprise in /usr/local/lib/python3.10/dist-packages (0.1)\n",
      "Requirement already satisfied: scikit-surprise in /usr/local/lib/python3.10/dist-packages (from surprise) (1.1.4)\n",
      "Requirement already satisfied: joblib>=1.2.0 in /usr/local/lib/python3.10/dist-packages (from scikit-surprise->surprise) (1.4.2)\n",
      "Requirement already satisfied: numpy>=1.19.5 in /usr/local/lib/python3.10/dist-packages (from scikit-surprise->surprise) (1.26.4)\n",
      "Requirement already satisfied: scipy>=1.6.0 in /usr/local/lib/python3.10/dist-packages (from scikit-surprise->surprise) (1.13.1)\n"
     ]
    }
   ],
   "source": [
    "# Install the surprise package using pip. Uncomment and run the below code to do the same\n",
    "\n",
    "!pip install surprise"
   ]
  },
  {
   "cell_type": "code",
   "execution_count": 34,
   "metadata": {
    "executionInfo": {
     "elapsed": 5,
     "status": "ok",
     "timestamp": 1728912094341,
     "user": {
      "displayName": "Jayashree Lakshmi",
      "userId": "09309199442259744900"
     },
     "user_tz": 240
    },
    "id": "UJ1wEylUpexj"
   },
   "outputs": [],
   "source": [
    "# Import necessary libraries\n",
    "\n",
    "# To compute the accuracy of models\n",
    "from surprise import accuracy\n",
    "\n",
    "# This class is used to parse a file containing play_counts, data should be in structure - user; item; play_count\n",
    "from surprise.reader import Reader\n",
    "\n",
    "# Class for loading datasets\n",
    "from surprise.dataset import Dataset\n",
    "\n",
    "# For tuning model hyperparameters\n",
    "from surprise.model_selection import GridSearchCV\n",
    "\n",
    "# For splitting the data in train and test dataset\n",
    "from surprise.model_selection import train_test_split\n",
    "\n",
    "# For implementing similarity-based recommendation system\n",
    "from surprise.prediction_algorithms.knns import KNNBasic\n",
    "\n",
    "# For implementing matrix factorization based recommendation system\n",
    "from surprise.prediction_algorithms.matrix_factorization import SVD\n",
    "\n",
    "# For implementing KFold cross-validation\n",
    "from surprise.model_selection import KFold\n",
    "\n",
    "# For implementing clustering-based recommendation system\n",
    "from surprise import CoClustering"
   ]
  },
  {
   "cell_type": "markdown",
   "metadata": {
    "id": "jBW4BUhWTsnm"
   },
   "source": [
    "### Some useful functions"
   ]
  },
  {
   "cell_type": "markdown",
   "metadata": {
    "id": "ZhFa_4aHHchr"
   },
   "source": [
    "Below is the function to calculate precision@k and recall@k, RMSE, and F1_Score@k to evaluate the model performance."
   ]
  },
  {
   "cell_type": "markdown",
   "metadata": {
    "id": "ZOvOgjGWrMVV"
   },
   "source": [
    "**Think About It:** Which metric should be used for this problem to compare different models?"
   ]
  },
  {
   "cell_type": "code",
   "execution_count": 35,
   "metadata": {
    "executionInfo": {
     "elapsed": 6,
     "status": "ok",
     "timestamp": 1728912094342,
     "user": {
      "displayName": "Jayashree Lakshmi",
      "userId": "09309199442259744900"
     },
     "user_tz": 240
    },
    "id": "Rxn-GahOTsnm"
   },
   "outputs": [],
   "source": [
    "def precision_recall_at_k(model, k=30, threshold=1.5):\n",
    "    \"\"\"Return precision and recall at k metrics for each user\"\"\"\n",
    "\n",
    "    # First map the predictions to each user.\n",
    "    user_est_true = defaultdict(list)\n",
    "\n",
    "    #Making predictions on the test data\n",
    "    predictions = model.test(testset)\n",
    "\n",
    "    for uid, _, true_r, est, _ in predictions:\n",
    "        user_est_true[uid].append((est, true_r))\n",
    "\n",
    "    precisions = dict()\n",
    "    recalls = dict()\n",
    "    for uid, playing_count in user_est_true.items():\n",
    "\n",
    "        # Sort play count by estimated value\n",
    "        playing_count.sort(key=lambda x: x[0], reverse=True)\n",
    "\n",
    "        # Number of relevant items\n",
    "        n_rel = sum((true_r >= threshold) for (_, true_r) in playing_count)\n",
    "\n",
    "        # Number of recommended items in top k\n",
    "        n_rec_k = sum((est >= threshold) for (est, _) in playing_count[:k])\n",
    "\n",
    "        # Number of relevant and recommended items in top k\n",
    "        n_rel_and_rec_k = sum(((true_r >= threshold) and (est >= threshold))\n",
    "                              for (est, true_r) in playing_count[:k])\n",
    "\n",
    "        # Precision@K: Proportion of recommended items that are relevant\n",
    "        # When n_rec_k is 0, Precision is undefined. We here set Precision to 0 when n_rec_k is 0.\n",
    "\n",
    "        precisions[uid] = n_rel_and_rec_k / n_rec_k if n_rec_k != 0 else 0\n",
    "\n",
    "        # Recall@K: Proportion of relevant items that are recommended\n",
    "        # When n_rel is 0, Recall is undefined. We here set Recall to 0 when n_rel is 0.\n",
    "\n",
    "        recalls[uid] = n_rel_and_rec_k / n_rel if n_rel != 0 else 0\n",
    "\n",
    "    #Mean of all the predicted precisions are calculated.\n",
    "    precision = round((sum(prec for prec in precisions.values()) / len(precisions)),3)\n",
    "    #Mean of all the predicted recalls are calculated.\n",
    "    recall = round((sum(rec for rec in recalls.values()) / len(recalls)),3)\n",
    "\n",
    "    accuracy.rmse(predictions)\n",
    "    print('Precision: ', precision) #Command to print the overall precision\n",
    "    print('Recall: ', recall) #Command to print the overall recall\n",
    "    print('F_1 score: ', round((2*precision*recall)/(precision+recall),3)) # Formula to compute the F-1 score."
   ]
  },
  {
   "cell_type": "markdown",
   "metadata": {
    "id": "PcmLRxH4IjfG"
   },
   "source": [
    "**Think About It:** In the function precision_recall_at_k above the threshold value used is 1.5. How precision and recall are affected by changing the threshold? What is the intuition behind using the threshold value of 1.5?"
   ]
  },
  {
   "cell_type": "markdown",
   "metadata": {
    "id": "bB3gIdrFaJ9Q"
   },
   "source": [
    "Below we are loading the **dataset**, which is a **pandas dataframe**, into a **different format called `surprise.dataset.DatasetAutoFolds`** which is required by this library. To do this we will be **using the classes `Reader` and `Dataset`**\n",
    "\n",
    "You will also notice here that we read the dataset by providing a scale of ratings. However, as you would know, we do not have ratings data of the songs. In this case, we are going to use play_count as a proxy for ratings with the assumption that the more the user listens to a song, the higher the chance that they like the song"
   ]
  },
  {
   "cell_type": "code",
   "execution_count": 36,
   "metadata": {
    "executionInfo": {
     "elapsed": 159,
     "status": "ok",
     "timestamp": 1728912094496,
     "user": {
      "displayName": "Jayashree Lakshmi",
      "userId": "09309199442259744900"
     },
     "user_tz": 240
    },
    "id": "rGfYDiOCpe4X"
   },
   "outputs": [],
   "source": [
    "# Instantiating Reader scale with expected rating scale\n",
    " #use rating scale (0, 5)\n",
    "reader = Reader(rating_scale=(0, 5.0))\n",
    "# Loading the dataset\n",
    " # Take only \"user_id\",\"song_id\", and \"play_count\"\n",
    "reader_data = Dataset.load_from_df(df_final[['user_id','song_id','play_count']],reader)\n",
    "# Splitting the data into train and test dataset\n",
    " # Take test_size = 0.4, random_state = 42\n",
    "trainset,testset = train_test_split(reader_data,test_size=0.4,random_state=42)"
   ]
  },
  {
   "cell_type": "markdown",
   "metadata": {
    "id": "CuTmLjUP1aED"
   },
   "source": [
    "**Think About It:** How changing the test size would change the results and outputs?"
   ]
  },
  {
   "cell_type": "code",
   "execution_count": 37,
   "metadata": {
    "colab": {
     "base_uri": "https://localhost:8080/"
    },
    "executionInfo": {
     "elapsed": 37897,
     "status": "ok",
     "timestamp": 1728912132391,
     "user": {
      "displayName": "Jayashree Lakshmi",
      "userId": "09309199442259744900"
     },
     "user_tz": 240
    },
    "id": "vO3FL7iape8A",
    "outputId": "061d2d9f-ccb4-49eb-c73e-9a1fa891a8a6",
    "scrolled": false
   },
   "outputs": [
    {
     "name": "stdout",
     "output_type": "stream",
     "text": [
      "Computing the cosine similarity matrix...\n",
      "Done computing similarity matrix.\n",
      "RMSE: 1.0817\n",
      "Precision:  0.005\n",
      "Recall:  0.003\n",
      "F_1 score:  0.004\n"
     ]
    }
   ],
   "source": [
    "# Build the default user-user-similarity model\n",
    "similarity_options = {\n",
    "      'name': 'cosine',     # Cosine similarity\n",
    "      'user_based': True    # This is for user-user similarity\n",
    "  }\n",
    "\n",
    "# KNN algorithm is used to find desired similar items\n",
    " # Use random_state = 1\n",
    "user_user_cf_model = KNNBasic(sim_options=similarity_options, Verbose=False, random_state=1)\n",
    "# Train the algorithm on the trainset, and predict play_count for the testset\n",
    "user_user_cf_model.fit(trainset)\n",
    "\n",
    "# Let us compute precision@k, recall@k, and f_1 score with k = 30\n",
    " # Use sim_user_user model\n",
    "precision_recall_at_k(user_user_cf_model,k=30,threshold=3.5)"
   ]
  },
  {
   "cell_type": "markdown",
   "metadata": {
    "id": "mzcdlWmer6GA"
   },
   "source": [
    "**Observations and Insights:**\n",
    "* The model's performance seems to be lacking, as indicated by the __low precision, recall, and F1 score__, despite having a reasonable RMSE. This suggests that while the model's predictions are numerically close to the actual values, it struggles to recommend relevant items effectively."
   ]
  },
  {
   "cell_type": "code",
   "execution_count": 38,
   "metadata": {
    "colab": {
     "base_uri": "https://localhost:8080/"
    },
    "executionInfo": {
     "elapsed": 745,
     "status": "ok",
     "timestamp": 1728912132391,
     "user": {
      "displayName": "Jayashree Lakshmi",
      "userId": "09309199442259744900"
     },
     "user_tz": 240
    },
    "id": "Sxd23bZ9pe_x",
    "outputId": "e872d3f2-84e8-4ea2-dd0e-796a314e6d3d"
   },
   "outputs": [
    {
     "data": {
      "text/plain": [
       "Prediction(uid=6958, iid=1671, r_ui=None, est=1.7227331119335394, details={'actual_k': 40, 'was_impossible': False})"
      ]
     },
     "execution_count": 38,
     "metadata": {},
     "output_type": "execute_result"
    }
   ],
   "source": [
    "# Predicting play_count for a sample user with a listened song\n",
    "# Use any user id  and song_id\n",
    "user_user_cf_model.predict(uid=6958, iid=1671)"
   ]
  },
  {
   "cell_type": "code",
   "execution_count": 39,
   "metadata": {
    "colab": {
     "base_uri": "https://localhost:8080/"
    },
    "executionInfo": {
     "elapsed": 706,
     "status": "ok",
     "timestamp": 1728912132391,
     "user": {
      "displayName": "Jayashree Lakshmi",
      "userId": "09309199442259744900"
     },
     "user_tz": 240
    },
    "id": "PbFcBj1PpfEV",
    "outputId": "24bbc038-2770-4737-bbc0-9c3ae3f1afbf"
   },
   "outputs": [
    {
     "data": {
      "text/plain": [
       "Prediction(uid=8194, iid=3232, r_ui=None, est=1.5954023343246007, details={'actual_k': 40, 'was_impossible': False})"
      ]
     },
     "execution_count": 39,
     "metadata": {},
     "output_type": "execute_result"
    }
   ],
   "source": [
    "# Predicting play_count for a sample user with a song not-listened by the user\n",
    " #predict play_count for any sample user\n",
    "user_user_cf_model.predict(uid=8194, iid=3232)"
   ]
  },
  {
   "cell_type": "code",
   "execution_count": 40,
   "metadata": {
    "executionInfo": {
     "elapsed": 690,
     "status": "ok",
     "timestamp": 1728912132391,
     "user": {
      "displayName": "Jayashree Lakshmi",
      "userId": "09309199442259744900"
     },
     "user_tz": 240
    },
    "id": "rTGBnE_AtTJY"
   },
   "outputs": [],
   "source": [
    "#Below is the function to find the list of users who have not listened to specific songs\n",
    "def n_users_not_listened_song(n, data, song):\n",
    "    users_listened_song = set(data[data['song_id'] == song]['user_id'])\n",
    "    all_users = set(data['user_id'])\n",
    "    return list(all_users.difference(users_listened_song))[:n] # where n is the number of elements to get in the list"
   ]
  },
  {
   "cell_type": "code",
   "execution_count": 41,
   "metadata": {
    "colab": {
     "base_uri": "https://localhost:8080/"
    },
    "executionInfo": {
     "elapsed": 691,
     "status": "ok",
     "timestamp": 1728912132398,
     "user": {
      "displayName": "Jayashree Lakshmi",
      "userId": "09309199442259744900"
     },
     "user_tz": 240
    },
    "id": "Rd3N4MGutrAM",
    "outputId": "6f923d87-77b4-44e2-a78c-546ccb0ba0d4"
   },
   "outputs": [
    {
     "data": {
      "text/plain": [
       "[8194, 49157, 32773, 8199, 40969]"
      ]
     },
     "execution_count": 41,
     "metadata": {},
     "output_type": "execute_result"
    }
   ],
   "source": [
    "n_users_not_listened_song(5, df_final, '3232')"
   ]
  },
  {
   "cell_type": "markdown",
   "metadata": {
    "id": "P9EVM7DysC47"
   },
   "source": [
    "**Observations and Insights:_________**\n",
    "\n",
    "**Predicting play_count for a sample user with a listened song**\n",
    "The predicted rating of 1.72 suggests that the user might not find item 1671 very appealing. Depending on the rating scale, this could imply that they might not like the song or product at all.\n",
    "\n",
    "The use of 40 neighbors indicates that the model is leveraging a considerable amount of user interaction data, which can be a good sign of robustness, provided those neighbors are indeed similar in preferences.\n",
    "\n",
    "**Predicting play_count for a sample user with a song not-listened by the user**\n",
    "The predicted rating of 1.60 suggests that the model predicts user 8194 is likely to have a low interest in item 3232. Depending on the rating scale, this could imply that the user may not like this item at all.\n"
   ]
  },
  {
   "cell_type": "markdown",
   "metadata": {
    "id": "Lt1QBiylsIOm"
   },
   "source": [
    "Now, let's try to tune the model and see if we can improve the model performance."
   ]
  },
  {
   "cell_type": "code",
   "execution_count": 45,
   "metadata": {
    "colab": {
     "base_uri": "https://localhost:8080/"
    },
    "executionInfo": {
     "elapsed": 1426313,
     "status": "ok",
     "timestamp": 1728914473132,
     "user": {
      "displayName": "Jayashree Lakshmi",
      "userId": "09309199442259744900"
     },
     "user_tz": 240
    },
    "id": "nIpGlp0zCfI0",
    "outputId": "8d14199c-066c-4ee2-8234-13c9dc03dc53"
   },
   "outputs": [
    {
     "name": "stdout",
     "output_type": "stream",
     "text": [
      "Computing the cosine similarity matrix...\n",
      "Done computing similarity matrix.\n",
      "Computing the cosine similarity matrix...\n",
      "Done computing similarity matrix.\n",
      "Computing the cosine similarity matrix...\n",
      "Done computing similarity matrix.\n",
      "Computing the msd similarity matrix...\n",
      "Done computing similarity matrix.\n",
      "Computing the msd similarity matrix...\n",
      "Done computing similarity matrix.\n",
      "Computing the msd similarity matrix...\n",
      "Done computing similarity matrix.\n",
      "Computing the pearson similarity matrix...\n",
      "Done computing similarity matrix.\n",
      "Computing the pearson similarity matrix...\n",
      "Done computing similarity matrix.\n",
      "Computing the pearson similarity matrix...\n",
      "Done computing similarity matrix.\n",
      "Estimating biases using als...\n",
      "Computing the pearson_baseline similarity matrix...\n",
      "Done computing similarity matrix.\n",
      "Estimating biases using als...\n",
      "Computing the pearson_baseline similarity matrix...\n",
      "Done computing similarity matrix.\n",
      "Estimating biases using als...\n",
      "Computing the pearson_baseline similarity matrix...\n",
      "Done computing similarity matrix.\n",
      "Computing the cosine similarity matrix...\n",
      "Done computing similarity matrix.\n",
      "Computing the cosine similarity matrix...\n",
      "Done computing similarity matrix.\n",
      "Computing the cosine similarity matrix...\n",
      "Done computing similarity matrix.\n",
      "Computing the msd similarity matrix...\n",
      "Done computing similarity matrix.\n",
      "Computing the msd similarity matrix...\n",
      "Done computing similarity matrix.\n",
      "Computing the msd similarity matrix...\n",
      "Done computing similarity matrix.\n",
      "Computing the pearson similarity matrix...\n",
      "Done computing similarity matrix.\n",
      "Computing the pearson similarity matrix...\n",
      "Done computing similarity matrix.\n",
      "Computing the pearson similarity matrix...\n",
      "Done computing similarity matrix.\n",
      "Estimating biases using als...\n",
      "Computing the pearson_baseline similarity matrix...\n",
      "Done computing similarity matrix.\n",
      "Estimating biases using als...\n",
      "Computing the pearson_baseline similarity matrix...\n",
      "Done computing similarity matrix.\n",
      "Estimating biases using als...\n",
      "Computing the pearson_baseline similarity matrix...\n",
      "Done computing similarity matrix.\n",
      "Computing the cosine similarity matrix...\n",
      "Done computing similarity matrix.\n",
      "Computing the cosine similarity matrix...\n",
      "Done computing similarity matrix.\n",
      "Computing the cosine similarity matrix...\n",
      "Done computing similarity matrix.\n",
      "Computing the msd similarity matrix...\n",
      "Done computing similarity matrix.\n",
      "Computing the msd similarity matrix...\n",
      "Done computing similarity matrix.\n",
      "Computing the msd similarity matrix...\n",
      "Done computing similarity matrix.\n",
      "Computing the pearson similarity matrix...\n",
      "Done computing similarity matrix.\n",
      "Computing the pearson similarity matrix...\n",
      "Done computing similarity matrix.\n",
      "Computing the pearson similarity matrix...\n",
      "Done computing similarity matrix.\n",
      "Estimating biases using als...\n",
      "Computing the pearson_baseline similarity matrix...\n",
      "Done computing similarity matrix.\n",
      "Estimating biases using als...\n",
      "Computing the pearson_baseline similarity matrix...\n",
      "Done computing similarity matrix.\n",
      "Estimating biases using als...\n",
      "Computing the pearson_baseline similarity matrix...\n",
      "Done computing similarity matrix.\n",
      "Computing the cosine similarity matrix...\n",
      "Done computing similarity matrix.\n",
      "Computing the cosine similarity matrix...\n",
      "Done computing similarity matrix.\n",
      "Computing the cosine similarity matrix...\n",
      "Done computing similarity matrix.\n",
      "Computing the msd similarity matrix...\n",
      "Done computing similarity matrix.\n",
      "Computing the msd similarity matrix...\n",
      "Done computing similarity matrix.\n",
      "Computing the msd similarity matrix...\n",
      "Done computing similarity matrix.\n",
      "Computing the pearson similarity matrix...\n",
      "Done computing similarity matrix.\n",
      "Computing the pearson similarity matrix...\n",
      "Done computing similarity matrix.\n",
      "Computing the pearson similarity matrix...\n",
      "Done computing similarity matrix.\n",
      "Estimating biases using als...\n",
      "Computing the pearson_baseline similarity matrix...\n",
      "Done computing similarity matrix.\n",
      "Estimating biases using als...\n",
      "Computing the pearson_baseline similarity matrix...\n",
      "Done computing similarity matrix.\n",
      "Estimating biases using als...\n",
      "Computing the pearson_baseline similarity matrix...\n",
      "Done computing similarity matrix.\n",
      "Computing the cosine similarity matrix...\n",
      "Done computing similarity matrix.\n",
      "Computing the cosine similarity matrix...\n",
      "Done computing similarity matrix.\n",
      "Computing the cosine similarity matrix...\n",
      "Done computing similarity matrix.\n",
      "Computing the msd similarity matrix...\n",
      "Done computing similarity matrix.\n",
      "Computing the msd similarity matrix...\n",
      "Done computing similarity matrix.\n",
      "Computing the msd similarity matrix...\n",
      "Done computing similarity matrix.\n",
      "Computing the pearson similarity matrix...\n",
      "Done computing similarity matrix.\n",
      "Computing the pearson similarity matrix...\n",
      "Done computing similarity matrix.\n",
      "Computing the pearson similarity matrix...\n",
      "Done computing similarity matrix.\n",
      "Estimating biases using als...\n",
      "Computing the pearson_baseline similarity matrix...\n",
      "Done computing similarity matrix.\n",
      "Estimating biases using als...\n",
      "Computing the pearson_baseline similarity matrix...\n",
      "Done computing similarity matrix.\n",
      "Estimating biases using als...\n",
      "Computing the pearson_baseline similarity matrix...\n",
      "Done computing similarity matrix.\n",
      "Computing the cosine similarity matrix...\n",
      "Done computing similarity matrix.\n",
      "Computing the cosine similarity matrix...\n",
      "Done computing similarity matrix.\n",
      "Computing the cosine similarity matrix...\n",
      "Done computing similarity matrix.\n",
      "Computing the msd similarity matrix...\n",
      "Done computing similarity matrix.\n",
      "Computing the msd similarity matrix...\n",
      "Done computing similarity matrix.\n",
      "Computing the msd similarity matrix...\n",
      "Done computing similarity matrix.\n",
      "Computing the pearson similarity matrix...\n",
      "Done computing similarity matrix.\n",
      "Computing the pearson similarity matrix...\n",
      "Done computing similarity matrix.\n",
      "Computing the pearson similarity matrix...\n",
      "Done computing similarity matrix.\n",
      "Estimating biases using als...\n",
      "Computing the pearson_baseline similarity matrix...\n",
      "Done computing similarity matrix.\n",
      "Estimating biases using als...\n",
      "Computing the pearson_baseline similarity matrix...\n",
      "Done computing similarity matrix.\n",
      "Estimating biases using als...\n",
      "Computing the pearson_baseline similarity matrix...\n",
      "Done computing similarity matrix.\n",
      "Computing the cosine similarity matrix...\n",
      "Done computing similarity matrix.\n",
      "Computing the cosine similarity matrix...\n",
      "Done computing similarity matrix.\n",
      "Computing the cosine similarity matrix...\n",
      "Done computing similarity matrix.\n",
      "Computing the msd similarity matrix...\n",
      "Done computing similarity matrix.\n",
      "Computing the msd similarity matrix...\n",
      "Done computing similarity matrix.\n",
      "Computing the msd similarity matrix...\n",
      "Done computing similarity matrix.\n",
      "Computing the pearson similarity matrix...\n",
      "Done computing similarity matrix.\n",
      "Computing the pearson similarity matrix...\n",
      "Done computing similarity matrix.\n",
      "Computing the pearson similarity matrix...\n",
      "Done computing similarity matrix.\n",
      "Estimating biases using als...\n",
      "Computing the pearson_baseline similarity matrix...\n",
      "Done computing similarity matrix.\n",
      "Estimating biases using als...\n",
      "Computing the pearson_baseline similarity matrix...\n",
      "Done computing similarity matrix.\n",
      "Estimating biases using als...\n",
      "Computing the pearson_baseline similarity matrix...\n",
      "Done computing similarity matrix.\n",
      "Computing the cosine similarity matrix...\n",
      "Done computing similarity matrix.\n",
      "Computing the cosine similarity matrix...\n",
      "Done computing similarity matrix.\n",
      "Computing the cosine similarity matrix...\n",
      "Done computing similarity matrix.\n",
      "Computing the msd similarity matrix...\n",
      "Done computing similarity matrix.\n",
      "Computing the msd similarity matrix...\n",
      "Done computing similarity matrix.\n",
      "Computing the msd similarity matrix...\n",
      "Done computing similarity matrix.\n",
      "Computing the pearson similarity matrix...\n",
      "Done computing similarity matrix.\n",
      "Computing the pearson similarity matrix...\n",
      "Done computing similarity matrix.\n",
      "Computing the pearson similarity matrix...\n",
      "Done computing similarity matrix.\n",
      "Estimating biases using als...\n",
      "Computing the pearson_baseline similarity matrix...\n",
      "Done computing similarity matrix.\n",
      "Estimating biases using als...\n",
      "Computing the pearson_baseline similarity matrix...\n",
      "Done computing similarity matrix.\n",
      "Estimating biases using als...\n",
      "Computing the pearson_baseline similarity matrix...\n",
      "Done computing similarity matrix.\n",
      "Computing the cosine similarity matrix...\n",
      "Done computing similarity matrix.\n",
      "Computing the cosine similarity matrix...\n",
      "Done computing similarity matrix.\n",
      "Computing the cosine similarity matrix...\n",
      "Done computing similarity matrix.\n",
      "Computing the msd similarity matrix...\n",
      "Done computing similarity matrix.\n",
      "Computing the msd similarity matrix...\n",
      "Done computing similarity matrix.\n",
      "Computing the msd similarity matrix...\n",
      "Done computing similarity matrix.\n",
      "Computing the pearson similarity matrix...\n",
      "Done computing similarity matrix.\n",
      "Computing the pearson similarity matrix...\n",
      "Done computing similarity matrix.\n",
      "Computing the pearson similarity matrix...\n",
      "Done computing similarity matrix.\n",
      "Estimating biases using als...\n",
      "Computing the pearson_baseline similarity matrix...\n",
      "Done computing similarity matrix.\n",
      "Estimating biases using als...\n",
      "Computing the pearson_baseline similarity matrix...\n",
      "Done computing similarity matrix.\n",
      "Estimating biases using als...\n",
      "Computing the pearson_baseline similarity matrix...\n",
      "Done computing similarity matrix.\n",
      "Best RMSE score:  1.0028165526956305\n",
      "Best parameters:  {'k': 40, 'min_k': 10, 'sim_options': {'name': 'pearson_baseline', 'user_based': True}}\n"
     ]
    }
   ],
   "source": [
    "# Setting up parameter grid to tune the hyperparameters\n",
    "param_grid = {\n",
    "    'k': [20, 30, 40],  # Number of neighbors\n",
    "    'min_k': [1, 5, 10],  # Minimum number of neighbors\n",
    "   'sim_options': {\n",
    "        'name': ['cosine', 'msd', 'pearson', 'pearson_baseline'],  # Similarity measures\n",
    "        'user_based': [True]  # We can also add False if you want item-based\n",
    "    }\n",
    "}\n",
    "\n",
    "# Performing 3-fold cross-validation to tune the hyperparameters\n",
    "# Initialize the KNNBasic algorithm\n",
    "# Perform Grid Search\n",
    "grid_search = GridSearchCV(KNNBasic, param_grid, measures=['rmse', 'mae'], cv=3)\n",
    "#Fitting the data\n",
    "grid_search.fit(reader_data)\n",
    "\n",
    "# Get the best RMSE score and corresponding parameters\n",
    "best_rmse = grid_search.best_score['rmse']\n",
    "best_params = grid_search.best_params['rmse']\n",
    "\n",
    "# Best RMSE score\n",
    "print(\"Best RMSE score: \", best_rmse)\n",
    "# Combination of parameters that gave the best RMSE score\n",
    "print(\"Best parameters: \", best_params)"
   ]
  },
  {
   "cell_type": "code",
   "execution_count": 46,
   "metadata": {
    "colab": {
     "base_uri": "https://localhost:8080/"
    },
    "executionInfo": {
     "elapsed": 6134,
     "status": "ok",
     "timestamp": 1728914479229,
     "user": {
      "displayName": "Jayashree Lakshmi",
      "userId": "09309199442259744900"
     },
     "user_tz": 240
    },
    "id": "PujRJA8X_JEJ",
    "outputId": "55bcb2f6-eb9f-4164-a6a8-4b6ee65e5a28"
   },
   "outputs": [
    {
     "name": "stdout",
     "output_type": "stream",
     "text": [
      "Estimating biases using als...\n",
      "Computing the pearson_baseline similarity matrix...\n",
      "Done computing similarity matrix.\n"
     ]
    },
    {
     "data": {
      "text/plain": [
       "<surprise.prediction_algorithms.knns.KNNBasic at 0x78215af889d0>"
      ]
     },
     "execution_count": 46,
     "metadata": {},
     "output_type": "execute_result"
    }
   ],
   "source": [
    "# Train the best model found in above gridsearch\n",
    "tuned_user_user_cf_model = KNNBasic(k=best_params['k'], min_k=best_params['min_k'], sim_options=best_params['sim_options'])\n",
    "tuned_user_user_cf_model.fit(trainset)  # Fit the final model"
   ]
  },
  {
   "cell_type": "markdown",
   "metadata": {
    "id": "MH5OBZ7Nse6m"
   },
   "source": [
    "**Observations and Insights:**\n",
    "Since we got less accurate result with the previously trained cosine similarity model,\n",
    "Decided to yperparameter tuning with the below option.\n",
    "param_grid = {\n",
    "    'k': [5, 10, 20, 30, 40],  # Number of neighbors\n",
    "    'min_k': [1, 5, 10],  # Minimum number of neighbors\n",
    "   'sim_options': {\n",
    "        'name': ['cosine', 'msd', 'pearson', 'pearson_baseline'],  # Similarity measures\n",
    "        'user_based': [True]  # We can also add False if you want item-based\n",
    "    }\n",
    "}\n",
    "\n",
    "Since we are taking various number of neighbours and similarity measure , model training will take much time , but once the result comes then we can use perticular matrix for training this leads to less running time evrytime"
   ]
  },
  {
   "cell_type": "code",
   "execution_count": 96,
   "metadata": {
    "colab": {
     "base_uri": "https://localhost:8080/"
    },
    "executionInfo": {
     "elapsed": 15492,
     "status": "ok",
     "timestamp": 1728915335129,
     "user": {
      "displayName": "Jayashree Lakshmi",
      "userId": "09309199442259744900"
     },
     "user_tz": 240
    },
    "id": "rYTTVUzKWGHo",
    "outputId": "bb366987-d3e4-44bf-d807-15696dc92334"
   },
   "outputs": [
    {
     "name": "stdout",
     "output_type": "stream",
     "text": [
      "RMSE: 1.0131\n",
      "Precision:  0.079\n",
      "Recall:  0.038\n",
      "F_1 score:  0.051\n"
     ]
    }
   ],
   "source": [
    "precision_recall_at_k(tuned_user_user_cf_model,k=30,threshold=3.5)"
   ]
  },
  {
   "cell_type": "code",
   "execution_count": 47,
   "metadata": {
    "colab": {
     "base_uri": "https://localhost:8080/"
    },
    "executionInfo": {
     "elapsed": 444,
     "status": "ok",
     "timestamp": 1728914479230,
     "user": {
      "displayName": "Jayashree Lakshmi",
      "userId": "09309199442259744900"
     },
     "user_tz": 240
    },
    "id": "FgV63lHiq1TV",
    "outputId": "e7150c71-2a1e-460a-995d-cdefc5eaaea2"
   },
   "outputs": [
    {
     "data": {
      "text/plain": [
       "Prediction(uid=6958, iid=1671, r_ui=2, est=1.9453672719637054, details={'actual_k': 24, 'was_impossible': False})"
      ]
     },
     "execution_count": 47,
     "metadata": {},
     "output_type": "execute_result"
    }
   ],
   "source": [
    "# Predict the play count for a user who has listened to the song. Take user_id 6958, song_id 1671 and r_ui = 2\n",
    "tuned_user_user_cf_model.predict(uid=6958, iid=1671,r_ui=2)"
   ]
  },
  {
   "cell_type": "code",
   "execution_count": 48,
   "metadata": {
    "colab": {
     "base_uri": "https://localhost:8080/"
    },
    "executionInfo": {
     "elapsed": 420,
     "status": "ok",
     "timestamp": 1728914479230,
     "user": {
      "displayName": "Jayashree Lakshmi",
      "userId": "09309199442259744900"
     },
     "user_tz": 240
    },
    "id": "rLntXjLROsLb",
    "outputId": "59636407-1d12-49eb-e6a2-8bc0aae5f5f4"
   },
   "outputs": [
    {
     "data": {
      "text/plain": [
       "[2048, 6148, 2054, 21, 22]"
      ]
     },
     "execution_count": 48,
     "metadata": {},
     "output_type": "execute_result"
    }
   ],
   "source": [
    "def n_songs_not_listened_by_user(n, data, user):\n",
    "    users_listened_song = set(data[data['user_id'] == user]['song_id'])\n",
    "    all_songs = set(data['song_id'])\n",
    "    return list(all_songs.difference(users_listened_song))[:n] # where n is the number of elements to get in the list\n",
    "n_songs_not_listened_by_user(5, df_final, '6958')"
   ]
  },
  {
   "cell_type": "code",
   "execution_count": 49,
   "metadata": {
    "colab": {
     "base_uri": "https://localhost:8080/"
    },
    "executionInfo": {
     "elapsed": 407,
     "status": "ok",
     "timestamp": 1728914479231,
     "user": {
      "displayName": "Jayashree Lakshmi",
      "userId": "09309199442259744900"
     },
     "user_tz": 240
    },
    "id": "HXO2Ztjhq1bN",
    "outputId": "b30a1720-01d4-4f43-cd0f-3ebd38efb416"
   },
   "outputs": [
    {
     "data": {
      "text/plain": [
       "Prediction(uid=6958, iid=2048, r_ui=None, est=1.9156781044223756, details={'actual_k': 18, 'was_impossible': False})"
      ]
     },
     "execution_count": 49,
     "metadata": {},
     "output_type": "execute_result"
    }
   ],
   "source": [
    "# Predict the play count for a song that is not listened to by the user (with user_id 6958)\n",
    "tuned_user_user_cf_model.predict(uid=6958, iid=2048)\n"
   ]
  },
  {
   "cell_type": "markdown",
   "metadata": {
    "id": "SdpJ--8QWuzz"
   },
   "source": [
    "**Observations and Insights:______________**\n",
    "**Predict the play count for a user who has listened to the song. Take user_id 6958, song_id 1671 and r_ui = 2**\n",
    "The predicted rating is now closer to the actual rating, with a small difference of 0.0547. This indicates a slight improvement in the prediction accuracy after tuning compared to the previous model where the predicted rating was 1.72. The model is now performing better at predicting the user’s potential preferences for items they’ve already interacted with.\n",
    "\n",
    "**Predict the play count for a song that is not listened to by the user (with user_id 6958)**\n",
    "Since the user hasn't interacted with item 2048, the predicted rating (est = 1.9157) suggests a low interest in the item, similar to the previous prediction (est = 1.60 for an unseen song).\n",
    "The slightly higher predicted rating (1.9157) compared to the previous one (1.60) indicates a potential improvement in identifying items the user might have some interest in, though still low overall.\n",
    "\n",
    "For the predictions above, the model utilized k=24 and k=18 neighbors, which were optimized from the original list of k=[5, 10, 20, 30, 40]. This shows the model is now using a more optimal number of neighbors to generate better predictions.\n",
    "\n",
    "\n",
    "The hyperparameter tuning has helped the model make more accurate predictions by optimizing the number of neighbors, similarity metrics, and other parameters. This results in better personalization of recommendations and an improved ability to predict user preferences, even for unseen items. The model is now more fine-tuned to the user’s tastes, which is a significant outcome of the tuning process."
   ]
  },
  {
   "cell_type": "markdown",
   "metadata": {
    "id": "SQ9M4pplNbWS"
   },
   "source": [
    "**Think About It:** Along with making predictions on listened and unknown songs can we get 5 nearest neighbors (most similar) to a certain song?"
   ]
  },
  {
   "cell_type": "code",
   "execution_count": 50,
   "metadata": {
    "colab": {
     "base_uri": "https://localhost:8080/"
    },
    "executionInfo": {
     "elapsed": 403,
     "status": "ok",
     "timestamp": 1728914479231,
     "user": {
      "displayName": "Jayashree Lakshmi",
      "userId": "09309199442259744900"
     },
     "user_tz": 240
    },
    "id": "TbFle7cKmBJG",
    "outputId": "bfdad1ec-1fcc-4392-ef32-6d0247cdd616"
   },
   "outputs": [
    {
     "name": "stdout",
     "output_type": "stream",
     "text": [
      "user who has listened to the song [1187, 1331, 27, 203, 991]\n",
      "user who has not listened to the song [58, 516, 728, 1707, 623]\n"
     ]
    }
   ],
   "source": [
    "# Use inner id 0\n",
    "#user who has listened to the song\n",
    "inner_user_id = tuned_user_user_cf_model.trainset.to_inner_uid(6958)\n",
    "neighbours = tuned_user_user_cf_model.get_neighbors(inner_user_id, 5)\n",
    "print('user who has listened to the song',neighbours)\n",
    "#user who has not listened to the song\n",
    "inner_user_id = tuned_user_user_cf_model.trainset.to_inner_uid(8194)\n",
    "neighbours = tuned_user_user_cf_model.get_neighbors(inner_user_id, 5)\n",
    "print('user who has not listened to the song',neighbours)"
   ]
  },
  {
   "cell_type": "markdown",
   "metadata": {
    "id": "U3ESobDynVNI"
   },
   "source": [
    "Below we will be implementing a function where the input parameters are:\n",
    "\n",
    "- data: A **song** dataset\n",
    "- user_id: A user-id **against which we want the recommendations**\n",
    "- top_n: The **number of songs we want to recommend**\n",
    "- algo: The algorithm we want to use **for predicting the play_count**\n",
    "- The output of the function is a **set of top_n items** recommended for the given user_id based on the given algorithm"
   ]
  },
  {
   "cell_type": "code",
   "execution_count": 51,
   "metadata": {
    "executionInfo": {
     "elapsed": 366,
     "status": "ok",
     "timestamp": 1728914479288,
     "user": {
      "displayName": "Jayashree Lakshmi",
      "userId": "09309199442259744900"
     },
     "user_tz": 240
    },
    "id": "vW9V1Tk65HlY"
   },
   "outputs": [],
   "source": [
    "def get_recommendations(data, user_id, top_n, algo):\n",
    "    # Creating an empty list to store the recommended song ids\n",
    "    recommendations = []\n",
    "\n",
    "    # Creating an user item interactions matrix\n",
    "    user_item_interactions_matrix = data.pivot(index='user_id', columns='song_id', values='play_count')\n",
    "\n",
    "    # Extracting those song ids which the user_id has not played yet\n",
    "    non_interacted_songs = user_item_interactions_matrix.loc[user_id][user_item_interactions_matrix.loc[user_id].isnull()].index.tolist()\n",
    "    # Looping through each of the song ids which user_id has not interacted yet\n",
    "    for item_id in non_interacted_songs:\n",
    "\n",
    "        # Predicting the users for those non played song ids by this user\n",
    "        est = algo.predict(user_id, item_id).est\n",
    "\n",
    "        # Appending the predicted play_counts\n",
    "        recommendations.append((item_id, est))\n",
    "    # Sorting the predicted play_counts in descending order\n",
    "    recommendations.sort(key=lambda x: x[1], reverse=True)\n",
    "\n",
    "    return recommendations[:top_n]# Returing top n highest predicted play_count songs for this user"
   ]
  },
  {
   "cell_type": "code",
   "execution_count": 52,
   "metadata": {
    "colab": {
     "base_uri": "https://localhost:8080/"
    },
    "executionInfo": {
     "elapsed": 360,
     "status": "ok",
     "timestamp": 1728914479288,
     "user": {
      "displayName": "Jayashree Lakshmi",
      "userId": "09309199442259744900"
     },
     "user_tz": 240
    },
    "id": "qWbR85mI5Hrk",
    "outputId": "6bc30821-eb31-4e81-95d4-ba99f76c81ba"
   },
   "outputs": [
    {
     "data": {
      "text/plain": [
       "[(3165, 2.6525618256900025),\n",
       " (6716, 2.6389728556495338),\n",
       " (9019, 2.6059442318122956),\n",
       " (6079, 2.464149202533415),\n",
       " (3770, 2.4561252389939146)]"
      ]
     },
     "execution_count": 52,
     "metadata": {},
     "output_type": "execute_result"
    }
   ],
   "source": [
    "# Make top 5 recommendations for any user_id with a similarity-based recommendation engine\n",
    "\n",
    "duplicate_entries = df_final[df_final.duplicated(subset=['user_id', 'song_id'], keep=False)]\n",
    "#print(duplicate_entries)\n",
    "data_aggregated = df_final.groupby(['user_id', 'song_id'], as_index=False).agg({'play_count': 'sum'})\n",
    "recommendations = get_recommendations(data_aggregated, 6958, 5, tuned_user_user_cf_model)\n",
    "recommendations"
   ]
  },
  {
   "cell_type": "code",
   "execution_count": 53,
   "metadata": {
    "colab": {
     "base_uri": "https://localhost:8080/",
     "height": 206
    },
    "executionInfo": {
     "elapsed": 287,
     "status": "ok",
     "timestamp": 1728914479288,
     "user": {
      "displayName": "Jayashree Lakshmi",
      "userId": "09309199442259744900"
     },
     "user_tz": 240
    },
    "id": "b5WfIX0Z6_q2",
    "outputId": "8298850b-7108-49a2-d196-f5551399ac1e"
   },
   "outputs": [
    {
     "data": {
      "application/vnd.google.colaboratory.intrinsic+json": {
       "summary": "{\n  \"name\": \"recommendations_df\",\n  \"rows\": 5,\n  \"fields\": [\n    {\n      \"column\": \"song_id\",\n      \"properties\": {\n        \"dtype\": \"number\",\n        \"std\": 2362,\n        \"min\": 3165,\n        \"max\": 9019,\n        \"num_unique_values\": 5,\n        \"samples\": [\n          6716,\n          3770,\n          9019\n        ],\n        \"semantic_type\": \"\",\n        \"description\": \"\"\n      }\n    },\n    {\n      \"column\": \"predicted_play_count\",\n      \"properties\": {\n        \"dtype\": \"number\",\n        \"std\": 0.09595517308867373,\n        \"min\": 2.4561252389939146,\n        \"max\": 2.6525618256900025,\n        \"num_unique_values\": 5,\n        \"samples\": [\n          2.6389728556495338,\n          2.4561252389939146,\n          2.6059442318122956\n        ],\n        \"semantic_type\": \"\",\n        \"description\": \"\"\n      }\n    }\n  ]\n}",
       "type": "dataframe",
       "variable_name": "recommendations_df"
      },
      "text/html": [
       "\n",
       "  <div id=\"df-ce624742-115a-4211-bab8-6ac059de0c9b\" class=\"colab-df-container\">\n",
       "    <div>\n",
       "<style scoped>\n",
       "    .dataframe tbody tr th:only-of-type {\n",
       "        vertical-align: middle;\n",
       "    }\n",
       "\n",
       "    .dataframe tbody tr th {\n",
       "        vertical-align: top;\n",
       "    }\n",
       "\n",
       "    .dataframe thead th {\n",
       "        text-align: right;\n",
       "    }\n",
       "</style>\n",
       "<table border=\"1\" class=\"dataframe\">\n",
       "  <thead>\n",
       "    <tr style=\"text-align: right;\">\n",
       "      <th></th>\n",
       "      <th>song_id</th>\n",
       "      <th>predicted_play_count</th>\n",
       "    </tr>\n",
       "  </thead>\n",
       "  <tbody>\n",
       "    <tr>\n",
       "      <th>0</th>\n",
       "      <td>3165</td>\n",
       "      <td>2.652562</td>\n",
       "    </tr>\n",
       "    <tr>\n",
       "      <th>1</th>\n",
       "      <td>6716</td>\n",
       "      <td>2.638973</td>\n",
       "    </tr>\n",
       "    <tr>\n",
       "      <th>2</th>\n",
       "      <td>9019</td>\n",
       "      <td>2.605944</td>\n",
       "    </tr>\n",
       "    <tr>\n",
       "      <th>3</th>\n",
       "      <td>6079</td>\n",
       "      <td>2.464149</td>\n",
       "    </tr>\n",
       "    <tr>\n",
       "      <th>4</th>\n",
       "      <td>3770</td>\n",
       "      <td>2.456125</td>\n",
       "    </tr>\n",
       "  </tbody>\n",
       "</table>\n",
       "</div>\n",
       "    <div class=\"colab-df-buttons\">\n",
       "\n",
       "  <div class=\"colab-df-container\">\n",
       "    <button class=\"colab-df-convert\" onclick=\"convertToInteractive('df-ce624742-115a-4211-bab8-6ac059de0c9b')\"\n",
       "            title=\"Convert this dataframe to an interactive table.\"\n",
       "            style=\"display:none;\">\n",
       "\n",
       "  <svg xmlns=\"http://www.w3.org/2000/svg\" height=\"24px\" viewBox=\"0 -960 960 960\">\n",
       "    <path d=\"M120-120v-720h720v720H120Zm60-500h600v-160H180v160Zm220 220h160v-160H400v160Zm0 220h160v-160H400v160ZM180-400h160v-160H180v160Zm440 0h160v-160H620v160ZM180-180h160v-160H180v160Zm440 0h160v-160H620v160Z\"/>\n",
       "  </svg>\n",
       "    </button>\n",
       "\n",
       "  <style>\n",
       "    .colab-df-container {\n",
       "      display:flex;\n",
       "      gap: 12px;\n",
       "    }\n",
       "\n",
       "    .colab-df-convert {\n",
       "      background-color: #E8F0FE;\n",
       "      border: none;\n",
       "      border-radius: 50%;\n",
       "      cursor: pointer;\n",
       "      display: none;\n",
       "      fill: #1967D2;\n",
       "      height: 32px;\n",
       "      padding: 0 0 0 0;\n",
       "      width: 32px;\n",
       "    }\n",
       "\n",
       "    .colab-df-convert:hover {\n",
       "      background-color: #E2EBFA;\n",
       "      box-shadow: 0px 1px 2px rgba(60, 64, 67, 0.3), 0px 1px 3px 1px rgba(60, 64, 67, 0.15);\n",
       "      fill: #174EA6;\n",
       "    }\n",
       "\n",
       "    .colab-df-buttons div {\n",
       "      margin-bottom: 4px;\n",
       "    }\n",
       "\n",
       "    [theme=dark] .colab-df-convert {\n",
       "      background-color: #3B4455;\n",
       "      fill: #D2E3FC;\n",
       "    }\n",
       "\n",
       "    [theme=dark] .colab-df-convert:hover {\n",
       "      background-color: #434B5C;\n",
       "      box-shadow: 0px 1px 3px 1px rgba(0, 0, 0, 0.15);\n",
       "      filter: drop-shadow(0px 1px 2px rgba(0, 0, 0, 0.3));\n",
       "      fill: #FFFFFF;\n",
       "    }\n",
       "  </style>\n",
       "\n",
       "    <script>\n",
       "      const buttonEl =\n",
       "        document.querySelector('#df-ce624742-115a-4211-bab8-6ac059de0c9b button.colab-df-convert');\n",
       "      buttonEl.style.display =\n",
       "        google.colab.kernel.accessAllowed ? 'block' : 'none';\n",
       "\n",
       "      async function convertToInteractive(key) {\n",
       "        const element = document.querySelector('#df-ce624742-115a-4211-bab8-6ac059de0c9b');\n",
       "        const dataTable =\n",
       "          await google.colab.kernel.invokeFunction('convertToInteractive',\n",
       "                                                    [key], {});\n",
       "        if (!dataTable) return;\n",
       "\n",
       "        const docLinkHtml = 'Like what you see? Visit the ' +\n",
       "          '<a target=\"_blank\" href=https://colab.research.google.com/notebooks/data_table.ipynb>data table notebook</a>'\n",
       "          + ' to learn more about interactive tables.';\n",
       "        element.innerHTML = '';\n",
       "        dataTable['output_type'] = 'display_data';\n",
       "        await google.colab.output.renderOutput(dataTable, element);\n",
       "        const docLink = document.createElement('div');\n",
       "        docLink.innerHTML = docLinkHtml;\n",
       "        element.appendChild(docLink);\n",
       "      }\n",
       "    </script>\n",
       "  </div>\n",
       "\n",
       "\n",
       "<div id=\"df-873a6213-2892-4472-88a3-0cda38f86b18\">\n",
       "  <button class=\"colab-df-quickchart\" onclick=\"quickchart('df-873a6213-2892-4472-88a3-0cda38f86b18')\"\n",
       "            title=\"Suggest charts\"\n",
       "            style=\"display:none;\">\n",
       "\n",
       "<svg xmlns=\"http://www.w3.org/2000/svg\" height=\"24px\"viewBox=\"0 0 24 24\"\n",
       "     width=\"24px\">\n",
       "    <g>\n",
       "        <path d=\"M19 3H5c-1.1 0-2 .9-2 2v14c0 1.1.9 2 2 2h14c1.1 0 2-.9 2-2V5c0-1.1-.9-2-2-2zM9 17H7v-7h2v7zm4 0h-2V7h2v10zm4 0h-2v-4h2v4z\"/>\n",
       "    </g>\n",
       "</svg>\n",
       "  </button>\n",
       "\n",
       "<style>\n",
       "  .colab-df-quickchart {\n",
       "      --bg-color: #E8F0FE;\n",
       "      --fill-color: #1967D2;\n",
       "      --hover-bg-color: #E2EBFA;\n",
       "      --hover-fill-color: #174EA6;\n",
       "      --disabled-fill-color: #AAA;\n",
       "      --disabled-bg-color: #DDD;\n",
       "  }\n",
       "\n",
       "  [theme=dark] .colab-df-quickchart {\n",
       "      --bg-color: #3B4455;\n",
       "      --fill-color: #D2E3FC;\n",
       "      --hover-bg-color: #434B5C;\n",
       "      --hover-fill-color: #FFFFFF;\n",
       "      --disabled-bg-color: #3B4455;\n",
       "      --disabled-fill-color: #666;\n",
       "  }\n",
       "\n",
       "  .colab-df-quickchart {\n",
       "    background-color: var(--bg-color);\n",
       "    border: none;\n",
       "    border-radius: 50%;\n",
       "    cursor: pointer;\n",
       "    display: none;\n",
       "    fill: var(--fill-color);\n",
       "    height: 32px;\n",
       "    padding: 0;\n",
       "    width: 32px;\n",
       "  }\n",
       "\n",
       "  .colab-df-quickchart:hover {\n",
       "    background-color: var(--hover-bg-color);\n",
       "    box-shadow: 0 1px 2px rgba(60, 64, 67, 0.3), 0 1px 3px 1px rgba(60, 64, 67, 0.15);\n",
       "    fill: var(--button-hover-fill-color);\n",
       "  }\n",
       "\n",
       "  .colab-df-quickchart-complete:disabled,\n",
       "  .colab-df-quickchart-complete:disabled:hover {\n",
       "    background-color: var(--disabled-bg-color);\n",
       "    fill: var(--disabled-fill-color);\n",
       "    box-shadow: none;\n",
       "  }\n",
       "\n",
       "  .colab-df-spinner {\n",
       "    border: 2px solid var(--fill-color);\n",
       "    border-color: transparent;\n",
       "    border-bottom-color: var(--fill-color);\n",
       "    animation:\n",
       "      spin 1s steps(1) infinite;\n",
       "  }\n",
       "\n",
       "  @keyframes spin {\n",
       "    0% {\n",
       "      border-color: transparent;\n",
       "      border-bottom-color: var(--fill-color);\n",
       "      border-left-color: var(--fill-color);\n",
       "    }\n",
       "    20% {\n",
       "      border-color: transparent;\n",
       "      border-left-color: var(--fill-color);\n",
       "      border-top-color: var(--fill-color);\n",
       "    }\n",
       "    30% {\n",
       "      border-color: transparent;\n",
       "      border-left-color: var(--fill-color);\n",
       "      border-top-color: var(--fill-color);\n",
       "      border-right-color: var(--fill-color);\n",
       "    }\n",
       "    40% {\n",
       "      border-color: transparent;\n",
       "      border-right-color: var(--fill-color);\n",
       "      border-top-color: var(--fill-color);\n",
       "    }\n",
       "    60% {\n",
       "      border-color: transparent;\n",
       "      border-right-color: var(--fill-color);\n",
       "    }\n",
       "    80% {\n",
       "      border-color: transparent;\n",
       "      border-right-color: var(--fill-color);\n",
       "      border-bottom-color: var(--fill-color);\n",
       "    }\n",
       "    90% {\n",
       "      border-color: transparent;\n",
       "      border-bottom-color: var(--fill-color);\n",
       "    }\n",
       "  }\n",
       "</style>\n",
       "\n",
       "  <script>\n",
       "    async function quickchart(key) {\n",
       "      const quickchartButtonEl =\n",
       "        document.querySelector('#' + key + ' button');\n",
       "      quickchartButtonEl.disabled = true;  // To prevent multiple clicks.\n",
       "      quickchartButtonEl.classList.add('colab-df-spinner');\n",
       "      try {\n",
       "        const charts = await google.colab.kernel.invokeFunction(\n",
       "            'suggestCharts', [key], {});\n",
       "      } catch (error) {\n",
       "        console.error('Error during call to suggestCharts:', error);\n",
       "      }\n",
       "      quickchartButtonEl.classList.remove('colab-df-spinner');\n",
       "      quickchartButtonEl.classList.add('colab-df-quickchart-complete');\n",
       "    }\n",
       "    (() => {\n",
       "      let quickchartButtonEl =\n",
       "        document.querySelector('#df-873a6213-2892-4472-88a3-0cda38f86b18 button');\n",
       "      quickchartButtonEl.style.display =\n",
       "        google.colab.kernel.accessAllowed ? 'block' : 'none';\n",
       "    })();\n",
       "  </script>\n",
       "</div>\n",
       "\n",
       "  <div id=\"id_8a01dfd5-3a1d-4d3b-b60c-9a129086560c\">\n",
       "    <style>\n",
       "      .colab-df-generate {\n",
       "        background-color: #E8F0FE;\n",
       "        border: none;\n",
       "        border-radius: 50%;\n",
       "        cursor: pointer;\n",
       "        display: none;\n",
       "        fill: #1967D2;\n",
       "        height: 32px;\n",
       "        padding: 0 0 0 0;\n",
       "        width: 32px;\n",
       "      }\n",
       "\n",
       "      .colab-df-generate:hover {\n",
       "        background-color: #E2EBFA;\n",
       "        box-shadow: 0px 1px 2px rgba(60, 64, 67, 0.3), 0px 1px 3px 1px rgba(60, 64, 67, 0.15);\n",
       "        fill: #174EA6;\n",
       "      }\n",
       "\n",
       "      [theme=dark] .colab-df-generate {\n",
       "        background-color: #3B4455;\n",
       "        fill: #D2E3FC;\n",
       "      }\n",
       "\n",
       "      [theme=dark] .colab-df-generate:hover {\n",
       "        background-color: #434B5C;\n",
       "        box-shadow: 0px 1px 3px 1px rgba(0, 0, 0, 0.15);\n",
       "        filter: drop-shadow(0px 1px 2px rgba(0, 0, 0, 0.3));\n",
       "        fill: #FFFFFF;\n",
       "      }\n",
       "    </style>\n",
       "    <button class=\"colab-df-generate\" onclick=\"generateWithVariable('recommendations_df')\"\n",
       "            title=\"Generate code using this dataframe.\"\n",
       "            style=\"display:none;\">\n",
       "\n",
       "  <svg xmlns=\"http://www.w3.org/2000/svg\" height=\"24px\"viewBox=\"0 0 24 24\"\n",
       "       width=\"24px\">\n",
       "    <path d=\"M7,19H8.4L18.45,9,17,7.55,7,17.6ZM5,21V16.75L18.45,3.32a2,2,0,0,1,2.83,0l1.4,1.43a1.91,1.91,0,0,1,.58,1.4,1.91,1.91,0,0,1-.58,1.4L9.25,21ZM18.45,9,17,7.55Zm-12,3A5.31,5.31,0,0,0,4.9,8.1,5.31,5.31,0,0,0,1,6.5,5.31,5.31,0,0,0,4.9,4.9,5.31,5.31,0,0,0,6.5,1,5.31,5.31,0,0,0,8.1,4.9,5.31,5.31,0,0,0,12,6.5,5.46,5.46,0,0,0,6.5,12Z\"/>\n",
       "  </svg>\n",
       "    </button>\n",
       "    <script>\n",
       "      (() => {\n",
       "      const buttonEl =\n",
       "        document.querySelector('#id_8a01dfd5-3a1d-4d3b-b60c-9a129086560c button.colab-df-generate');\n",
       "      buttonEl.style.display =\n",
       "        google.colab.kernel.accessAllowed ? 'block' : 'none';\n",
       "\n",
       "      buttonEl.onclick = () => {\n",
       "        google.colab.notebook.generateWithVariable('recommendations_df');\n",
       "      }\n",
       "      })();\n",
       "    </script>\n",
       "  </div>\n",
       "\n",
       "    </div>\n",
       "  </div>\n"
      ],
      "text/plain": [
       "   song_id  predicted_play_count\n",
       "0     3165              2.652562\n",
       "1     6716              2.638973\n",
       "2     9019              2.605944\n",
       "3     6079              2.464149\n",
       "4     3770              2.456125"
      ]
     },
     "execution_count": 53,
     "metadata": {},
     "output_type": "execute_result"
    }
   ],
   "source": [
    "# Building the dataframe for above recommendations with columns \"song_id\" and \"predicted_play_count\"\n",
    "recommendations_df = pd.DataFrame(recommendations, columns=['song_id', 'predicted_play_count'])\n",
    "recommendations_df"
   ]
  },
  {
   "cell_type": "markdown",
   "metadata": {
    "id": "kyhThMOttWjj"
   },
   "source": [
    "**Observations and Insights:______________**\n",
    "* With the hyperparameter tuned similarity-based recommendation engine following are the top 5 recommendation for the userid 6958\n",
    "\n",
    "\n",
    "* [(3165, 2.6525618256900025),\n",
    " (6716, 2.6389728556495338),\n",
    " (9019, 2.6059442318122956),\n",
    " (6079, 2.464149202533415),\n",
    " (3770, 2.4561252389939146)]"
   ]
  },
  {
   "cell_type": "markdown",
   "metadata": {
    "id": "ghwEJY2e7INB"
   },
   "source": [
    "### Correcting the play_counts and Ranking the above songs"
   ]
  },
  {
   "cell_type": "code",
   "execution_count": 54,
   "metadata": {
    "executionInfo": {
     "elapsed": 248,
     "status": "ok",
     "timestamp": 1728914479288,
     "user": {
      "displayName": "Jayashree Lakshmi",
      "userId": "09309199442259744900"
     },
     "user_tz": 240
    },
    "id": "39Hs7ZbO9v3O"
   },
   "outputs": [],
   "source": [
    "def ranking_songs(recommendations, playing_count):\n",
    "  # Sort the songs based on play counts\n",
    "  ranked_songs = playing_count.loc[[items[0] for items in recommendations]].sort_values('play_freq', ascending = False)[['play_freq']].reset_index()\n",
    "  # Merge with the recommended songs to get predicted play_counts\n",
    "  ranked_songs = ranked_songs.merge(pd.DataFrame(recommendations, columns=['song_id', 'predicted_play_count']),how = 'inner',on = 'song_id')\n",
    "  # Rank the songs based on corrected play_counts\n",
    "  ranked_songs['corrected_play_count'] = ranked_songs['predicted_play_count']- 1/np.sqrt(ranked_songs.play_freq)\n",
    "  # Sort the songs based on corrected play_counts\n",
    "  ranked_songs.sort_values('corrected_play_count', ascending=False, inplace=True)\n",
    "  # Return the top 5 recommendations\n",
    "  return  ranked_songs"
   ]
  },
  {
   "cell_type": "markdown",
   "metadata": {
    "id": "zQvst41lOoMX"
   },
   "source": [
    "**Think About It:** In the above function to correct the predicted play_count a quantity 1/np.sqrt(n) is subtracted. What is the intuition behind it? Is it also possible to add this quantity instead of subtracting?\n",
    "\n",
    "Popular songs (with high play_freq) might dominate the recommendations if the algorithm relies only on predicted play counts. Subtracting 1/np.sqrt(play_freq) reduces the bias toward frequently played songs, promoting more diverse or less-played tracks, and allowing room for discovery of less popular but potentially interesting songs.\n",
    "For a song played 100 times, the correction is 1/10 = 0.1.\n",
    "For a song played 10,000 times, the correction is only 1/100 = 0.01. This way, extremely popular songs get only a small correction, while less popular ones get more of a reduction in predicted play counts."
   ]
  },
  {
   "cell_type": "code",
   "execution_count": 55,
   "metadata": {
    "colab": {
     "base_uri": "https://localhost:8080/",
     "height": 206
    },
    "executionInfo": {
     "elapsed": 252,
     "status": "ok",
     "timestamp": 1728914479298,
     "user": {
      "displayName": "Jayashree Lakshmi",
      "userId": "09309199442259744900"
     },
     "user_tz": 240
    },
    "id": "xoiAL_vH8miC",
    "outputId": "acf57ab4-d8e6-4264-a716-f5eb703f4a96"
   },
   "outputs": [
    {
     "data": {
      "application/vnd.google.colaboratory.intrinsic+json": {
       "summary": "{\n  \"name\": \"#recommendations\",\n  \"rows\": 5,\n  \"fields\": [\n    {\n      \"column\": \"song_id\",\n      \"properties\": {\n        \"dtype\": \"number\",\n        \"std\": 2362,\n        \"min\": 3165,\n        \"max\": 9019,\n        \"num_unique_values\": 5,\n        \"samples\": [\n          6716,\n          3770,\n          9019\n        ],\n        \"semantic_type\": \"\",\n        \"description\": \"\"\n      }\n    },\n    {\n      \"column\": \"play_freq\",\n      \"properties\": {\n        \"dtype\": \"number\",\n        \"std\": 116,\n        \"min\": 188,\n        \"max\": 464,\n        \"num_unique_values\": 5,\n        \"samples\": [\n          188,\n          198,\n          464\n        ],\n        \"semantic_type\": \"\",\n        \"description\": \"\"\n      }\n    },\n    {\n      \"column\": \"predicted_play_count\",\n      \"properties\": {\n        \"dtype\": \"number\",\n        \"std\": 0.09595517308867373,\n        \"min\": 2.4561252389939146,\n        \"max\": 2.6525618256900025,\n        \"num_unique_values\": 5,\n        \"samples\": [\n          2.6389728556495338,\n          2.4561252389939146,\n          2.6059442318122956\n        ],\n        \"semantic_type\": \"\",\n        \"description\": \"\"\n      }\n    },\n    {\n      \"column\": \"corrected_play_count\",\n      \"properties\": {\n        \"dtype\": \"number\",\n        \"std\": 0.09978206284659726,\n        \"min\": 2.3850583335420446,\n        \"max\": 2.600433222175734,\n        \"num_unique_values\": 5,\n        \"samples\": [\n          2.5660403599005863,\n          2.3850583335420446,\n          2.5595203972680327\n        ],\n        \"semantic_type\": \"\",\n        \"description\": \"\"\n      }\n    }\n  ]\n}",
       "type": "dataframe"
      },
      "text/html": [
       "\n",
       "  <div id=\"df-f678b77b-f22a-44c4-b1d7-f2f8eac3e56b\" class=\"colab-df-container\">\n",
       "    <div>\n",
       "<style scoped>\n",
       "    .dataframe tbody tr th:only-of-type {\n",
       "        vertical-align: middle;\n",
       "    }\n",
       "\n",
       "    .dataframe tbody tr th {\n",
       "        vertical-align: top;\n",
       "    }\n",
       "\n",
       "    .dataframe thead th {\n",
       "        text-align: right;\n",
       "    }\n",
       "</style>\n",
       "<table border=\"1\" class=\"dataframe\">\n",
       "  <thead>\n",
       "    <tr style=\"text-align: right;\">\n",
       "      <th></th>\n",
       "      <th>song_id</th>\n",
       "      <th>play_freq</th>\n",
       "      <th>predicted_play_count</th>\n",
       "      <th>corrected_play_count</th>\n",
       "    </tr>\n",
       "  </thead>\n",
       "  <tbody>\n",
       "    <tr>\n",
       "      <th>1</th>\n",
       "      <td>3165</td>\n",
       "      <td>368</td>\n",
       "      <td>2.652562</td>\n",
       "      <td>2.600433</td>\n",
       "    </tr>\n",
       "    <tr>\n",
       "      <th>4</th>\n",
       "      <td>6716</td>\n",
       "      <td>188</td>\n",
       "      <td>2.638973</td>\n",
       "      <td>2.566040</td>\n",
       "    </tr>\n",
       "    <tr>\n",
       "      <th>0</th>\n",
       "      <td>9019</td>\n",
       "      <td>464</td>\n",
       "      <td>2.605944</td>\n",
       "      <td>2.559520</td>\n",
       "    </tr>\n",
       "    <tr>\n",
       "      <th>2</th>\n",
       "      <td>6079</td>\n",
       "      <td>304</td>\n",
       "      <td>2.464149</td>\n",
       "      <td>2.406795</td>\n",
       "    </tr>\n",
       "    <tr>\n",
       "      <th>3</th>\n",
       "      <td>3770</td>\n",
       "      <td>198</td>\n",
       "      <td>2.456125</td>\n",
       "      <td>2.385058</td>\n",
       "    </tr>\n",
       "  </tbody>\n",
       "</table>\n",
       "</div>\n",
       "    <div class=\"colab-df-buttons\">\n",
       "\n",
       "  <div class=\"colab-df-container\">\n",
       "    <button class=\"colab-df-convert\" onclick=\"convertToInteractive('df-f678b77b-f22a-44c4-b1d7-f2f8eac3e56b')\"\n",
       "            title=\"Convert this dataframe to an interactive table.\"\n",
       "            style=\"display:none;\">\n",
       "\n",
       "  <svg xmlns=\"http://www.w3.org/2000/svg\" height=\"24px\" viewBox=\"0 -960 960 960\">\n",
       "    <path d=\"M120-120v-720h720v720H120Zm60-500h600v-160H180v160Zm220 220h160v-160H400v160Zm0 220h160v-160H400v160ZM180-400h160v-160H180v160Zm440 0h160v-160H620v160ZM180-180h160v-160H180v160Zm440 0h160v-160H620v160Z\"/>\n",
       "  </svg>\n",
       "    </button>\n",
       "\n",
       "  <style>\n",
       "    .colab-df-container {\n",
       "      display:flex;\n",
       "      gap: 12px;\n",
       "    }\n",
       "\n",
       "    .colab-df-convert {\n",
       "      background-color: #E8F0FE;\n",
       "      border: none;\n",
       "      border-radius: 50%;\n",
       "      cursor: pointer;\n",
       "      display: none;\n",
       "      fill: #1967D2;\n",
       "      height: 32px;\n",
       "      padding: 0 0 0 0;\n",
       "      width: 32px;\n",
       "    }\n",
       "\n",
       "    .colab-df-convert:hover {\n",
       "      background-color: #E2EBFA;\n",
       "      box-shadow: 0px 1px 2px rgba(60, 64, 67, 0.3), 0px 1px 3px 1px rgba(60, 64, 67, 0.15);\n",
       "      fill: #174EA6;\n",
       "    }\n",
       "\n",
       "    .colab-df-buttons div {\n",
       "      margin-bottom: 4px;\n",
       "    }\n",
       "\n",
       "    [theme=dark] .colab-df-convert {\n",
       "      background-color: #3B4455;\n",
       "      fill: #D2E3FC;\n",
       "    }\n",
       "\n",
       "    [theme=dark] .colab-df-convert:hover {\n",
       "      background-color: #434B5C;\n",
       "      box-shadow: 0px 1px 3px 1px rgba(0, 0, 0, 0.15);\n",
       "      filter: drop-shadow(0px 1px 2px rgba(0, 0, 0, 0.3));\n",
       "      fill: #FFFFFF;\n",
       "    }\n",
       "  </style>\n",
       "\n",
       "    <script>\n",
       "      const buttonEl =\n",
       "        document.querySelector('#df-f678b77b-f22a-44c4-b1d7-f2f8eac3e56b button.colab-df-convert');\n",
       "      buttonEl.style.display =\n",
       "        google.colab.kernel.accessAllowed ? 'block' : 'none';\n",
       "\n",
       "      async function convertToInteractive(key) {\n",
       "        const element = document.querySelector('#df-f678b77b-f22a-44c4-b1d7-f2f8eac3e56b');\n",
       "        const dataTable =\n",
       "          await google.colab.kernel.invokeFunction('convertToInteractive',\n",
       "                                                    [key], {});\n",
       "        if (!dataTable) return;\n",
       "\n",
       "        const docLinkHtml = 'Like what you see? Visit the ' +\n",
       "          '<a target=\"_blank\" href=https://colab.research.google.com/notebooks/data_table.ipynb>data table notebook</a>'\n",
       "          + ' to learn more about interactive tables.';\n",
       "        element.innerHTML = '';\n",
       "        dataTable['output_type'] = 'display_data';\n",
       "        await google.colab.output.renderOutput(dataTable, element);\n",
       "        const docLink = document.createElement('div');\n",
       "        docLink.innerHTML = docLinkHtml;\n",
       "        element.appendChild(docLink);\n",
       "      }\n",
       "    </script>\n",
       "  </div>\n",
       "\n",
       "\n",
       "<div id=\"df-c8fd94bb-86e0-4b78-b1eb-12b41232c53a\">\n",
       "  <button class=\"colab-df-quickchart\" onclick=\"quickchart('df-c8fd94bb-86e0-4b78-b1eb-12b41232c53a')\"\n",
       "            title=\"Suggest charts\"\n",
       "            style=\"display:none;\">\n",
       "\n",
       "<svg xmlns=\"http://www.w3.org/2000/svg\" height=\"24px\"viewBox=\"0 0 24 24\"\n",
       "     width=\"24px\">\n",
       "    <g>\n",
       "        <path d=\"M19 3H5c-1.1 0-2 .9-2 2v14c0 1.1.9 2 2 2h14c1.1 0 2-.9 2-2V5c0-1.1-.9-2-2-2zM9 17H7v-7h2v7zm4 0h-2V7h2v10zm4 0h-2v-4h2v4z\"/>\n",
       "    </g>\n",
       "</svg>\n",
       "  </button>\n",
       "\n",
       "<style>\n",
       "  .colab-df-quickchart {\n",
       "      --bg-color: #E8F0FE;\n",
       "      --fill-color: #1967D2;\n",
       "      --hover-bg-color: #E2EBFA;\n",
       "      --hover-fill-color: #174EA6;\n",
       "      --disabled-fill-color: #AAA;\n",
       "      --disabled-bg-color: #DDD;\n",
       "  }\n",
       "\n",
       "  [theme=dark] .colab-df-quickchart {\n",
       "      --bg-color: #3B4455;\n",
       "      --fill-color: #D2E3FC;\n",
       "      --hover-bg-color: #434B5C;\n",
       "      --hover-fill-color: #FFFFFF;\n",
       "      --disabled-bg-color: #3B4455;\n",
       "      --disabled-fill-color: #666;\n",
       "  }\n",
       "\n",
       "  .colab-df-quickchart {\n",
       "    background-color: var(--bg-color);\n",
       "    border: none;\n",
       "    border-radius: 50%;\n",
       "    cursor: pointer;\n",
       "    display: none;\n",
       "    fill: var(--fill-color);\n",
       "    height: 32px;\n",
       "    padding: 0;\n",
       "    width: 32px;\n",
       "  }\n",
       "\n",
       "  .colab-df-quickchart:hover {\n",
       "    background-color: var(--hover-bg-color);\n",
       "    box-shadow: 0 1px 2px rgba(60, 64, 67, 0.3), 0 1px 3px 1px rgba(60, 64, 67, 0.15);\n",
       "    fill: var(--button-hover-fill-color);\n",
       "  }\n",
       "\n",
       "  .colab-df-quickchart-complete:disabled,\n",
       "  .colab-df-quickchart-complete:disabled:hover {\n",
       "    background-color: var(--disabled-bg-color);\n",
       "    fill: var(--disabled-fill-color);\n",
       "    box-shadow: none;\n",
       "  }\n",
       "\n",
       "  .colab-df-spinner {\n",
       "    border: 2px solid var(--fill-color);\n",
       "    border-color: transparent;\n",
       "    border-bottom-color: var(--fill-color);\n",
       "    animation:\n",
       "      spin 1s steps(1) infinite;\n",
       "  }\n",
       "\n",
       "  @keyframes spin {\n",
       "    0% {\n",
       "      border-color: transparent;\n",
       "      border-bottom-color: var(--fill-color);\n",
       "      border-left-color: var(--fill-color);\n",
       "    }\n",
       "    20% {\n",
       "      border-color: transparent;\n",
       "      border-left-color: var(--fill-color);\n",
       "      border-top-color: var(--fill-color);\n",
       "    }\n",
       "    30% {\n",
       "      border-color: transparent;\n",
       "      border-left-color: var(--fill-color);\n",
       "      border-top-color: var(--fill-color);\n",
       "      border-right-color: var(--fill-color);\n",
       "    }\n",
       "    40% {\n",
       "      border-color: transparent;\n",
       "      border-right-color: var(--fill-color);\n",
       "      border-top-color: var(--fill-color);\n",
       "    }\n",
       "    60% {\n",
       "      border-color: transparent;\n",
       "      border-right-color: var(--fill-color);\n",
       "    }\n",
       "    80% {\n",
       "      border-color: transparent;\n",
       "      border-right-color: var(--fill-color);\n",
       "      border-bottom-color: var(--fill-color);\n",
       "    }\n",
       "    90% {\n",
       "      border-color: transparent;\n",
       "      border-bottom-color: var(--fill-color);\n",
       "    }\n",
       "  }\n",
       "</style>\n",
       "\n",
       "  <script>\n",
       "    async function quickchart(key) {\n",
       "      const quickchartButtonEl =\n",
       "        document.querySelector('#' + key + ' button');\n",
       "      quickchartButtonEl.disabled = true;  // To prevent multiple clicks.\n",
       "      quickchartButtonEl.classList.add('colab-df-spinner');\n",
       "      try {\n",
       "        const charts = await google.colab.kernel.invokeFunction(\n",
       "            'suggestCharts', [key], {});\n",
       "      } catch (error) {\n",
       "        console.error('Error during call to suggestCharts:', error);\n",
       "      }\n",
       "      quickchartButtonEl.classList.remove('colab-df-spinner');\n",
       "      quickchartButtonEl.classList.add('colab-df-quickchart-complete');\n",
       "    }\n",
       "    (() => {\n",
       "      let quickchartButtonEl =\n",
       "        document.querySelector('#df-c8fd94bb-86e0-4b78-b1eb-12b41232c53a button');\n",
       "      quickchartButtonEl.style.display =\n",
       "        google.colab.kernel.accessAllowed ? 'block' : 'none';\n",
       "    })();\n",
       "  </script>\n",
       "</div>\n",
       "\n",
       "    </div>\n",
       "  </div>\n"
      ],
      "text/plain": [
       "   song_id  play_freq  predicted_play_count  corrected_play_count\n",
       "1     3165        368              2.652562              2.600433\n",
       "4     6716        188              2.638973              2.566040\n",
       "0     9019        464              2.605944              2.559520\n",
       "2     6079        304              2.464149              2.406795\n",
       "3     3770        198              2.456125              2.385058"
      ]
     },
     "execution_count": 55,
     "metadata": {},
     "output_type": "execute_result"
    }
   ],
   "source": [
    "# Applying the ranking_songs function on the final_play data\n",
    "ranking_songs(recommendations, final_play)\n",
    "#recommendations"
   ]
  },
  {
   "cell_type": "markdown",
   "metadata": {
    "id": "KOwwGsH8toLG"
   },
   "source": [
    "**Observations and Insights:______________**\n",
    "After correcting the playcounts and rankings\n",
    "There is no much difference\n",
    "There is slight variations in the predicted and corrected play count"
   ]
  },
  {
   "cell_type": "markdown",
   "metadata": {
    "id": "QgbzJKk7Tsnr"
   },
   "source": [
    "### Item Item Similarity-based collaborative filtering recommendation systems"
   ]
  },
  {
   "cell_type": "code",
   "execution_count": 56,
   "metadata": {
    "colab": {
     "base_uri": "https://localhost:8080/"
    },
    "executionInfo": {
     "elapsed": 2109,
     "status": "ok",
     "timestamp": 1728914481192,
     "user": {
      "displayName": "Jayashree Lakshmi",
      "userId": "09309199442259744900"
     },
     "user_tz": 240
    },
    "id": "W5RMcdzjTsns",
    "outputId": "08e7a9d5-32ea-461d-8bd9-9b4460096572",
    "scrolled": false
   },
   "outputs": [
    {
     "name": "stdout",
     "output_type": "stream",
     "text": [
      "Computing the cosine similarity matrix...\n",
      "Done computing similarity matrix.\n",
      "RMSE: 1.0320\n",
      "Precision:  0.006\n",
      "Recall:  0.007\n",
      "F_1 score:  0.006\n"
     ]
    }
   ],
   "source": [
    "# Apply the item-item similarity collaborative filtering model with random_state = 1 and evaluate the model performance\n",
    "# Declaring the similarity options\n",
    "similarity_options = {\n",
    "      'name': 'cosine',     # Cosine similarity\n",
    "      'user_based': False    # This is for Item-Item similarity\n",
    "  }\n",
    "# KNN algorithm is used to find desired similar items. Use random_state=1\n",
    "item_item_cf_model = KNNBasic(sim_options=similarity_options, Verbose=False, random_state=1)\n",
    "# Train the algorithm on the trainset, and predict ratings for the test set\n",
    "# Fit the model on the training data\n",
    "item_item_cf_model.fit(trainset)\n",
    "\n",
    "# Let us compute precision@k, recall@k, and f_1 score with k = 10\n",
    "precision_recall_at_k(item_item_cf_model, k = 10, threshold = 3.5)\n"
   ]
  },
  {
   "cell_type": "markdown",
   "metadata": {
    "id": "JfdIJ6XWunx0"
   },
   "source": [
    "**Observations and Insights:______________**\n",
    "By using item-item similarity, the model leverages the relationship between items based on the users who interact with them. This helps provide recommendations for items that are similar to what users have liked in the past.\n",
    "\n",
    "The threshold for considering an item \"relevant\" is set at 3.5. This means that any predicted rating above 3.5 is assumed to be a good or relevant recommendation. This choice of threshold depends on the rating scale (e.g., if ratings range from 1 to 5)."
   ]
  },
  {
   "cell_type": "code",
   "execution_count": 57,
   "metadata": {
    "colab": {
     "base_uri": "https://localhost:8080/"
    },
    "executionInfo": {
     "elapsed": 11,
     "status": "ok",
     "timestamp": 1728914481192,
     "user": {
      "displayName": "Jayashree Lakshmi",
      "userId": "09309199442259744900"
     },
     "user_tz": 240
    },
    "id": "5yILOxXRTsns",
    "outputId": "79a679a4-354b-4ff0-fc27-dbc0df0f0c1a"
   },
   "outputs": [
    {
     "data": {
      "text/plain": [
       "Prediction(uid=6958, iid=1671, r_ui=None, est=1.3695958289911163, details={'actual_k': 18, 'was_impossible': False})"
      ]
     },
     "execution_count": 57,
     "metadata": {},
     "output_type": "execute_result"
    }
   ],
   "source": [
    "# Predicting play count for a sample user_id 6958 and song (with song_id 1671) listened to by the user\n",
    "item_item_cf_model.predict(uid=6958, iid=1671)"
   ]
  },
  {
   "cell_type": "code",
   "execution_count": 58,
   "metadata": {
    "colab": {
     "base_uri": "https://localhost:8080/"
    },
    "executionInfo": {
     "elapsed": 10,
     "status": "ok",
     "timestamp": 1728914481193,
     "user": {
      "displayName": "Jayashree Lakshmi",
      "userId": "09309199442259744900"
     },
     "user_tz": 240
    },
    "id": "PaYJLUFozBe_",
    "outputId": "7594118d-8fb1-4ec7-b982-3fa387a9a2f3"
   },
   "outputs": [
    {
     "data": {
      "text/plain": [
       "[8194, 49157, 32773, 8199, 40969]"
      ]
     },
     "execution_count": 58,
     "metadata": {},
     "output_type": "execute_result"
    }
   ],
   "source": [
    "n_users_not_listened_song(5, df_final, '1671')"
   ]
  },
  {
   "cell_type": "code",
   "execution_count": 59,
   "metadata": {
    "colab": {
     "base_uri": "https://localhost:8080/"
    },
    "executionInfo": {
     "elapsed": 7,
     "status": "ok",
     "timestamp": 1728914481193,
     "user": {
      "displayName": "Jayashree Lakshmi",
      "userId": "09309199442259744900"
     },
     "user_tz": 240
    },
    "id": "jSn8oK3JZsTc",
    "outputId": "7bdcfe53-384f-4c9f-bcbc-19adc5417af1"
   },
   "outputs": [
    {
     "data": {
      "text/plain": [
       "Prediction(uid=33280, iid=3232, r_ui=None, est=1.741083278299966, details={'actual_k': 40, 'was_impossible': False})"
      ]
     },
     "execution_count": 59,
     "metadata": {},
     "output_type": "execute_result"
    }
   ],
   "source": [
    "# Predict the play count for a user that has not listened to the song (with song_id 1671)\n",
    "item_item_cf_model.predict(uid=33280, iid=3232)"
   ]
  },
  {
   "cell_type": "markdown",
   "metadata": {
    "id": "dxE9fJ8Dupby"
   },
   "source": [
    "**Observations and Insights:______________**\n",
    "\n",
    "__Predicting play count for a sample user (user_id = 6958) and a song (song_id = 1671) listened to by the user:__\n",
    "Given the low estimated value, it seems that the user might not have a high interest in continuing to listen to this song, despite having listened to it previously.\n",
    "\n",
    "__Predicting play count for a user (user_id = 33280) who has not listened to the song (song_id = 3232):__\n",
    "Despite the user not having any prior interaction with the song, the estimated play count is still 1.74, which is higher than the first prediction for user 6958, who has listened to the song.\n",
    "The model uses a higher number of neighbors (40) in this case, which may provide a broader context for the prediction. This suggests that the song may have high similarity to many other items the user has interacted with, leading to a slightly higher play count prediction.\n",
    "\n",
    " Given the relatively low predicted values (both below 2), it is important to explore further fine-tuning or alternative recommendation strategies if the goal is to improve prediction accuracy, especially for more engaged users. Hyperparameter tuning, such as adjusting the number of neighbors, could potentially improve the prediction results."
   ]
  },
  {
   "cell_type": "code",
   "execution_count": 60,
   "metadata": {
    "colab": {
     "base_uri": "https://localhost:8080/"
    },
    "executionInfo": {
     "elapsed": 198067,
     "status": "ok",
     "timestamp": 1728914679256,
     "user": {
      "displayName": "Jayashree Lakshmi",
      "userId": "09309199442259744900"
     },
     "user_tz": 240
    },
    "id": "f5bcZ3HgTsnt",
    "outputId": "6f132c59-4615-4525-a553-387e240e410d"
   },
   "outputs": [
    {
     "name": "stdout",
     "output_type": "stream",
     "text": [
      "Computing the msd similarity matrix...\n",
      "Done computing similarity matrix.\n",
      "Computing the msd similarity matrix...\n",
      "Done computing similarity matrix.\n",
      "Computing the msd similarity matrix...\n",
      "Done computing similarity matrix.\n",
      "Computing the cosine similarity matrix...\n",
      "Done computing similarity matrix.\n",
      "Computing the cosine similarity matrix...\n",
      "Done computing similarity matrix.\n",
      "Computing the cosine similarity matrix...\n",
      "Done computing similarity matrix.\n",
      "Computing the msd similarity matrix...\n",
      "Done computing similarity matrix.\n",
      "Computing the msd similarity matrix...\n",
      "Done computing similarity matrix.\n",
      "Computing the msd similarity matrix...\n",
      "Done computing similarity matrix.\n",
      "Computing the cosine similarity matrix...\n",
      "Done computing similarity matrix.\n",
      "Computing the cosine similarity matrix...\n",
      "Done computing similarity matrix.\n",
      "Computing the cosine similarity matrix...\n",
      "Done computing similarity matrix.\n",
      "Computing the msd similarity matrix...\n",
      "Done computing similarity matrix.\n",
      "Computing the msd similarity matrix...\n",
      "Done computing similarity matrix.\n",
      "Computing the msd similarity matrix...\n",
      "Done computing similarity matrix.\n",
      "Computing the cosine similarity matrix...\n",
      "Done computing similarity matrix.\n",
      "Computing the cosine similarity matrix...\n",
      "Done computing similarity matrix.\n",
      "Computing the cosine similarity matrix...\n",
      "Done computing similarity matrix.\n",
      "Computing the msd similarity matrix...\n",
      "Done computing similarity matrix.\n",
      "Computing the msd similarity matrix...\n",
      "Done computing similarity matrix.\n",
      "Computing the msd similarity matrix...\n",
      "Done computing similarity matrix.\n",
      "Computing the cosine similarity matrix...\n",
      "Done computing similarity matrix.\n",
      "Computing the cosine similarity matrix...\n",
      "Done computing similarity matrix.\n",
      "Computing the cosine similarity matrix...\n",
      "Done computing similarity matrix.\n",
      "Computing the msd similarity matrix...\n",
      "Done computing similarity matrix.\n",
      "Computing the msd similarity matrix...\n",
      "Done computing similarity matrix.\n",
      "Computing the msd similarity matrix...\n",
      "Done computing similarity matrix.\n",
      "Computing the cosine similarity matrix...\n",
      "Done computing similarity matrix.\n",
      "Computing the cosine similarity matrix...\n",
      "Done computing similarity matrix.\n",
      "Computing the cosine similarity matrix...\n",
      "Done computing similarity matrix.\n",
      "Computing the msd similarity matrix...\n",
      "Done computing similarity matrix.\n",
      "Computing the msd similarity matrix...\n",
      "Done computing similarity matrix.\n",
      "Computing the msd similarity matrix...\n",
      "Done computing similarity matrix.\n",
      "Computing the cosine similarity matrix...\n",
      "Done computing similarity matrix.\n",
      "Computing the cosine similarity matrix...\n",
      "Done computing similarity matrix.\n",
      "Computing the cosine similarity matrix...\n",
      "Done computing similarity matrix.\n",
      "Computing the msd similarity matrix...\n",
      "Done computing similarity matrix.\n",
      "Computing the msd similarity matrix...\n",
      "Done computing similarity matrix.\n",
      "Computing the msd similarity matrix...\n",
      "Done computing similarity matrix.\n",
      "Computing the cosine similarity matrix...\n",
      "Done computing similarity matrix.\n",
      "Computing the cosine similarity matrix...\n",
      "Done computing similarity matrix.\n",
      "Computing the cosine similarity matrix...\n",
      "Done computing similarity matrix.\n",
      "Computing the msd similarity matrix...\n",
      "Done computing similarity matrix.\n",
      "Computing the msd similarity matrix...\n",
      "Done computing similarity matrix.\n",
      "Computing the msd similarity matrix...\n",
      "Done computing similarity matrix.\n",
      "Computing the cosine similarity matrix...\n",
      "Done computing similarity matrix.\n",
      "Computing the cosine similarity matrix...\n",
      "Done computing similarity matrix.\n",
      "Computing the cosine similarity matrix...\n",
      "Done computing similarity matrix.\n",
      "Computing the msd similarity matrix...\n",
      "Done computing similarity matrix.\n",
      "Computing the msd similarity matrix...\n",
      "Done computing similarity matrix.\n",
      "Computing the msd similarity matrix...\n",
      "Done computing similarity matrix.\n",
      "Computing the cosine similarity matrix...\n",
      "Done computing similarity matrix.\n",
      "Computing the cosine similarity matrix...\n",
      "Done computing similarity matrix.\n",
      "Computing the cosine similarity matrix...\n",
      "Done computing similarity matrix.\n",
      "Best RMSE score:  1.0154715020055995\n",
      "Best parameters:  {'k': 30, 'min_k': 3, 'sim_options': {'name': 'msd', 'user_based': False}}\n"
     ]
    }
   ],
   "source": [
    "# Apply grid search for enhancing model performance\n",
    "# Setting up parameter grid to tune the hyperparameters\n",
    "param_grid = {\n",
    "  'k': [10, 20, 30],  # Number of neighbors\n",
    "  'min_k': [3, 6, 9],  # Minimum number of neighbors\n",
    "  'sim_options': {\n",
    "    'name': ['msd', 'cosine'],  # Similarity measures\n",
    "    'user_based': [False]  # Item-based collaborative filtering\n",
    "  }\n",
    "}\n",
    "\n",
    "# Performing 3-fold cross-validation to tune the hyperparameters\n",
    "grid_search = GridSearchCV(KNNBasic, param_grid, measures=['rmse'], cv=3)\n",
    "# Fitting the data\n",
    "grid_search.fit(reader_data)\n",
    "\n",
    "# Find the best RMSE score\n",
    "best_rmse = grid_search.best_score['rmse']\n",
    "\n",
    "# Extract the combination of parameters that gave the best RMSE score\n",
    "best_params = grid_search.best_params['rmse']\n",
    "\n",
    "# Best RMSE score\n",
    "print(\"Best RMSE score: \", best_rmse)\n",
    "# Combination of parameters that gave the best RMSE score\n",
    "print(\"Best parameters: \", best_params)"
   ]
  },
  {
   "cell_type": "markdown",
   "metadata": {
    "id": "SXLxjLEQYvWk"
   },
   "source": [
    "**Think About It:** How do the parameters affect the performance of the model? Can we improve the performance of the model further? Check the list of hyperparameters [here](https://surprise.readthedocs.io/en/stable/knn_inspired.html)."
   ]
  },
  {
   "cell_type": "code",
   "execution_count": 61,
   "metadata": {
    "colab": {
     "base_uri": "https://localhost:8080/"
    },
    "executionInfo": {
     "elapsed": 9801,
     "status": "ok",
     "timestamp": 1728914689047,
     "user": {
      "displayName": "Jayashree Lakshmi",
      "userId": "09309199442259744900"
     },
     "user_tz": 240
    },
    "id": "dSeiM1qeTsnt",
    "outputId": "d5320b41-8d27-445f-c439-0b0ebd0fbe45"
   },
   "outputs": [
    {
     "name": "stdout",
     "output_type": "stream",
     "text": [
      "Computing the msd similarity matrix...\n",
      "Done computing similarity matrix.\n",
      "RMSE: 0.8178\n",
      "Precision:  0.028\n",
      "Recall:  0.018\n",
      "F_1 score:  0.022\n"
     ]
    }
   ],
   "source": [
    "# Apply the best model found in the grid search\n",
    "tuned_item_item_cf_model = KNNBasic(k=best_params['k'], min_k=best_params['min_k'], sim_options=best_params['sim_options'])\n",
    "trainset = reader_data.build_full_trainset()  # Build the full training set from the data\n",
    "tuned_item_item_cf_model.fit(trainset)  # Fit the final model\n",
    "precision_recall_at_k(tuned_item_item_cf_model, k = 10, threshold = 3.5)"
   ]
  },
  {
   "cell_type": "markdown",
   "metadata": {
    "id": "XxXelRIluvfh"
   },
   "source": [
    "**Observations and Insights:______________**\n",
    "* Improved Accuracy (RMSE): The model’s ability to predict actual play counts has improved after hyperparameter tuning, as indicated by the lower RMSE.\n",
    "* Challenges with Recommendation Relevance: Despite better prediction accuracy, the low precision, recall, and F1-score show that the model struggles to consistently recommend relevant items to users. The recommendations may still be too generic or not closely aligned with user preferences."
   ]
  },
  {
   "cell_type": "code",
   "execution_count": 62,
   "metadata": {
    "colab": {
     "base_uri": "https://localhost:8080/"
    },
    "executionInfo": {
     "elapsed": 38,
     "status": "ok",
     "timestamp": 1728914689051,
     "user": {
      "displayName": "Jayashree Lakshmi",
      "userId": "09309199442259744900"
     },
     "user_tz": 240
    },
    "id": "gIBRRvdoTsnt",
    "outputId": "c6abb3d0-54ab-4338-eee4-2f4d1593d7d4"
   },
   "outputs": [
    {
     "data": {
      "text/plain": [
       "Prediction(uid=6958, iid=1671, r_ui=None, est=1.2908008038121028, details={'actual_k': 30, 'was_impossible': False})"
      ]
     },
     "execution_count": 62,
     "metadata": {},
     "output_type": "execute_result"
    }
   ],
   "source": [
    "# Predict the play_count by a user(user_id 6958) for the song (song_id 1671)\n",
    "tuned_item_item_cf_model.predict(uid=6958, iid=1671)"
   ]
  },
  {
   "cell_type": "code",
   "execution_count": 63,
   "metadata": {
    "colab": {
     "base_uri": "https://localhost:8080/"
    },
    "executionInfo": {
     "elapsed": 36,
     "status": "ok",
     "timestamp": 1728914689052,
     "user": {
      "displayName": "Jayashree Lakshmi",
      "userId": "09309199442259744900"
     },
     "user_tz": 240
    },
    "id": "LNEgcI9PTsnu",
    "outputId": "99fe9985-ab95-49ea-9016-878d7625c597"
   },
   "outputs": [
    {
     "data": {
      "text/plain": [
       "Prediction(uid=6958, iid=3232, r_ui=None, est=1.5153817197044586, details={'actual_k': 30, 'was_impossible': False})"
      ]
     },
     "execution_count": 63,
     "metadata": {},
     "output_type": "execute_result"
    }
   ],
   "source": [
    "# Predicting play count for a sample user_id 6958 with song_id 3232 which is not listened to by the user\n",
    "tuned_item_item_cf_model.predict(uid=6958, iid=3232)"
   ]
  },
  {
   "cell_type": "markdown",
   "metadata": {
    "id": "yf3kDSepuwcw"
   },
   "source": [
    "**Observations and Insights:______________**\n",
    "Both predictions result in low ratings (1.29 and 1.52), suggesting that the user likely has a low level of interest in both songs. The predictions indicate that the user’s engagement with these items would probably be minimal.\n",
    "\n",
    "The predicted ratings are similar for both the listened and unlistened songs. This suggests that the model identifies this user's preferences as leaning toward lower ratings across items, possibly indicating an overall low engagement with the items in this neighborhood."
   ]
  },
  {
   "cell_type": "code",
   "execution_count": 64,
   "metadata": {
    "colab": {
     "base_uri": "https://localhost:8080/"
    },
    "executionInfo": {
     "elapsed": 34,
     "status": "ok",
     "timestamp": 1728914689054,
     "user": {
      "displayName": "Jayashree Lakshmi",
      "userId": "09309199442259744900"
     },
     "user_tz": 240
    },
    "id": "ZRJS4oDFTsnu",
    "outputId": "13ae77ea-c3a9-4ebc-a09e-2c6fdbb7635f"
   },
   "outputs": [
    {
     "data": {
      "text/plain": [
       "[48, 59, 90, 121, 139]"
      ]
     },
     "execution_count": 64,
     "metadata": {},
     "output_type": "execute_result"
    }
   ],
   "source": [
    "# Find five most similar items to the item with inner id 0\n",
    "item_inner_id=0\n",
    "n=5\n",
    "similar_items = tuned_item_item_cf_model.get_neighbors(item_inner_id, n)\n",
    "similar_items"
   ]
  },
  {
   "cell_type": "code",
   "execution_count": 65,
   "metadata": {
    "colab": {
     "base_uri": "https://localhost:8080/"
    },
    "executionInfo": {
     "elapsed": 30,
     "status": "ok",
     "timestamp": 1728914689054,
     "user": {
      "displayName": "Jayashree Lakshmi",
      "userId": "09309199442259744900"
     },
     "user_tz": 240
    },
    "id": "rzoEbuZFTsnu",
    "outputId": "ef7cd1ca-4fd5-49cc-dc60-5d00573c9124"
   },
   "outputs": [
    {
     "data": {
      "text/plain": [
       "[(9942, 1.8911178387601861),\n",
       " (4831, 1.679919928989588),\n",
       " (6860, 1.6118461466243426),\n",
       " (5344, 1.599607300965113),\n",
       " (4270, 1.5935923267106638)]"
      ]
     },
     "execution_count": 65,
     "metadata": {},
     "output_type": "execute_result"
    }
   ],
   "source": [
    "# Making top 5 recommendations for any user_id  with item_item_similarity-based recommendation engine\n",
    "recommendations = get_recommendations(data_aggregated, 6958, 5, tuned_item_item_cf_model)\n",
    "recommendations"
   ]
  },
  {
   "cell_type": "code",
   "execution_count": 66,
   "metadata": {
    "colab": {
     "base_uri": "https://localhost:8080/",
     "height": 206
    },
    "executionInfo": {
     "elapsed": 27,
     "status": "ok",
     "timestamp": 1728914689054,
     "user": {
      "displayName": "Jayashree Lakshmi",
      "userId": "09309199442259744900"
     },
     "user_tz": 240
    },
    "id": "_kXVTiysTsnv",
    "outputId": "434893ea-6446-470d-b10f-52f9c9a860d8"
   },
   "outputs": [
    {
     "data": {
      "application/vnd.google.colaboratory.intrinsic+json": {
       "summary": "{\n  \"name\": \"pd\",\n  \"rows\": 5,\n  \"fields\": [\n    {\n      \"column\": \"song_id\",\n      \"properties\": {\n        \"dtype\": \"number\",\n        \"std\": 2278,\n        \"min\": 4270,\n        \"max\": 9942,\n        \"num_unique_values\": 5,\n        \"samples\": [\n          4831,\n          4270,\n          6860\n        ],\n        \"semantic_type\": \"\",\n        \"description\": \"\"\n      }\n    },\n    {\n      \"column\": \"predicted_play_count\",\n      \"properties\": {\n        \"dtype\": \"number\",\n        \"std\": 0.1255294473951272,\n        \"min\": 1.5935923267106638,\n        \"max\": 1.8911178387601861,\n        \"num_unique_values\": 5,\n        \"samples\": [\n          1.679919928989588,\n          1.5935923267106638,\n          1.6118461466243426\n        ],\n        \"semantic_type\": \"\",\n        \"description\": \"\"\n      }\n    }\n  ]\n}",
       "type": "dataframe"
      },
      "text/html": [
       "\n",
       "  <div id=\"df-2d596d23-3d8e-45f1-9be1-4ea7a73785d3\" class=\"colab-df-container\">\n",
       "    <div>\n",
       "<style scoped>\n",
       "    .dataframe tbody tr th:only-of-type {\n",
       "        vertical-align: middle;\n",
       "    }\n",
       "\n",
       "    .dataframe tbody tr th {\n",
       "        vertical-align: top;\n",
       "    }\n",
       "\n",
       "    .dataframe thead th {\n",
       "        text-align: right;\n",
       "    }\n",
       "</style>\n",
       "<table border=\"1\" class=\"dataframe\">\n",
       "  <thead>\n",
       "    <tr style=\"text-align: right;\">\n",
       "      <th></th>\n",
       "      <th>song_id</th>\n",
       "      <th>predicted_play_count</th>\n",
       "    </tr>\n",
       "  </thead>\n",
       "  <tbody>\n",
       "    <tr>\n",
       "      <th>0</th>\n",
       "      <td>9942</td>\n",
       "      <td>1.891118</td>\n",
       "    </tr>\n",
       "    <tr>\n",
       "      <th>1</th>\n",
       "      <td>4831</td>\n",
       "      <td>1.679920</td>\n",
       "    </tr>\n",
       "    <tr>\n",
       "      <th>2</th>\n",
       "      <td>6860</td>\n",
       "      <td>1.611846</td>\n",
       "    </tr>\n",
       "    <tr>\n",
       "      <th>3</th>\n",
       "      <td>5344</td>\n",
       "      <td>1.599607</td>\n",
       "    </tr>\n",
       "    <tr>\n",
       "      <th>4</th>\n",
       "      <td>4270</td>\n",
       "      <td>1.593592</td>\n",
       "    </tr>\n",
       "  </tbody>\n",
       "</table>\n",
       "</div>\n",
       "    <div class=\"colab-df-buttons\">\n",
       "\n",
       "  <div class=\"colab-df-container\">\n",
       "    <button class=\"colab-df-convert\" onclick=\"convertToInteractive('df-2d596d23-3d8e-45f1-9be1-4ea7a73785d3')\"\n",
       "            title=\"Convert this dataframe to an interactive table.\"\n",
       "            style=\"display:none;\">\n",
       "\n",
       "  <svg xmlns=\"http://www.w3.org/2000/svg\" height=\"24px\" viewBox=\"0 -960 960 960\">\n",
       "    <path d=\"M120-120v-720h720v720H120Zm60-500h600v-160H180v160Zm220 220h160v-160H400v160Zm0 220h160v-160H400v160ZM180-400h160v-160H180v160Zm440 0h160v-160H620v160ZM180-180h160v-160H180v160Zm440 0h160v-160H620v160Z\"/>\n",
       "  </svg>\n",
       "    </button>\n",
       "\n",
       "  <style>\n",
       "    .colab-df-container {\n",
       "      display:flex;\n",
       "      gap: 12px;\n",
       "    }\n",
       "\n",
       "    .colab-df-convert {\n",
       "      background-color: #E8F0FE;\n",
       "      border: none;\n",
       "      border-radius: 50%;\n",
       "      cursor: pointer;\n",
       "      display: none;\n",
       "      fill: #1967D2;\n",
       "      height: 32px;\n",
       "      padding: 0 0 0 0;\n",
       "      width: 32px;\n",
       "    }\n",
       "\n",
       "    .colab-df-convert:hover {\n",
       "      background-color: #E2EBFA;\n",
       "      box-shadow: 0px 1px 2px rgba(60, 64, 67, 0.3), 0px 1px 3px 1px rgba(60, 64, 67, 0.15);\n",
       "      fill: #174EA6;\n",
       "    }\n",
       "\n",
       "    .colab-df-buttons div {\n",
       "      margin-bottom: 4px;\n",
       "    }\n",
       "\n",
       "    [theme=dark] .colab-df-convert {\n",
       "      background-color: #3B4455;\n",
       "      fill: #D2E3FC;\n",
       "    }\n",
       "\n",
       "    [theme=dark] .colab-df-convert:hover {\n",
       "      background-color: #434B5C;\n",
       "      box-shadow: 0px 1px 3px 1px rgba(0, 0, 0, 0.15);\n",
       "      filter: drop-shadow(0px 1px 2px rgba(0, 0, 0, 0.3));\n",
       "      fill: #FFFFFF;\n",
       "    }\n",
       "  </style>\n",
       "\n",
       "    <script>\n",
       "      const buttonEl =\n",
       "        document.querySelector('#df-2d596d23-3d8e-45f1-9be1-4ea7a73785d3 button.colab-df-convert');\n",
       "      buttonEl.style.display =\n",
       "        google.colab.kernel.accessAllowed ? 'block' : 'none';\n",
       "\n",
       "      async function convertToInteractive(key) {\n",
       "        const element = document.querySelector('#df-2d596d23-3d8e-45f1-9be1-4ea7a73785d3');\n",
       "        const dataTable =\n",
       "          await google.colab.kernel.invokeFunction('convertToInteractive',\n",
       "                                                    [key], {});\n",
       "        if (!dataTable) return;\n",
       "\n",
       "        const docLinkHtml = 'Like what you see? Visit the ' +\n",
       "          '<a target=\"_blank\" href=https://colab.research.google.com/notebooks/data_table.ipynb>data table notebook</a>'\n",
       "          + ' to learn more about interactive tables.';\n",
       "        element.innerHTML = '';\n",
       "        dataTable['output_type'] = 'display_data';\n",
       "        await google.colab.output.renderOutput(dataTable, element);\n",
       "        const docLink = document.createElement('div');\n",
       "        docLink.innerHTML = docLinkHtml;\n",
       "        element.appendChild(docLink);\n",
       "      }\n",
       "    </script>\n",
       "  </div>\n",
       "\n",
       "\n",
       "<div id=\"df-b736c413-e9a7-409d-bfc9-7ba6be6b1ec0\">\n",
       "  <button class=\"colab-df-quickchart\" onclick=\"quickchart('df-b736c413-e9a7-409d-bfc9-7ba6be6b1ec0')\"\n",
       "            title=\"Suggest charts\"\n",
       "            style=\"display:none;\">\n",
       "\n",
       "<svg xmlns=\"http://www.w3.org/2000/svg\" height=\"24px\"viewBox=\"0 0 24 24\"\n",
       "     width=\"24px\">\n",
       "    <g>\n",
       "        <path d=\"M19 3H5c-1.1 0-2 .9-2 2v14c0 1.1.9 2 2 2h14c1.1 0 2-.9 2-2V5c0-1.1-.9-2-2-2zM9 17H7v-7h2v7zm4 0h-2V7h2v10zm4 0h-2v-4h2v4z\"/>\n",
       "    </g>\n",
       "</svg>\n",
       "  </button>\n",
       "\n",
       "<style>\n",
       "  .colab-df-quickchart {\n",
       "      --bg-color: #E8F0FE;\n",
       "      --fill-color: #1967D2;\n",
       "      --hover-bg-color: #E2EBFA;\n",
       "      --hover-fill-color: #174EA6;\n",
       "      --disabled-fill-color: #AAA;\n",
       "      --disabled-bg-color: #DDD;\n",
       "  }\n",
       "\n",
       "  [theme=dark] .colab-df-quickchart {\n",
       "      --bg-color: #3B4455;\n",
       "      --fill-color: #D2E3FC;\n",
       "      --hover-bg-color: #434B5C;\n",
       "      --hover-fill-color: #FFFFFF;\n",
       "      --disabled-bg-color: #3B4455;\n",
       "      --disabled-fill-color: #666;\n",
       "  }\n",
       "\n",
       "  .colab-df-quickchart {\n",
       "    background-color: var(--bg-color);\n",
       "    border: none;\n",
       "    border-radius: 50%;\n",
       "    cursor: pointer;\n",
       "    display: none;\n",
       "    fill: var(--fill-color);\n",
       "    height: 32px;\n",
       "    padding: 0;\n",
       "    width: 32px;\n",
       "  }\n",
       "\n",
       "  .colab-df-quickchart:hover {\n",
       "    background-color: var(--hover-bg-color);\n",
       "    box-shadow: 0 1px 2px rgba(60, 64, 67, 0.3), 0 1px 3px 1px rgba(60, 64, 67, 0.15);\n",
       "    fill: var(--button-hover-fill-color);\n",
       "  }\n",
       "\n",
       "  .colab-df-quickchart-complete:disabled,\n",
       "  .colab-df-quickchart-complete:disabled:hover {\n",
       "    background-color: var(--disabled-bg-color);\n",
       "    fill: var(--disabled-fill-color);\n",
       "    box-shadow: none;\n",
       "  }\n",
       "\n",
       "  .colab-df-spinner {\n",
       "    border: 2px solid var(--fill-color);\n",
       "    border-color: transparent;\n",
       "    border-bottom-color: var(--fill-color);\n",
       "    animation:\n",
       "      spin 1s steps(1) infinite;\n",
       "  }\n",
       "\n",
       "  @keyframes spin {\n",
       "    0% {\n",
       "      border-color: transparent;\n",
       "      border-bottom-color: var(--fill-color);\n",
       "      border-left-color: var(--fill-color);\n",
       "    }\n",
       "    20% {\n",
       "      border-color: transparent;\n",
       "      border-left-color: var(--fill-color);\n",
       "      border-top-color: var(--fill-color);\n",
       "    }\n",
       "    30% {\n",
       "      border-color: transparent;\n",
       "      border-left-color: var(--fill-color);\n",
       "      border-top-color: var(--fill-color);\n",
       "      border-right-color: var(--fill-color);\n",
       "    }\n",
       "    40% {\n",
       "      border-color: transparent;\n",
       "      border-right-color: var(--fill-color);\n",
       "      border-top-color: var(--fill-color);\n",
       "    }\n",
       "    60% {\n",
       "      border-color: transparent;\n",
       "      border-right-color: var(--fill-color);\n",
       "    }\n",
       "    80% {\n",
       "      border-color: transparent;\n",
       "      border-right-color: var(--fill-color);\n",
       "      border-bottom-color: var(--fill-color);\n",
       "    }\n",
       "    90% {\n",
       "      border-color: transparent;\n",
       "      border-bottom-color: var(--fill-color);\n",
       "    }\n",
       "  }\n",
       "</style>\n",
       "\n",
       "  <script>\n",
       "    async function quickchart(key) {\n",
       "      const quickchartButtonEl =\n",
       "        document.querySelector('#' + key + ' button');\n",
       "      quickchartButtonEl.disabled = true;  // To prevent multiple clicks.\n",
       "      quickchartButtonEl.classList.add('colab-df-spinner');\n",
       "      try {\n",
       "        const charts = await google.colab.kernel.invokeFunction(\n",
       "            'suggestCharts', [key], {});\n",
       "      } catch (error) {\n",
       "        console.error('Error during call to suggestCharts:', error);\n",
       "      }\n",
       "      quickchartButtonEl.classList.remove('colab-df-spinner');\n",
       "      quickchartButtonEl.classList.add('colab-df-quickchart-complete');\n",
       "    }\n",
       "    (() => {\n",
       "      let quickchartButtonEl =\n",
       "        document.querySelector('#df-b736c413-e9a7-409d-bfc9-7ba6be6b1ec0 button');\n",
       "      quickchartButtonEl.style.display =\n",
       "        google.colab.kernel.accessAllowed ? 'block' : 'none';\n",
       "    })();\n",
       "  </script>\n",
       "</div>\n",
       "\n",
       "    </div>\n",
       "  </div>\n"
      ],
      "text/plain": [
       "   song_id  predicted_play_count\n",
       "0     9942              1.891118\n",
       "1     4831              1.679920\n",
       "2     6860              1.611846\n",
       "3     5344              1.599607\n",
       "4     4270              1.593592"
      ]
     },
     "execution_count": 66,
     "metadata": {},
     "output_type": "execute_result"
    }
   ],
   "source": [
    "# Building the dataframe for above recommendations with columns \"song_id\" and \"predicted_play_count\"\n",
    "pd.DataFrame(recommendations, columns=['song_id', 'predicted_play_count'])"
   ]
  },
  {
   "cell_type": "code",
   "execution_count": 67,
   "metadata": {
    "colab": {
     "base_uri": "https://localhost:8080/",
     "height": 206
    },
    "executionInfo": {
     "elapsed": 26,
     "status": "ok",
     "timestamp": 1728914689054,
     "user": {
      "displayName": "Jayashree Lakshmi",
      "userId": "09309199442259744900"
     },
     "user_tz": 240
    },
    "id": "7gewfmTATsnv",
    "outputId": "98ced655-bf6c-445e-95c6-9a7cbcbb05ed"
   },
   "outputs": [
    {
     "data": {
      "application/vnd.google.colaboratory.intrinsic+json": {
       "summary": "{\n  \"name\": \"ranking_songs(recommendations, final_play)\",\n  \"rows\": 5,\n  \"fields\": [\n    {\n      \"column\": \"song_id\",\n      \"properties\": {\n        \"dtype\": \"number\",\n        \"std\": 2278,\n        \"min\": 4270,\n        \"max\": 9942,\n        \"num_unique_values\": 5,\n        \"samples\": [\n          4831,\n          5344,\n          4270\n        ],\n        \"semantic_type\": \"\",\n        \"description\": \"\"\n      }\n    },\n    {\n      \"column\": \"play_freq\",\n      \"properties\": {\n        \"dtype\": \"number\",\n        \"std\": 368,\n        \"min\": 98,\n        \"max\": 960,\n        \"num_unique_values\": 5,\n        \"samples\": [\n          98,\n          123,\n          960\n        ],\n        \"semantic_type\": \"\",\n        \"description\": \"\"\n      }\n    },\n    {\n      \"column\": \"predicted_play_count\",\n      \"properties\": {\n        \"dtype\": \"number\",\n        \"std\": 0.1255294473951272,\n        \"min\": 1.5935923267106638,\n        \"max\": 1.8911178387601861,\n        \"num_unique_values\": 5,\n        \"samples\": [\n          1.679919928989588,\n          1.599607300965113,\n          1.5935923267106638\n        ],\n        \"semantic_type\": \"\",\n        \"description\": \"\"\n      }\n    },\n    {\n      \"column\": \"corrected_play_count\",\n      \"properties\": {\n        \"dtype\": \"number\",\n        \"std\": 0.12146559444560157,\n        \"min\": 1.5094403374983698,\n        \"max\": 1.8118126801883716,\n        \"num_unique_values\": 5,\n        \"samples\": [\n          1.5789046745343671,\n          1.5094403374983698,\n          1.5613174654922686\n        ],\n        \"semantic_type\": \"\",\n        \"description\": \"\"\n      }\n    }\n  ]\n}",
       "type": "dataframe"
      },
      "text/html": [
       "\n",
       "  <div id=\"df-dbfe1ef3-f1be-43c7-96f8-68a92b526ce1\" class=\"colab-df-container\">\n",
       "    <div>\n",
       "<style scoped>\n",
       "    .dataframe tbody tr th:only-of-type {\n",
       "        vertical-align: middle;\n",
       "    }\n",
       "\n",
       "    .dataframe tbody tr th {\n",
       "        vertical-align: top;\n",
       "    }\n",
       "\n",
       "    .dataframe thead th {\n",
       "        text-align: right;\n",
       "    }\n",
       "</style>\n",
       "<table border=\"1\" class=\"dataframe\">\n",
       "  <thead>\n",
       "    <tr style=\"text-align: right;\">\n",
       "      <th></th>\n",
       "      <th>song_id</th>\n",
       "      <th>play_freq</th>\n",
       "      <th>predicted_play_count</th>\n",
       "      <th>corrected_play_count</th>\n",
       "    </tr>\n",
       "  </thead>\n",
       "  <tbody>\n",
       "    <tr>\n",
       "      <th>2</th>\n",
       "      <td>9942</td>\n",
       "      <td>159</td>\n",
       "      <td>1.891118</td>\n",
       "      <td>1.811813</td>\n",
       "    </tr>\n",
       "    <tr>\n",
       "      <th>4</th>\n",
       "      <td>4831</td>\n",
       "      <td>98</td>\n",
       "      <td>1.679920</td>\n",
       "      <td>1.578905</td>\n",
       "    </tr>\n",
       "    <tr>\n",
       "      <th>0</th>\n",
       "      <td>4270</td>\n",
       "      <td>960</td>\n",
       "      <td>1.593592</td>\n",
       "      <td>1.561317</td>\n",
       "    </tr>\n",
       "    <tr>\n",
       "      <th>1</th>\n",
       "      <td>6860</td>\n",
       "      <td>177</td>\n",
       "      <td>1.611846</td>\n",
       "      <td>1.536682</td>\n",
       "    </tr>\n",
       "    <tr>\n",
       "      <th>3</th>\n",
       "      <td>5344</td>\n",
       "      <td>123</td>\n",
       "      <td>1.599607</td>\n",
       "      <td>1.509440</td>\n",
       "    </tr>\n",
       "  </tbody>\n",
       "</table>\n",
       "</div>\n",
       "    <div class=\"colab-df-buttons\">\n",
       "\n",
       "  <div class=\"colab-df-container\">\n",
       "    <button class=\"colab-df-convert\" onclick=\"convertToInteractive('df-dbfe1ef3-f1be-43c7-96f8-68a92b526ce1')\"\n",
       "            title=\"Convert this dataframe to an interactive table.\"\n",
       "            style=\"display:none;\">\n",
       "\n",
       "  <svg xmlns=\"http://www.w3.org/2000/svg\" height=\"24px\" viewBox=\"0 -960 960 960\">\n",
       "    <path d=\"M120-120v-720h720v720H120Zm60-500h600v-160H180v160Zm220 220h160v-160H400v160Zm0 220h160v-160H400v160ZM180-400h160v-160H180v160Zm440 0h160v-160H620v160ZM180-180h160v-160H180v160Zm440 0h160v-160H620v160Z\"/>\n",
       "  </svg>\n",
       "    </button>\n",
       "\n",
       "  <style>\n",
       "    .colab-df-container {\n",
       "      display:flex;\n",
       "      gap: 12px;\n",
       "    }\n",
       "\n",
       "    .colab-df-convert {\n",
       "      background-color: #E8F0FE;\n",
       "      border: none;\n",
       "      border-radius: 50%;\n",
       "      cursor: pointer;\n",
       "      display: none;\n",
       "      fill: #1967D2;\n",
       "      height: 32px;\n",
       "      padding: 0 0 0 0;\n",
       "      width: 32px;\n",
       "    }\n",
       "\n",
       "    .colab-df-convert:hover {\n",
       "      background-color: #E2EBFA;\n",
       "      box-shadow: 0px 1px 2px rgba(60, 64, 67, 0.3), 0px 1px 3px 1px rgba(60, 64, 67, 0.15);\n",
       "      fill: #174EA6;\n",
       "    }\n",
       "\n",
       "    .colab-df-buttons div {\n",
       "      margin-bottom: 4px;\n",
       "    }\n",
       "\n",
       "    [theme=dark] .colab-df-convert {\n",
       "      background-color: #3B4455;\n",
       "      fill: #D2E3FC;\n",
       "    }\n",
       "\n",
       "    [theme=dark] .colab-df-convert:hover {\n",
       "      background-color: #434B5C;\n",
       "      box-shadow: 0px 1px 3px 1px rgba(0, 0, 0, 0.15);\n",
       "      filter: drop-shadow(0px 1px 2px rgba(0, 0, 0, 0.3));\n",
       "      fill: #FFFFFF;\n",
       "    }\n",
       "  </style>\n",
       "\n",
       "    <script>\n",
       "      const buttonEl =\n",
       "        document.querySelector('#df-dbfe1ef3-f1be-43c7-96f8-68a92b526ce1 button.colab-df-convert');\n",
       "      buttonEl.style.display =\n",
       "        google.colab.kernel.accessAllowed ? 'block' : 'none';\n",
       "\n",
       "      async function convertToInteractive(key) {\n",
       "        const element = document.querySelector('#df-dbfe1ef3-f1be-43c7-96f8-68a92b526ce1');\n",
       "        const dataTable =\n",
       "          await google.colab.kernel.invokeFunction('convertToInteractive',\n",
       "                                                    [key], {});\n",
       "        if (!dataTable) return;\n",
       "\n",
       "        const docLinkHtml = 'Like what you see? Visit the ' +\n",
       "          '<a target=\"_blank\" href=https://colab.research.google.com/notebooks/data_table.ipynb>data table notebook</a>'\n",
       "          + ' to learn more about interactive tables.';\n",
       "        element.innerHTML = '';\n",
       "        dataTable['output_type'] = 'display_data';\n",
       "        await google.colab.output.renderOutput(dataTable, element);\n",
       "        const docLink = document.createElement('div');\n",
       "        docLink.innerHTML = docLinkHtml;\n",
       "        element.appendChild(docLink);\n",
       "      }\n",
       "    </script>\n",
       "  </div>\n",
       "\n",
       "\n",
       "<div id=\"df-88bebf94-abe6-4890-aa08-34c723b9b066\">\n",
       "  <button class=\"colab-df-quickchart\" onclick=\"quickchart('df-88bebf94-abe6-4890-aa08-34c723b9b066')\"\n",
       "            title=\"Suggest charts\"\n",
       "            style=\"display:none;\">\n",
       "\n",
       "<svg xmlns=\"http://www.w3.org/2000/svg\" height=\"24px\"viewBox=\"0 0 24 24\"\n",
       "     width=\"24px\">\n",
       "    <g>\n",
       "        <path d=\"M19 3H5c-1.1 0-2 .9-2 2v14c0 1.1.9 2 2 2h14c1.1 0 2-.9 2-2V5c0-1.1-.9-2-2-2zM9 17H7v-7h2v7zm4 0h-2V7h2v10zm4 0h-2v-4h2v4z\"/>\n",
       "    </g>\n",
       "</svg>\n",
       "  </button>\n",
       "\n",
       "<style>\n",
       "  .colab-df-quickchart {\n",
       "      --bg-color: #E8F0FE;\n",
       "      --fill-color: #1967D2;\n",
       "      --hover-bg-color: #E2EBFA;\n",
       "      --hover-fill-color: #174EA6;\n",
       "      --disabled-fill-color: #AAA;\n",
       "      --disabled-bg-color: #DDD;\n",
       "  }\n",
       "\n",
       "  [theme=dark] .colab-df-quickchart {\n",
       "      --bg-color: #3B4455;\n",
       "      --fill-color: #D2E3FC;\n",
       "      --hover-bg-color: #434B5C;\n",
       "      --hover-fill-color: #FFFFFF;\n",
       "      --disabled-bg-color: #3B4455;\n",
       "      --disabled-fill-color: #666;\n",
       "  }\n",
       "\n",
       "  .colab-df-quickchart {\n",
       "    background-color: var(--bg-color);\n",
       "    border: none;\n",
       "    border-radius: 50%;\n",
       "    cursor: pointer;\n",
       "    display: none;\n",
       "    fill: var(--fill-color);\n",
       "    height: 32px;\n",
       "    padding: 0;\n",
       "    width: 32px;\n",
       "  }\n",
       "\n",
       "  .colab-df-quickchart:hover {\n",
       "    background-color: var(--hover-bg-color);\n",
       "    box-shadow: 0 1px 2px rgba(60, 64, 67, 0.3), 0 1px 3px 1px rgba(60, 64, 67, 0.15);\n",
       "    fill: var(--button-hover-fill-color);\n",
       "  }\n",
       "\n",
       "  .colab-df-quickchart-complete:disabled,\n",
       "  .colab-df-quickchart-complete:disabled:hover {\n",
       "    background-color: var(--disabled-bg-color);\n",
       "    fill: var(--disabled-fill-color);\n",
       "    box-shadow: none;\n",
       "  }\n",
       "\n",
       "  .colab-df-spinner {\n",
       "    border: 2px solid var(--fill-color);\n",
       "    border-color: transparent;\n",
       "    border-bottom-color: var(--fill-color);\n",
       "    animation:\n",
       "      spin 1s steps(1) infinite;\n",
       "  }\n",
       "\n",
       "  @keyframes spin {\n",
       "    0% {\n",
       "      border-color: transparent;\n",
       "      border-bottom-color: var(--fill-color);\n",
       "      border-left-color: var(--fill-color);\n",
       "    }\n",
       "    20% {\n",
       "      border-color: transparent;\n",
       "      border-left-color: var(--fill-color);\n",
       "      border-top-color: var(--fill-color);\n",
       "    }\n",
       "    30% {\n",
       "      border-color: transparent;\n",
       "      border-left-color: var(--fill-color);\n",
       "      border-top-color: var(--fill-color);\n",
       "      border-right-color: var(--fill-color);\n",
       "    }\n",
       "    40% {\n",
       "      border-color: transparent;\n",
       "      border-right-color: var(--fill-color);\n",
       "      border-top-color: var(--fill-color);\n",
       "    }\n",
       "    60% {\n",
       "      border-color: transparent;\n",
       "      border-right-color: var(--fill-color);\n",
       "    }\n",
       "    80% {\n",
       "      border-color: transparent;\n",
       "      border-right-color: var(--fill-color);\n",
       "      border-bottom-color: var(--fill-color);\n",
       "    }\n",
       "    90% {\n",
       "      border-color: transparent;\n",
       "      border-bottom-color: var(--fill-color);\n",
       "    }\n",
       "  }\n",
       "</style>\n",
       "\n",
       "  <script>\n",
       "    async function quickchart(key) {\n",
       "      const quickchartButtonEl =\n",
       "        document.querySelector('#' + key + ' button');\n",
       "      quickchartButtonEl.disabled = true;  // To prevent multiple clicks.\n",
       "      quickchartButtonEl.classList.add('colab-df-spinner');\n",
       "      try {\n",
       "        const charts = await google.colab.kernel.invokeFunction(\n",
       "            'suggestCharts', [key], {});\n",
       "      } catch (error) {\n",
       "        console.error('Error during call to suggestCharts:', error);\n",
       "      }\n",
       "      quickchartButtonEl.classList.remove('colab-df-spinner');\n",
       "      quickchartButtonEl.classList.add('colab-df-quickchart-complete');\n",
       "    }\n",
       "    (() => {\n",
       "      let quickchartButtonEl =\n",
       "        document.querySelector('#df-88bebf94-abe6-4890-aa08-34c723b9b066 button');\n",
       "      quickchartButtonEl.style.display =\n",
       "        google.colab.kernel.accessAllowed ? 'block' : 'none';\n",
       "    })();\n",
       "  </script>\n",
       "</div>\n",
       "\n",
       "    </div>\n",
       "  </div>\n"
      ],
      "text/plain": [
       "   song_id  play_freq  predicted_play_count  corrected_play_count\n",
       "2     9942        159              1.891118              1.811813\n",
       "4     4831         98              1.679920              1.578905\n",
       "0     4270        960              1.593592              1.561317\n",
       "1     6860        177              1.611846              1.536682\n",
       "3     5344        123              1.599607              1.509440"
      ]
     },
     "execution_count": 67,
     "metadata": {},
     "output_type": "execute_result"
    }
   ],
   "source": [
    "# Applying the ranking_songs function\n",
    "ranking_songs(recommendations, final_play)\n"
   ]
  },
  {
   "cell_type": "markdown",
   "metadata": {
    "id": "Ore9XTFgv5Np"
   },
   "source": [
    "**Observations and Insights:_________**\n",
    "There is no big difference in rankings of predicted and corrected playcount"
   ]
  },
  {
   "cell_type": "markdown",
   "metadata": {
    "id": "rKgJpSA9vOOL"
   },
   "source": [
    "### Model Based Collaborative Filtering - Matrix Factorization"
   ]
  },
  {
   "cell_type": "markdown",
   "metadata": {
    "id": "hJynidJCw-ti"
   },
   "source": [
    "Model-based Collaborative Filtering is a **personalized recommendation system**, the recommendations are based on the past behavior of the user and it is not dependent on any additional information. We use **latent features** to find recommendations for each user."
   ]
  },
  {
   "cell_type": "code",
   "execution_count": 68,
   "metadata": {
    "colab": {
     "base_uri": "https://localhost:8080/"
    },
    "executionInfo": {
     "elapsed": 3416,
     "status": "ok",
     "timestamp": 1728914692446,
     "user": {
      "displayName": "Jayashree Lakshmi",
      "userId": "09309199442259744900"
     },
     "user_tz": 240
    },
    "id": "07-2PT5Ssjqm",
    "outputId": "150366ee-9ae5-4ca7-ff24-d25b8c72e42d"
   },
   "outputs": [
    {
     "name": "stdout",
     "output_type": "stream",
     "text": [
      "RMSE: 0.6590\n",
      "Precision:  0.184\n",
      "Recall:  0.103\n",
      "F_1 score:  0.132\n"
     ]
    }
   ],
   "source": [
    "# Build baseline model using svd\n",
    "svd_model = SVD(random_state=1)\n",
    "# Training the algorithm on the trainset\n",
    "svd_model.fit(trainset)\n",
    "# Use the function precision_recall_at_k to compute precision@k, recall@k, F1-Score, and RMSE\n",
    "precision_recall_at_k(svd_model, k = 10, threshold = 3.5)"
   ]
  },
  {
   "cell_type": "code",
   "execution_count": 69,
   "metadata": {
    "colab": {
     "base_uri": "https://localhost:8080/"
    },
    "executionInfo": {
     "elapsed": 9,
     "status": "ok",
     "timestamp": 1728914692447,
     "user": {
      "displayName": "Jayashree Lakshmi",
      "userId": "09309199442259744900"
     },
     "user_tz": 240
    },
    "id": "yWIhfdxXsjqm",
    "outputId": "579e2883-f6a0-48f3-eab0-ba516613750b"
   },
   "outputs": [
    {
     "data": {
      "text/plain": [
       "Prediction(uid=6958, iid=1671, r_ui=2, est=1.4063526041916756, details={'was_impossible': False})"
      ]
     },
     "execution_count": 69,
     "metadata": {},
     "output_type": "execute_result"
    }
   ],
   "source": [
    "# Making prediction for user (with user_id 6958) to song (with song_id 1671), take r_ui = 2\n",
    "svd_model.predict(uid=6958, iid=1671, r_ui=2)"
   ]
  },
  {
   "cell_type": "code",
   "execution_count": 70,
   "metadata": {
    "colab": {
     "base_uri": "https://localhost:8080/"
    },
    "executionInfo": {
     "elapsed": 8,
     "status": "ok",
     "timestamp": 1728914692447,
     "user": {
      "displayName": "Jayashree Lakshmi",
      "userId": "09309199442259744900"
     },
     "user_tz": 240
    },
    "id": "APm-uMSvcAMf",
    "outputId": "a592242e-b80f-40b0-fca6-d4781e158d0d"
   },
   "outputs": [
    {
     "data": {
      "text/plain": [
       "Prediction(uid=6958, iid=3232, r_ui=None, est=1.6092945251765034, details={'was_impossible': False})"
      ]
     },
     "execution_count": 70,
     "metadata": {},
     "output_type": "execute_result"
    }
   ],
   "source": [
    "# Making a prediction for the user who has not listened to the song (song_id 3232)\n",
    "svd_model.predict(uid=6958, iid=3232)"
   ]
  },
  {
   "cell_type": "markdown",
   "metadata": {
    "id": "23tnRUJJxWTR"
   },
   "source": [
    "#### Improving matrix factorization based recommendation system by tuning its hyperparameters"
   ]
  },
  {
   "cell_type": "code",
   "execution_count": 71,
   "metadata": {
    "colab": {
     "base_uri": "https://localhost:8080/"
    },
    "executionInfo": {
     "elapsed": 203560,
     "status": "ok",
     "timestamp": 1728914896002,
     "user": {
      "displayName": "Jayashree Lakshmi",
      "userId": "09309199442259744900"
     },
     "user_tz": 240
    },
    "id": "4bM81V_hvtwv",
    "outputId": "624ee6df-77aa-40d2-9cb0-835df387e13c"
   },
   "outputs": [
    {
     "name": "stdout",
     "output_type": "stream",
     "text": [
      "Best RMSE score:  0.9853818059861593\n",
      "Best parameters:  {'n_epochs': 20, 'lr_all': 0.01, 'reg_all': 0.1}\n"
     ]
    }
   ],
   "source": [
    "# Set the parameter space to tune\n",
    "param_grid = {\n",
    "\n",
    "    'n_epochs': [5, 10, 15, 20],\n",
    "    'lr_all': [0.002, 0.005, 0.01],\n",
    "    'reg_all': [0.02, 0.1, 0.5]\n",
    "}\n",
    "\n",
    "# Performe 3-fold grid-search cross-validation\n",
    "gs = GridSearchCV(SVD, param_grid, measures=['rmse'], cv=3)\n",
    "\n",
    "# Fitting data\n",
    "gs.fit(reader_data)\n",
    "# Best RMSE score\n",
    "best_rmse = gs.best_score['rmse']\n",
    "# Combination of parameters that gave the best RMSE score\n",
    "best_params = gs.best_params['rmse']\n",
    "\n",
    "print(\"Best RMSE score: \", best_rmse)\n",
    "print(\"Best parameters: \", best_params)"
   ]
  },
  {
   "cell_type": "markdown",
   "metadata": {
    "id": "aSgBRcL1xnVC"
   },
   "source": [
    "**Think About It**: How do the parameters affect the performance of the model? Can we improve the performance of the model further? Check the available hyperparameters [here](https://surprise.readthedocs.io/en/stable/matrix_factorization.html)."
   ]
  },
  {
   "cell_type": "code",
   "execution_count": 72,
   "metadata": {
    "colab": {
     "base_uri": "https://localhost:8080/"
    },
    "executionInfo": {
     "elapsed": 2533,
     "status": "ok",
     "timestamp": 1728914898511,
     "user": {
      "displayName": "Jayashree Lakshmi",
      "userId": "09309199442259744900"
     },
     "user_tz": 240
    },
    "id": "TA_7xe-nnhuu",
    "outputId": "9f99be82-7c7b-4e07-97d6-0709fac7fb0b"
   },
   "outputs": [
    {
     "name": "stdout",
     "output_type": "stream",
     "text": [
      "RMSE: 0.7885\n",
      "Precision:  0.074\n",
      "Recall:  0.041\n",
      "F_1 score:  0.053\n"
     ]
    }
   ],
   "source": [
    "# Building the optimized SVD model using optimal hyperparameters\n",
    "optimal_epochs = best_params['n_epochs']\n",
    "optimal_lr_all = best_params['lr_all']\n",
    "optimal_reg_all = best_params['reg_all']\n",
    "\n",
    "tuned_svd = SVD(n_epochs = optimal_epochs, lr_all = optimal_lr_all, reg_all = optimal_reg_all)\n",
    "# Train the algorithm on the trainset\n",
    "tuned_svd.fit(trainset)\n",
    "# Use the function precision_recall_at_k to compute precision@k, recall@k, F1-Score, and RMSE\n",
    "precision_recall_at_k(tuned_svd, k = 10, threshold = 3.5)"
   ]
  },
  {
   "cell_type": "markdown",
   "metadata": {
    "id": "l3t5JdBmxz8l"
   },
   "source": [
    "**Observations and Insights:_________**\n",
    "Decline in Performance After Tuning: Despite tuning the model with adjusted parameters, performance declined across all metrics (RMSE, precision, recall, and F1 score). The new parameter values may have resulted in overfitting, where the model became less generalizable to unseen data.\n",
    "\n",
    "The baseline model showed significantly better performance than the tuned model, particularly in terms of RMSE, precision, and recall. This suggests that the baseline parameter settings were already optimal or that the tuned parameters were not well-suited for the dataset at hand.\n",
    "\n"
   ]
  },
  {
   "cell_type": "code",
   "execution_count": 73,
   "metadata": {
    "colab": {
     "base_uri": "https://localhost:8080/"
    },
    "executionInfo": {
     "elapsed": 15,
     "status": "ok",
     "timestamp": 1728914898511,
     "user": {
      "displayName": "Jayashree Lakshmi",
      "userId": "09309199442259744900"
     },
     "user_tz": 240
    },
    "id": "s6C1PAfboM8_",
    "outputId": "2ab10d96-46ff-4c72-c256-2b14aadb96b1"
   },
   "outputs": [
    {
     "data": {
      "text/plain": [
       "Prediction(uid=6958, iid=1671, r_ui=None, est=1.2224628709585126, details={'was_impossible': False})"
      ]
     },
     "execution_count": 73,
     "metadata": {},
     "output_type": "execute_result"
    }
   ],
   "source": [
    "# Using svd_algo_optimized model to recommend for userId 6958 and song_id 1671\n",
    "tuned_svd.predict(uid=6958,iid=1671)"
   ]
  },
  {
   "cell_type": "code",
   "execution_count": 74,
   "metadata": {
    "colab": {
     "base_uri": "https://localhost:8080/"
    },
    "executionInfo": {
     "elapsed": 13,
     "status": "ok",
     "timestamp": 1728914898511,
     "user": {
      "displayName": "Jayashree Lakshmi",
      "userId": "09309199442259744900"
     },
     "user_tz": 240
    },
    "id": "k1xjn3kOoQyg",
    "outputId": "2949b4d0-8d03-4d12-9a91-7aee43611442"
   },
   "outputs": [
    {
     "data": {
      "text/plain": [
       "Prediction(uid=6958, iid=3232, r_ui=None, est=1.3132770207192772, details={'was_impossible': False})"
      ]
     },
     "execution_count": 74,
     "metadata": {},
     "output_type": "execute_result"
    }
   ],
   "source": [
    "# Using svd_algo_optimized model to recommend for userId 6958 and song_id 3232 with unknown baseline play_count\n",
    "tuned_svd.predict(uid=6958,iid=3232)"
   ]
  },
  {
   "cell_type": "markdown",
   "metadata": {
    "id": "Qm732Wuvy76R"
   },
   "source": [
    "**Observations and Insights:_________**\n",
    "Both predictions are very low on the rating scale, indicating that the model consistently predicts user 6958’s disinterest in these items. This suggests that the model has learned a pattern where this user has preferences that differ significantly from these items.\n",
    "\n",
    "The predictions suggest that if these items are recommended to the user, they are unlikely to result in positive engagement, making them poor recommendations."
   ]
  },
  {
   "cell_type": "code",
   "execution_count": 75,
   "metadata": {
    "executionInfo": {
     "elapsed": 10,
     "status": "ok",
     "timestamp": 1728914898511,
     "user": {
      "displayName": "Jayashree Lakshmi",
      "userId": "09309199442259744900"
     },
     "user_tz": 240
    },
    "id": "1LGeE2EB_n90"
   },
   "outputs": [],
   "source": [
    "# Getting top 5 recommendations for user_id 6958 using \"svd_optimized\" algorithm\n",
    "recommendations = get_recommendations(data_aggregated, 6958, 5, tuned_svd)"
   ]
  },
  {
   "cell_type": "code",
   "execution_count": 76,
   "metadata": {
    "colab": {
     "base_uri": "https://localhost:8080/",
     "height": 206
    },
    "executionInfo": {
     "elapsed": 10,
     "status": "ok",
     "timestamp": 1728914898512,
     "user": {
      "displayName": "Jayashree Lakshmi",
      "userId": "09309199442259744900"
     },
     "user_tz": 240
    },
    "id": "6ngiGSJU818M",
    "outputId": "eade6554-1838-44fa-b031-3d833c91f6d1"
   },
   "outputs": [
    {
     "data": {
      "application/vnd.google.colaboratory.intrinsic+json": {
       "summary": "{\n  \"name\": \"ranking_songs(recommendations, final_play)\",\n  \"rows\": 5,\n  \"fields\": [\n    {\n      \"column\": \"song_id\",\n      \"properties\": {\n        \"dtype\": \"number\",\n        \"std\": 2323,\n        \"min\": 2220,\n        \"max\": 8324,\n        \"num_unique_values\": 5,\n        \"samples\": [\n          6450,\n          8324,\n          5531\n        ],\n        \"semantic_type\": \"\",\n        \"description\": \"\"\n      }\n    },\n    {\n      \"column\": \"play_freq\",\n      \"properties\": {\n        \"dtype\": \"number\",\n        \"std\": 335,\n        \"min\": 103,\n        \"max\": 767,\n        \"num_unique_values\": 5,\n        \"samples\": [\n          110,\n          103,\n          664\n        ],\n        \"semantic_type\": \"\",\n        \"description\": \"\"\n      }\n    },\n    {\n      \"column\": \"predicted_play_count\",\n      \"properties\": {\n        \"dtype\": \"number\",\n        \"std\": 0.22571595362492355,\n        \"min\": 2.06723472219894,\n        \"max\": 2.5712511634266106,\n        \"num_unique_values\": 5,\n        \"samples\": [\n          2.3830494581971307,\n          2.079604969339778,\n          2.1057046178633185\n        ],\n        \"semantic_type\": \"\",\n        \"description\": \"\"\n      }\n    },\n    {\n      \"column\": \"corrected_play_count\",\n      \"properties\": {\n        \"dtype\": \"number\",\n        \"std\": 0.2078237570208536,\n        \"min\": 1.9810720415233487,\n        \"max\": 2.4754685349044956,\n        \"num_unique_values\": 5,\n        \"samples\": [\n          2.2877031992725714,\n          1.9810720415233487,\n          2.066897091578002\n        ],\n        \"semantic_type\": \"\",\n        \"description\": \"\"\n      }\n    }\n  ]\n}",
       "type": "dataframe"
      },
      "text/html": [
       "\n",
       "  <div id=\"df-e3db800d-7937-47d3-a580-b1a0fbc57bee\" class=\"colab-df-container\">\n",
       "    <div>\n",
       "<style scoped>\n",
       "    .dataframe tbody tr th:only-of-type {\n",
       "        vertical-align: middle;\n",
       "    }\n",
       "\n",
       "    .dataframe tbody tr th {\n",
       "        vertical-align: top;\n",
       "    }\n",
       "\n",
       "    .dataframe thead th {\n",
       "        text-align: right;\n",
       "    }\n",
       "</style>\n",
       "<table border=\"1\" class=\"dataframe\">\n",
       "  <thead>\n",
       "    <tr style=\"text-align: right;\">\n",
       "      <th></th>\n",
       "      <th>song_id</th>\n",
       "      <th>play_freq</th>\n",
       "      <th>predicted_play_count</th>\n",
       "      <th>corrected_play_count</th>\n",
       "    </tr>\n",
       "  </thead>\n",
       "  <tbody>\n",
       "    <tr>\n",
       "      <th>3</th>\n",
       "      <td>7224</td>\n",
       "      <td>109</td>\n",
       "      <td>2.571251</td>\n",
       "      <td>2.475469</td>\n",
       "    </tr>\n",
       "    <tr>\n",
       "      <th>2</th>\n",
       "      <td>6450</td>\n",
       "      <td>110</td>\n",
       "      <td>2.383049</td>\n",
       "      <td>2.287703</td>\n",
       "    </tr>\n",
       "    <tr>\n",
       "      <th>1</th>\n",
       "      <td>5531</td>\n",
       "      <td>664</td>\n",
       "      <td>2.105705</td>\n",
       "      <td>2.066897</td>\n",
       "    </tr>\n",
       "    <tr>\n",
       "      <th>0</th>\n",
       "      <td>2220</td>\n",
       "      <td>767</td>\n",
       "      <td>2.067235</td>\n",
       "      <td>2.031127</td>\n",
       "    </tr>\n",
       "    <tr>\n",
       "      <th>4</th>\n",
       "      <td>8324</td>\n",
       "      <td>103</td>\n",
       "      <td>2.079605</td>\n",
       "      <td>1.981072</td>\n",
       "    </tr>\n",
       "  </tbody>\n",
       "</table>\n",
       "</div>\n",
       "    <div class=\"colab-df-buttons\">\n",
       "\n",
       "  <div class=\"colab-df-container\">\n",
       "    <button class=\"colab-df-convert\" onclick=\"convertToInteractive('df-e3db800d-7937-47d3-a580-b1a0fbc57bee')\"\n",
       "            title=\"Convert this dataframe to an interactive table.\"\n",
       "            style=\"display:none;\">\n",
       "\n",
       "  <svg xmlns=\"http://www.w3.org/2000/svg\" height=\"24px\" viewBox=\"0 -960 960 960\">\n",
       "    <path d=\"M120-120v-720h720v720H120Zm60-500h600v-160H180v160Zm220 220h160v-160H400v160Zm0 220h160v-160H400v160ZM180-400h160v-160H180v160Zm440 0h160v-160H620v160ZM180-180h160v-160H180v160Zm440 0h160v-160H620v160Z\"/>\n",
       "  </svg>\n",
       "    </button>\n",
       "\n",
       "  <style>\n",
       "    .colab-df-container {\n",
       "      display:flex;\n",
       "      gap: 12px;\n",
       "    }\n",
       "\n",
       "    .colab-df-convert {\n",
       "      background-color: #E8F0FE;\n",
       "      border: none;\n",
       "      border-radius: 50%;\n",
       "      cursor: pointer;\n",
       "      display: none;\n",
       "      fill: #1967D2;\n",
       "      height: 32px;\n",
       "      padding: 0 0 0 0;\n",
       "      width: 32px;\n",
       "    }\n",
       "\n",
       "    .colab-df-convert:hover {\n",
       "      background-color: #E2EBFA;\n",
       "      box-shadow: 0px 1px 2px rgba(60, 64, 67, 0.3), 0px 1px 3px 1px rgba(60, 64, 67, 0.15);\n",
       "      fill: #174EA6;\n",
       "    }\n",
       "\n",
       "    .colab-df-buttons div {\n",
       "      margin-bottom: 4px;\n",
       "    }\n",
       "\n",
       "    [theme=dark] .colab-df-convert {\n",
       "      background-color: #3B4455;\n",
       "      fill: #D2E3FC;\n",
       "    }\n",
       "\n",
       "    [theme=dark] .colab-df-convert:hover {\n",
       "      background-color: #434B5C;\n",
       "      box-shadow: 0px 1px 3px 1px rgba(0, 0, 0, 0.15);\n",
       "      filter: drop-shadow(0px 1px 2px rgba(0, 0, 0, 0.3));\n",
       "      fill: #FFFFFF;\n",
       "    }\n",
       "  </style>\n",
       "\n",
       "    <script>\n",
       "      const buttonEl =\n",
       "        document.querySelector('#df-e3db800d-7937-47d3-a580-b1a0fbc57bee button.colab-df-convert');\n",
       "      buttonEl.style.display =\n",
       "        google.colab.kernel.accessAllowed ? 'block' : 'none';\n",
       "\n",
       "      async function convertToInteractive(key) {\n",
       "        const element = document.querySelector('#df-e3db800d-7937-47d3-a580-b1a0fbc57bee');\n",
       "        const dataTable =\n",
       "          await google.colab.kernel.invokeFunction('convertToInteractive',\n",
       "                                                    [key], {});\n",
       "        if (!dataTable) return;\n",
       "\n",
       "        const docLinkHtml = 'Like what you see? Visit the ' +\n",
       "          '<a target=\"_blank\" href=https://colab.research.google.com/notebooks/data_table.ipynb>data table notebook</a>'\n",
       "          + ' to learn more about interactive tables.';\n",
       "        element.innerHTML = '';\n",
       "        dataTable['output_type'] = 'display_data';\n",
       "        await google.colab.output.renderOutput(dataTable, element);\n",
       "        const docLink = document.createElement('div');\n",
       "        docLink.innerHTML = docLinkHtml;\n",
       "        element.appendChild(docLink);\n",
       "      }\n",
       "    </script>\n",
       "  </div>\n",
       "\n",
       "\n",
       "<div id=\"df-034a13ec-be39-4e25-9ee2-4a8837d6a931\">\n",
       "  <button class=\"colab-df-quickchart\" onclick=\"quickchart('df-034a13ec-be39-4e25-9ee2-4a8837d6a931')\"\n",
       "            title=\"Suggest charts\"\n",
       "            style=\"display:none;\">\n",
       "\n",
       "<svg xmlns=\"http://www.w3.org/2000/svg\" height=\"24px\"viewBox=\"0 0 24 24\"\n",
       "     width=\"24px\">\n",
       "    <g>\n",
       "        <path d=\"M19 3H5c-1.1 0-2 .9-2 2v14c0 1.1.9 2 2 2h14c1.1 0 2-.9 2-2V5c0-1.1-.9-2-2-2zM9 17H7v-7h2v7zm4 0h-2V7h2v10zm4 0h-2v-4h2v4z\"/>\n",
       "    </g>\n",
       "</svg>\n",
       "  </button>\n",
       "\n",
       "<style>\n",
       "  .colab-df-quickchart {\n",
       "      --bg-color: #E8F0FE;\n",
       "      --fill-color: #1967D2;\n",
       "      --hover-bg-color: #E2EBFA;\n",
       "      --hover-fill-color: #174EA6;\n",
       "      --disabled-fill-color: #AAA;\n",
       "      --disabled-bg-color: #DDD;\n",
       "  }\n",
       "\n",
       "  [theme=dark] .colab-df-quickchart {\n",
       "      --bg-color: #3B4455;\n",
       "      --fill-color: #D2E3FC;\n",
       "      --hover-bg-color: #434B5C;\n",
       "      --hover-fill-color: #FFFFFF;\n",
       "      --disabled-bg-color: #3B4455;\n",
       "      --disabled-fill-color: #666;\n",
       "  }\n",
       "\n",
       "  .colab-df-quickchart {\n",
       "    background-color: var(--bg-color);\n",
       "    border: none;\n",
       "    border-radius: 50%;\n",
       "    cursor: pointer;\n",
       "    display: none;\n",
       "    fill: var(--fill-color);\n",
       "    height: 32px;\n",
       "    padding: 0;\n",
       "    width: 32px;\n",
       "  }\n",
       "\n",
       "  .colab-df-quickchart:hover {\n",
       "    background-color: var(--hover-bg-color);\n",
       "    box-shadow: 0 1px 2px rgba(60, 64, 67, 0.3), 0 1px 3px 1px rgba(60, 64, 67, 0.15);\n",
       "    fill: var(--button-hover-fill-color);\n",
       "  }\n",
       "\n",
       "  .colab-df-quickchart-complete:disabled,\n",
       "  .colab-df-quickchart-complete:disabled:hover {\n",
       "    background-color: var(--disabled-bg-color);\n",
       "    fill: var(--disabled-fill-color);\n",
       "    box-shadow: none;\n",
       "  }\n",
       "\n",
       "  .colab-df-spinner {\n",
       "    border: 2px solid var(--fill-color);\n",
       "    border-color: transparent;\n",
       "    border-bottom-color: var(--fill-color);\n",
       "    animation:\n",
       "      spin 1s steps(1) infinite;\n",
       "  }\n",
       "\n",
       "  @keyframes spin {\n",
       "    0% {\n",
       "      border-color: transparent;\n",
       "      border-bottom-color: var(--fill-color);\n",
       "      border-left-color: var(--fill-color);\n",
       "    }\n",
       "    20% {\n",
       "      border-color: transparent;\n",
       "      border-left-color: var(--fill-color);\n",
       "      border-top-color: var(--fill-color);\n",
       "    }\n",
       "    30% {\n",
       "      border-color: transparent;\n",
       "      border-left-color: var(--fill-color);\n",
       "      border-top-color: var(--fill-color);\n",
       "      border-right-color: var(--fill-color);\n",
       "    }\n",
       "    40% {\n",
       "      border-color: transparent;\n",
       "      border-right-color: var(--fill-color);\n",
       "      border-top-color: var(--fill-color);\n",
       "    }\n",
       "    60% {\n",
       "      border-color: transparent;\n",
       "      border-right-color: var(--fill-color);\n",
       "    }\n",
       "    80% {\n",
       "      border-color: transparent;\n",
       "      border-right-color: var(--fill-color);\n",
       "      border-bottom-color: var(--fill-color);\n",
       "    }\n",
       "    90% {\n",
       "      border-color: transparent;\n",
       "      border-bottom-color: var(--fill-color);\n",
       "    }\n",
       "  }\n",
       "</style>\n",
       "\n",
       "  <script>\n",
       "    async function quickchart(key) {\n",
       "      const quickchartButtonEl =\n",
       "        document.querySelector('#' + key + ' button');\n",
       "      quickchartButtonEl.disabled = true;  // To prevent multiple clicks.\n",
       "      quickchartButtonEl.classList.add('colab-df-spinner');\n",
       "      try {\n",
       "        const charts = await google.colab.kernel.invokeFunction(\n",
       "            'suggestCharts', [key], {});\n",
       "      } catch (error) {\n",
       "        console.error('Error during call to suggestCharts:', error);\n",
       "      }\n",
       "      quickchartButtonEl.classList.remove('colab-df-spinner');\n",
       "      quickchartButtonEl.classList.add('colab-df-quickchart-complete');\n",
       "    }\n",
       "    (() => {\n",
       "      let quickchartButtonEl =\n",
       "        document.querySelector('#df-034a13ec-be39-4e25-9ee2-4a8837d6a931 button');\n",
       "      quickchartButtonEl.style.display =\n",
       "        google.colab.kernel.accessAllowed ? 'block' : 'none';\n",
       "    })();\n",
       "  </script>\n",
       "</div>\n",
       "\n",
       "    </div>\n",
       "  </div>\n"
      ],
      "text/plain": [
       "   song_id  play_freq  predicted_play_count  corrected_play_count\n",
       "3     7224        109              2.571251              2.475469\n",
       "2     6450        110              2.383049              2.287703\n",
       "1     5531        664              2.105705              2.066897\n",
       "0     2220        767              2.067235              2.031127\n",
       "4     8324        103              2.079605              1.981072"
      ]
     },
     "execution_count": 76,
     "metadata": {},
     "output_type": "execute_result"
    }
   ],
   "source": [
    "# Ranking songs based on above recommendations\n",
    "ranking_songs(recommendations, final_play)"
   ]
  },
  {
   "cell_type": "markdown",
   "metadata": {
    "id": "SepUU1Efy_9Z"
   },
   "source": [
    "**Observations and Insights:_________**"
   ]
  },
  {
   "cell_type": "markdown",
   "metadata": {
    "id": "57b31de5"
   },
   "source": [
    "### Cluster Based Recommendation System"
   ]
  },
  {
   "cell_type": "markdown",
   "metadata": {
    "id": "9Xv2AZCszCdN"
   },
   "source": [
    "In **clustering-based recommendation systems**, we explore the **similarities and differences** in people's tastes in songs based on how they rate different songs. We cluster similar users together and recommend songs to a user based on play_counts from other users in the same cluster."
   ]
  },
  {
   "cell_type": "code",
   "execution_count": 77,
   "metadata": {
    "colab": {
     "base_uri": "https://localhost:8080/"
    },
    "executionInfo": {
     "elapsed": 3680,
     "status": "ok",
     "timestamp": 1728914902183,
     "user": {
      "displayName": "Jayashree Lakshmi",
      "userId": "09309199442259744900"
     },
     "user_tz": 240
    },
    "id": "0c4b20e4",
    "outputId": "fcfec524-7efe-453e-f790-7b5e1d2fb6ac"
   },
   "outputs": [
    {
     "name": "stdout",
     "output_type": "stream",
     "text": [
      "RMSE: 0.9698\n",
      "Precision:  0.438\n",
      "Recall:  0.653\n",
      "F_1 score:  0.524\n"
     ]
    }
   ],
   "source": [
    "# Make baseline clustering model\n",
    "# Using CoClustering algorithm\n",
    "clust_baseline = CoClustering(random_state = 1)\n",
    "\n",
    "# Training the algorithm on the train set\n",
    "clust_baseline.fit(trainset)\n",
    "\n",
    "# Let us compute precision@k, recall@k, and F_1 score with k = 10\n",
    "precision_recall_at_k(clust_baseline)"
   ]
  },
  {
   "cell_type": "code",
   "execution_count": 78,
   "metadata": {
    "colab": {
     "base_uri": "https://localhost:8080/"
    },
    "executionInfo": {
     "elapsed": 47,
     "status": "ok",
     "timestamp": 1728914902184,
     "user": {
      "displayName": "Jayashree Lakshmi",
      "userId": "09309199442259744900"
     },
     "user_tz": 240
    },
    "id": "11dbdc0f",
    "outputId": "63091c67-9736-4ed3-b554-d133188b0fc3"
   },
   "outputs": [
    {
     "data": {
      "text/plain": [
       "Prediction(uid=6958, iid=1671, r_ui=None, est=1.2649284112936172, details={'was_impossible': False})"
      ]
     },
     "execution_count": 78,
     "metadata": {},
     "output_type": "execute_result"
    }
   ],
   "source": [
    "# Making prediction for user_id 6958 and song_id 1671\n",
    "clust_baseline.predict(uid=6958,iid=1671)"
   ]
  },
  {
   "cell_type": "code",
   "execution_count": 79,
   "metadata": {
    "colab": {
     "base_uri": "https://localhost:8080/"
    },
    "executionInfo": {
     "elapsed": 49,
     "status": "ok",
     "timestamp": 1728914902189,
     "user": {
      "displayName": "Jayashree Lakshmi",
      "userId": "09309199442259744900"
     },
     "user_tz": 240
    },
    "id": "dab1aaed",
    "outputId": "bfea65f5-ace9-4492-e79e-9361a5def528"
   },
   "outputs": [
    {
     "data": {
      "text/plain": [
       "Prediction(uid=6958, iid=3232, r_ui=None, est=1.2556520959637232, details={'was_impossible': False})"
      ]
     },
     "execution_count": 79,
     "metadata": {},
     "output_type": "execute_result"
    }
   ],
   "source": [
    "# Making prediction for user (userid 6958) for a song(song_id 3232) not listened to by the user\n",
    "clust_baseline.predict(uid=6958,iid=3232)"
   ]
  },
  {
   "cell_type": "markdown",
   "metadata": {
    "id": "c2fd66f5"
   },
   "source": [
    "#### Improving clustering-based recommendation system by tuning its hyper-parameters"
   ]
  },
  {
   "cell_type": "code",
   "execution_count": 80,
   "metadata": {
    "colab": {
     "base_uri": "https://localhost:8080/"
    },
    "executionInfo": {
     "elapsed": 406955,
     "status": "ok",
     "timestamp": 1728915309103,
     "user": {
      "displayName": "Jayashree Lakshmi",
      "userId": "09309199442259744900"
     },
     "user_tz": 240
    },
    "id": "efe7d8e6",
    "outputId": "caa61a43-d65b-4e81-86e2-241eedc5ea3e"
   },
   "outputs": [
    {
     "name": "stdout",
     "output_type": "stream",
     "text": [
      "Best RMSE score:  1.0360522062600672\n",
      "Best Parameters {'n_cltr_u': 3, 'n_cltr_i': 5, 'n_epochs': 40}\n"
     ]
    }
   ],
   "source": [
    "# Set the parameter space to tune\n",
    "param_grid = {'n_cltr_u': [3, 4, 5, 6], 'n_cltr_i': [3, 4, 5, 6], 'n_epochs': [30, 40, 50]}\n",
    "# Performing 3-fold grid search cross-validation\n",
    "gs = GridSearchCV(CoClustering, param_grid, measures = ['rmse'], cv = 3, n_jobs = -1)\n",
    "\n",
    "# Fitting data\n",
    "gs.fit(reader_data)\n",
    "\n",
    "# Best RMSE score\n",
    "best_rmse = gs.best_score['rmse']\n",
    "# Combination of parameters that gave the best RMSE score\n",
    "best_params = gs.best_params['rmse']\n",
    "\n",
    "# Best RMSE score\n",
    "\n",
    "print(\"Best RMSE score: \", best_rmse)\n",
    "# Combination of parameters that gave the best RMSE score\n",
    "print(\"Best Parameters\",best_params)"
   ]
  },
  {
   "cell_type": "markdown",
   "metadata": {
    "id": "CS6aMVJLyj21"
   },
   "source": [
    "**Think About It**: How do the parameters affect the performance of the model? Can we improve the performance of the model further? Check the available hyperparameters [here](https://surprise.readthedocs.io/en/stable/co_clustering.html)."
   ]
  },
  {
   "cell_type": "code",
   "execution_count": 81,
   "metadata": {
    "colab": {
     "base_uri": "https://localhost:8080/"
    },
    "executionInfo": {
     "elapsed": 4538,
     "status": "ok",
     "timestamp": 1728915313615,
     "user": {
      "displayName": "Jayashree Lakshmi",
      "userId": "09309199442259744900"
     },
     "user_tz": 240
    },
    "id": "5a7a8a30",
    "outputId": "2d30506e-e01c-4962-8c72-9327ed63ee33"
   },
   "outputs": [
    {
     "name": "stdout",
     "output_type": "stream",
     "text": [
      "RMSE: 0.9698\n",
      "Precision:  0.439\n",
      "Recall:  0.653\n",
      "F_1 score:  0.525\n"
     ]
    }
   ],
   "source": [
    "# Train the tuned Coclustering algorithm\n",
    "clust_tuned = CoClustering(n_cltr_u = 3, n_cltr_i = 3, n_epochs = 30, random_state = 1)\n",
    "# Training the algorithm on the train set\n",
    "clust_tuned.fit(trainset)\n",
    "\n",
    "# Let us compute precision@k, recall@k, and F_1 score with k = 10\n",
    "precision_recall_at_k(clust_tuned)"
   ]
  },
  {
   "cell_type": "markdown",
   "metadata": {
    "id": "l-Jvce1gznKa"
   },
   "source": [
    "**Observations and Insights:_________**\n",
    "The tuned model shows almost no improvement in RMSE, precision, recall, or F1 score. This could indicate that the chosen hyperparameters might not have a significant impact, or further tuning with a different parameter range may be required.\n",
    "\n",
    "Stable performance: Despite the minimal changes, the model is relatively stable and maintains the same level of prediction accuracy and balance between precision and recall."
   ]
  },
  {
   "cell_type": "code",
   "execution_count": 82,
   "metadata": {
    "colab": {
     "base_uri": "https://localhost:8080/"
    },
    "executionInfo": {
     "elapsed": 32,
     "status": "ok",
     "timestamp": 1728915313615,
     "user": {
      "displayName": "Jayashree Lakshmi",
      "userId": "09309199442259744900"
     },
     "user_tz": 240
    },
    "id": "6ba5b26b",
    "outputId": "a0db1c1b-9339-4d2d-fd6c-6723a72287fa"
   },
   "outputs": [
    {
     "data": {
      "text/plain": [
       "Prediction(uid=6958, iid=1671, r_ui=None, est=1.264875015783286, details={'was_impossible': False})"
      ]
     },
     "execution_count": 82,
     "metadata": {},
     "output_type": "execute_result"
    }
   ],
   "source": [
    "# Using co_clustering_optimized model to recommend for userId 6958 and song_id 1671\n",
    "clust_tuned.predict(uid=6958,iid=1671)"
   ]
  },
  {
   "cell_type": "code",
   "execution_count": 83,
   "metadata": {
    "colab": {
     "base_uri": "https://localhost:8080/"
    },
    "executionInfo": {
     "elapsed": 26,
     "status": "ok",
     "timestamp": 1728915313615,
     "user": {
      "displayName": "Jayashree Lakshmi",
      "userId": "09309199442259744900"
     },
     "user_tz": 240
    },
    "id": "ec582940",
    "outputId": "811f8308-c45d-452c-cbc2-f9d4644cf352"
   },
   "outputs": [
    {
     "data": {
      "text/plain": [
       "Prediction(uid=6958, iid=3232, r_ui=None, est=1.2527923641562548, details={'was_impossible': False})"
      ]
     },
     "execution_count": 83,
     "metadata": {},
     "output_type": "execute_result"
    }
   ],
   "source": [
    "# Use Co_clustering based optimized model to recommend for userId 6958 and song_id 3232 with unknown baseline play_count\n",
    "clust_tuned.predict(uid=6958,iid=3232)"
   ]
  },
  {
   "cell_type": "markdown",
   "metadata": {
    "id": "rjGUSMqrzoDH"
   },
   "source": [
    "**Observations and Insights:_________**\n",
    "Both items 1671 and 3232 have very low estimated ratings for User 6958, indicating that these items are probably not appealing to this user. These predictions suggest that recommending these items to the user is not likely to result in engagement."
   ]
  },
  {
   "cell_type": "markdown",
   "metadata": {
    "id": "df9e28ba"
   },
   "source": [
    "#### Implementing the recommendation algorithm based on optimized CoClustering model"
   ]
  },
  {
   "cell_type": "code",
   "execution_count": 84,
   "metadata": {
    "executionInfo": {
     "elapsed": 22,
     "status": "ok",
     "timestamp": 1728915313615,
     "user": {
      "displayName": "Jayashree Lakshmi",
      "userId": "09309199442259744900"
     },
     "user_tz": 240
    },
    "id": "e0f36e15"
   },
   "outputs": [],
   "source": [
    "# Getting top 5 recommendations for user_id 6958 using \"Co-clustering based optimized\" algorithm\n",
    "recommendations = get_recommendations(data_aggregated, 6958, 5, clust_tuned)"
   ]
  },
  {
   "cell_type": "markdown",
   "metadata": {
    "id": "f1696941"
   },
   "source": [
    "### Correcting the play_count and Ranking the above songs"
   ]
  },
  {
   "cell_type": "code",
   "execution_count": 85,
   "metadata": {
    "colab": {
     "base_uri": "https://localhost:8080/",
     "height": 206
    },
    "executionInfo": {
     "elapsed": 198,
     "status": "ok",
     "timestamp": 1728915313792,
     "user": {
      "displayName": "Jayashree Lakshmi",
      "userId": "09309199442259744900"
     },
     "user_tz": 240
    },
    "id": "c186f13b",
    "outputId": "5891ee45-c426-426a-c971-0d4956a28642",
    "scrolled": true
   },
   "outputs": [
    {
     "data": {
      "application/vnd.google.colaboratory.intrinsic+json": {
       "summary": "{\n  \"name\": \"ranking_songs(recommendations, final_play)\",\n  \"rows\": 5,\n  \"fields\": [\n    {\n      \"column\": \"song_id\",\n      \"properties\": {\n        \"dtype\": \"number\",\n        \"std\": 3021,\n        \"min\": 614,\n        \"max\": 8483,\n        \"num_unique_values\": 5,\n        \"samples\": [\n          6450,\n          614,\n          5531\n        ],\n        \"semantic_type\": \"\",\n        \"description\": \"\"\n      }\n    },\n    {\n      \"column\": \"play_freq\",\n      \"properties\": {\n        \"dtype\": \"number\",\n        \"std\": 246,\n        \"min\": 109,\n        \"max\": 664,\n        \"num_unique_values\": 5,\n        \"samples\": [\n          110,\n          401,\n          664\n        ],\n        \"semantic_type\": \"\",\n        \"description\": \"\"\n      }\n    },\n    {\n      \"column\": \"predicted_play_count\",\n      \"properties\": {\n        \"dtype\": \"number\",\n        \"std\": 0.4709146976827547,\n        \"min\": 2.060993272772391,\n        \"max\": 3.191058019163295,\n        \"num_unique_values\": 5,\n        \"samples\": [\n          2.4422673602808933,\n          2.060993272772391,\n          2.12980843366534\n        ],\n        \"semantic_type\": \"\",\n        \"description\": \"\"\n      }\n    },\n    {\n      \"column\": \"corrected_play_count\",\n      \"properties\": {\n        \"dtype\": \"number\",\n        \"std\": 0.45436022145884486,\n        \"min\": 2.011055655828499,\n        \"max\": 3.09527539064118,\n        \"num_unique_values\": 5,\n        \"samples\": [\n          2.346921101356334,\n          2.011055655828499,\n          2.0910009073800233\n        ],\n        \"semantic_type\": \"\",\n        \"description\": \"\"\n      }\n    }\n  ]\n}",
       "type": "dataframe"
      },
      "text/html": [
       "\n",
       "  <div id=\"df-47c74d0d-1581-4b43-aeb5-34020475d2e0\" class=\"colab-df-container\">\n",
       "    <div>\n",
       "<style scoped>\n",
       "    .dataframe tbody tr th:only-of-type {\n",
       "        vertical-align: middle;\n",
       "    }\n",
       "\n",
       "    .dataframe tbody tr th {\n",
       "        vertical-align: top;\n",
       "    }\n",
       "\n",
       "    .dataframe thead th {\n",
       "        text-align: right;\n",
       "    }\n",
       "</style>\n",
       "<table border=\"1\" class=\"dataframe\">\n",
       "  <thead>\n",
       "    <tr style=\"text-align: right;\">\n",
       "      <th></th>\n",
       "      <th>song_id</th>\n",
       "      <th>play_freq</th>\n",
       "      <th>predicted_play_count</th>\n",
       "      <th>corrected_play_count</th>\n",
       "    </tr>\n",
       "  </thead>\n",
       "  <tbody>\n",
       "    <tr>\n",
       "      <th>4</th>\n",
       "      <td>7224</td>\n",
       "      <td>109</td>\n",
       "      <td>3.191058</td>\n",
       "      <td>3.095275</td>\n",
       "    </tr>\n",
       "    <tr>\n",
       "      <th>3</th>\n",
       "      <td>6450</td>\n",
       "      <td>110</td>\n",
       "      <td>2.442267</td>\n",
       "      <td>2.346921</td>\n",
       "    </tr>\n",
       "    <tr>\n",
       "      <th>0</th>\n",
       "      <td>5531</td>\n",
       "      <td>664</td>\n",
       "      <td>2.129808</td>\n",
       "      <td>2.091001</td>\n",
       "    </tr>\n",
       "    <tr>\n",
       "      <th>2</th>\n",
       "      <td>8483</td>\n",
       "      <td>130</td>\n",
       "      <td>2.131778</td>\n",
       "      <td>2.044072</td>\n",
       "    </tr>\n",
       "    <tr>\n",
       "      <th>1</th>\n",
       "      <td>614</td>\n",
       "      <td>401</td>\n",
       "      <td>2.060993</td>\n",
       "      <td>2.011056</td>\n",
       "    </tr>\n",
       "  </tbody>\n",
       "</table>\n",
       "</div>\n",
       "    <div class=\"colab-df-buttons\">\n",
       "\n",
       "  <div class=\"colab-df-container\">\n",
       "    <button class=\"colab-df-convert\" onclick=\"convertToInteractive('df-47c74d0d-1581-4b43-aeb5-34020475d2e0')\"\n",
       "            title=\"Convert this dataframe to an interactive table.\"\n",
       "            style=\"display:none;\">\n",
       "\n",
       "  <svg xmlns=\"http://www.w3.org/2000/svg\" height=\"24px\" viewBox=\"0 -960 960 960\">\n",
       "    <path d=\"M120-120v-720h720v720H120Zm60-500h600v-160H180v160Zm220 220h160v-160H400v160Zm0 220h160v-160H400v160ZM180-400h160v-160H180v160Zm440 0h160v-160H620v160ZM180-180h160v-160H180v160Zm440 0h160v-160H620v160Z\"/>\n",
       "  </svg>\n",
       "    </button>\n",
       "\n",
       "  <style>\n",
       "    .colab-df-container {\n",
       "      display:flex;\n",
       "      gap: 12px;\n",
       "    }\n",
       "\n",
       "    .colab-df-convert {\n",
       "      background-color: #E8F0FE;\n",
       "      border: none;\n",
       "      border-radius: 50%;\n",
       "      cursor: pointer;\n",
       "      display: none;\n",
       "      fill: #1967D2;\n",
       "      height: 32px;\n",
       "      padding: 0 0 0 0;\n",
       "      width: 32px;\n",
       "    }\n",
       "\n",
       "    .colab-df-convert:hover {\n",
       "      background-color: #E2EBFA;\n",
       "      box-shadow: 0px 1px 2px rgba(60, 64, 67, 0.3), 0px 1px 3px 1px rgba(60, 64, 67, 0.15);\n",
       "      fill: #174EA6;\n",
       "    }\n",
       "\n",
       "    .colab-df-buttons div {\n",
       "      margin-bottom: 4px;\n",
       "    }\n",
       "\n",
       "    [theme=dark] .colab-df-convert {\n",
       "      background-color: #3B4455;\n",
       "      fill: #D2E3FC;\n",
       "    }\n",
       "\n",
       "    [theme=dark] .colab-df-convert:hover {\n",
       "      background-color: #434B5C;\n",
       "      box-shadow: 0px 1px 3px 1px rgba(0, 0, 0, 0.15);\n",
       "      filter: drop-shadow(0px 1px 2px rgba(0, 0, 0, 0.3));\n",
       "      fill: #FFFFFF;\n",
       "    }\n",
       "  </style>\n",
       "\n",
       "    <script>\n",
       "      const buttonEl =\n",
       "        document.querySelector('#df-47c74d0d-1581-4b43-aeb5-34020475d2e0 button.colab-df-convert');\n",
       "      buttonEl.style.display =\n",
       "        google.colab.kernel.accessAllowed ? 'block' : 'none';\n",
       "\n",
       "      async function convertToInteractive(key) {\n",
       "        const element = document.querySelector('#df-47c74d0d-1581-4b43-aeb5-34020475d2e0');\n",
       "        const dataTable =\n",
       "          await google.colab.kernel.invokeFunction('convertToInteractive',\n",
       "                                                    [key], {});\n",
       "        if (!dataTable) return;\n",
       "\n",
       "        const docLinkHtml = 'Like what you see? Visit the ' +\n",
       "          '<a target=\"_blank\" href=https://colab.research.google.com/notebooks/data_table.ipynb>data table notebook</a>'\n",
       "          + ' to learn more about interactive tables.';\n",
       "        element.innerHTML = '';\n",
       "        dataTable['output_type'] = 'display_data';\n",
       "        await google.colab.output.renderOutput(dataTable, element);\n",
       "        const docLink = document.createElement('div');\n",
       "        docLink.innerHTML = docLinkHtml;\n",
       "        element.appendChild(docLink);\n",
       "      }\n",
       "    </script>\n",
       "  </div>\n",
       "\n",
       "\n",
       "<div id=\"df-fcb1f693-194d-4dd4-8506-e012d418e1d8\">\n",
       "  <button class=\"colab-df-quickchart\" onclick=\"quickchart('df-fcb1f693-194d-4dd4-8506-e012d418e1d8')\"\n",
       "            title=\"Suggest charts\"\n",
       "            style=\"display:none;\">\n",
       "\n",
       "<svg xmlns=\"http://www.w3.org/2000/svg\" height=\"24px\"viewBox=\"0 0 24 24\"\n",
       "     width=\"24px\">\n",
       "    <g>\n",
       "        <path d=\"M19 3H5c-1.1 0-2 .9-2 2v14c0 1.1.9 2 2 2h14c1.1 0 2-.9 2-2V5c0-1.1-.9-2-2-2zM9 17H7v-7h2v7zm4 0h-2V7h2v10zm4 0h-2v-4h2v4z\"/>\n",
       "    </g>\n",
       "</svg>\n",
       "  </button>\n",
       "\n",
       "<style>\n",
       "  .colab-df-quickchart {\n",
       "      --bg-color: #E8F0FE;\n",
       "      --fill-color: #1967D2;\n",
       "      --hover-bg-color: #E2EBFA;\n",
       "      --hover-fill-color: #174EA6;\n",
       "      --disabled-fill-color: #AAA;\n",
       "      --disabled-bg-color: #DDD;\n",
       "  }\n",
       "\n",
       "  [theme=dark] .colab-df-quickchart {\n",
       "      --bg-color: #3B4455;\n",
       "      --fill-color: #D2E3FC;\n",
       "      --hover-bg-color: #434B5C;\n",
       "      --hover-fill-color: #FFFFFF;\n",
       "      --disabled-bg-color: #3B4455;\n",
       "      --disabled-fill-color: #666;\n",
       "  }\n",
       "\n",
       "  .colab-df-quickchart {\n",
       "    background-color: var(--bg-color);\n",
       "    border: none;\n",
       "    border-radius: 50%;\n",
       "    cursor: pointer;\n",
       "    display: none;\n",
       "    fill: var(--fill-color);\n",
       "    height: 32px;\n",
       "    padding: 0;\n",
       "    width: 32px;\n",
       "  }\n",
       "\n",
       "  .colab-df-quickchart:hover {\n",
       "    background-color: var(--hover-bg-color);\n",
       "    box-shadow: 0 1px 2px rgba(60, 64, 67, 0.3), 0 1px 3px 1px rgba(60, 64, 67, 0.15);\n",
       "    fill: var(--button-hover-fill-color);\n",
       "  }\n",
       "\n",
       "  .colab-df-quickchart-complete:disabled,\n",
       "  .colab-df-quickchart-complete:disabled:hover {\n",
       "    background-color: var(--disabled-bg-color);\n",
       "    fill: var(--disabled-fill-color);\n",
       "    box-shadow: none;\n",
       "  }\n",
       "\n",
       "  .colab-df-spinner {\n",
       "    border: 2px solid var(--fill-color);\n",
       "    border-color: transparent;\n",
       "    border-bottom-color: var(--fill-color);\n",
       "    animation:\n",
       "      spin 1s steps(1) infinite;\n",
       "  }\n",
       "\n",
       "  @keyframes spin {\n",
       "    0% {\n",
       "      border-color: transparent;\n",
       "      border-bottom-color: var(--fill-color);\n",
       "      border-left-color: var(--fill-color);\n",
       "    }\n",
       "    20% {\n",
       "      border-color: transparent;\n",
       "      border-left-color: var(--fill-color);\n",
       "      border-top-color: var(--fill-color);\n",
       "    }\n",
       "    30% {\n",
       "      border-color: transparent;\n",
       "      border-left-color: var(--fill-color);\n",
       "      border-top-color: var(--fill-color);\n",
       "      border-right-color: var(--fill-color);\n",
       "    }\n",
       "    40% {\n",
       "      border-color: transparent;\n",
       "      border-right-color: var(--fill-color);\n",
       "      border-top-color: var(--fill-color);\n",
       "    }\n",
       "    60% {\n",
       "      border-color: transparent;\n",
       "      border-right-color: var(--fill-color);\n",
       "    }\n",
       "    80% {\n",
       "      border-color: transparent;\n",
       "      border-right-color: var(--fill-color);\n",
       "      border-bottom-color: var(--fill-color);\n",
       "    }\n",
       "    90% {\n",
       "      border-color: transparent;\n",
       "      border-bottom-color: var(--fill-color);\n",
       "    }\n",
       "  }\n",
       "</style>\n",
       "\n",
       "  <script>\n",
       "    async function quickchart(key) {\n",
       "      const quickchartButtonEl =\n",
       "        document.querySelector('#' + key + ' button');\n",
       "      quickchartButtonEl.disabled = true;  // To prevent multiple clicks.\n",
       "      quickchartButtonEl.classList.add('colab-df-spinner');\n",
       "      try {\n",
       "        const charts = await google.colab.kernel.invokeFunction(\n",
       "            'suggestCharts', [key], {});\n",
       "      } catch (error) {\n",
       "        console.error('Error during call to suggestCharts:', error);\n",
       "      }\n",
       "      quickchartButtonEl.classList.remove('colab-df-spinner');\n",
       "      quickchartButtonEl.classList.add('colab-df-quickchart-complete');\n",
       "    }\n",
       "    (() => {\n",
       "      let quickchartButtonEl =\n",
       "        document.querySelector('#df-fcb1f693-194d-4dd4-8506-e012d418e1d8 button');\n",
       "      quickchartButtonEl.style.display =\n",
       "        google.colab.kernel.accessAllowed ? 'block' : 'none';\n",
       "    })();\n",
       "  </script>\n",
       "</div>\n",
       "\n",
       "    </div>\n",
       "  </div>\n"
      ],
      "text/plain": [
       "   song_id  play_freq  predicted_play_count  corrected_play_count\n",
       "4     7224        109              3.191058              3.095275\n",
       "3     6450        110              2.442267              2.346921\n",
       "0     5531        664              2.129808              2.091001\n",
       "2     8483        130              2.131778              2.044072\n",
       "1      614        401              2.060993              2.011056"
      ]
     },
     "execution_count": 85,
     "metadata": {},
     "output_type": "execute_result"
    }
   ],
   "source": [
    "# Ranking songs based on the above recommendations\n",
    "ranking_songs(recommendations, final_play)"
   ]
  },
  {
   "cell_type": "markdown",
   "metadata": {
    "id": "_uJ_nZjBzvKH"
   },
   "source": [
    "**Observations and Insights:_________**"
   ]
  },
  {
   "cell_type": "markdown",
   "metadata": {
    "id": "5U56oSNsR-F2"
   },
   "source": [
    "### Content Based Recommendation Systems"
   ]
  },
  {
   "cell_type": "markdown",
   "metadata": {
    "id": "9aTEqaOjhoEg"
   },
   "source": [
    "**Think About It:** So far we have only used the play_count of songs to find recommendations but we have other information/features on songs as well. Can we take those song features into account?"
   ]
  },
  {
   "cell_type": "code",
   "execution_count": 86,
   "metadata": {
    "colab": {
     "base_uri": "https://localhost:8080/",
     "height": 206
    },
    "executionInfo": {
     "elapsed": 25,
     "status": "ok",
     "timestamp": 1728915313792,
     "user": {
      "displayName": "Jayashree Lakshmi",
      "userId": "09309199442259744900"
     },
     "user_tz": 240
    },
    "id": "RhUx2jgp4frC",
    "outputId": "751160ee-0ad5-4321-c1cc-be3194952ae6"
   },
   "outputs": [
    {
     "data": {
      "application/vnd.google.colaboratory.intrinsic+json": {
       "type": "dataframe",
       "variable_name": "df_final"
      },
      "text/html": [
       "\n",
       "  <div id=\"df-b3fdafd6-cca5-4432-9fbe-63696b9c1225\" class=\"colab-df-container\">\n",
       "    <div>\n",
       "<style scoped>\n",
       "    .dataframe tbody tr th:only-of-type {\n",
       "        vertical-align: middle;\n",
       "    }\n",
       "\n",
       "    .dataframe tbody tr th {\n",
       "        vertical-align: top;\n",
       "    }\n",
       "\n",
       "    .dataframe thead th {\n",
       "        text-align: right;\n",
       "    }\n",
       "</style>\n",
       "<table border=\"1\" class=\"dataframe\">\n",
       "  <thead>\n",
       "    <tr style=\"text-align: right;\">\n",
       "      <th></th>\n",
       "      <th>user_id</th>\n",
       "      <th>song_id</th>\n",
       "      <th>play_count</th>\n",
       "      <th>title</th>\n",
       "      <th>release</th>\n",
       "      <th>artist_name</th>\n",
       "      <th>year</th>\n",
       "    </tr>\n",
       "  </thead>\n",
       "  <tbody>\n",
       "    <tr>\n",
       "      <th>209</th>\n",
       "      <td>6958</td>\n",
       "      <td>447</td>\n",
       "      <td>1</td>\n",
       "      <td>Daisy And Prudence</td>\n",
       "      <td>Distillation</td>\n",
       "      <td>Erin McKeown</td>\n",
       "      <td>2000</td>\n",
       "    </tr>\n",
       "    <tr>\n",
       "      <th>211</th>\n",
       "      <td>6958</td>\n",
       "      <td>512</td>\n",
       "      <td>1</td>\n",
       "      <td>The Ballad of Michael Valentine</td>\n",
       "      <td>Sawdust</td>\n",
       "      <td>The Killers</td>\n",
       "      <td>2004</td>\n",
       "    </tr>\n",
       "    <tr>\n",
       "      <th>212</th>\n",
       "      <td>6958</td>\n",
       "      <td>549</td>\n",
       "      <td>1</td>\n",
       "      <td>I Stand Corrected (Album)</td>\n",
       "      <td>Vampire Weekend</td>\n",
       "      <td>Vampire Weekend</td>\n",
       "      <td>2007</td>\n",
       "    </tr>\n",
       "    <tr>\n",
       "      <th>213</th>\n",
       "      <td>6958</td>\n",
       "      <td>703</td>\n",
       "      <td>1</td>\n",
       "      <td>They Might Follow You</td>\n",
       "      <td>Tiny Vipers</td>\n",
       "      <td>Tiny Vipers</td>\n",
       "      <td>2007</td>\n",
       "    </tr>\n",
       "    <tr>\n",
       "      <th>214</th>\n",
       "      <td>6958</td>\n",
       "      <td>719</td>\n",
       "      <td>1</td>\n",
       "      <td>Monkey Man</td>\n",
       "      <td>You Know I'm No Good</td>\n",
       "      <td>Amy Winehouse</td>\n",
       "      <td>2007</td>\n",
       "    </tr>\n",
       "  </tbody>\n",
       "</table>\n",
       "</div>\n",
       "    <div class=\"colab-df-buttons\">\n",
       "\n",
       "  <div class=\"colab-df-container\">\n",
       "    <button class=\"colab-df-convert\" onclick=\"convertToInteractive('df-b3fdafd6-cca5-4432-9fbe-63696b9c1225')\"\n",
       "            title=\"Convert this dataframe to an interactive table.\"\n",
       "            style=\"display:none;\">\n",
       "\n",
       "  <svg xmlns=\"http://www.w3.org/2000/svg\" height=\"24px\" viewBox=\"0 -960 960 960\">\n",
       "    <path d=\"M120-120v-720h720v720H120Zm60-500h600v-160H180v160Zm220 220h160v-160H400v160Zm0 220h160v-160H400v160ZM180-400h160v-160H180v160Zm440 0h160v-160H620v160ZM180-180h160v-160H180v160Zm440 0h160v-160H620v160Z\"/>\n",
       "  </svg>\n",
       "    </button>\n",
       "\n",
       "  <style>\n",
       "    .colab-df-container {\n",
       "      display:flex;\n",
       "      gap: 12px;\n",
       "    }\n",
       "\n",
       "    .colab-df-convert {\n",
       "      background-color: #E8F0FE;\n",
       "      border: none;\n",
       "      border-radius: 50%;\n",
       "      cursor: pointer;\n",
       "      display: none;\n",
       "      fill: #1967D2;\n",
       "      height: 32px;\n",
       "      padding: 0 0 0 0;\n",
       "      width: 32px;\n",
       "    }\n",
       "\n",
       "    .colab-df-convert:hover {\n",
       "      background-color: #E2EBFA;\n",
       "      box-shadow: 0px 1px 2px rgba(60, 64, 67, 0.3), 0px 1px 3px 1px rgba(60, 64, 67, 0.15);\n",
       "      fill: #174EA6;\n",
       "    }\n",
       "\n",
       "    .colab-df-buttons div {\n",
       "      margin-bottom: 4px;\n",
       "    }\n",
       "\n",
       "    [theme=dark] .colab-df-convert {\n",
       "      background-color: #3B4455;\n",
       "      fill: #D2E3FC;\n",
       "    }\n",
       "\n",
       "    [theme=dark] .colab-df-convert:hover {\n",
       "      background-color: #434B5C;\n",
       "      box-shadow: 0px 1px 3px 1px rgba(0, 0, 0, 0.15);\n",
       "      filter: drop-shadow(0px 1px 2px rgba(0, 0, 0, 0.3));\n",
       "      fill: #FFFFFF;\n",
       "    }\n",
       "  </style>\n",
       "\n",
       "    <script>\n",
       "      const buttonEl =\n",
       "        document.querySelector('#df-b3fdafd6-cca5-4432-9fbe-63696b9c1225 button.colab-df-convert');\n",
       "      buttonEl.style.display =\n",
       "        google.colab.kernel.accessAllowed ? 'block' : 'none';\n",
       "\n",
       "      async function convertToInteractive(key) {\n",
       "        const element = document.querySelector('#df-b3fdafd6-cca5-4432-9fbe-63696b9c1225');\n",
       "        const dataTable =\n",
       "          await google.colab.kernel.invokeFunction('convertToInteractive',\n",
       "                                                    [key], {});\n",
       "        if (!dataTable) return;\n",
       "\n",
       "        const docLinkHtml = 'Like what you see? Visit the ' +\n",
       "          '<a target=\"_blank\" href=https://colab.research.google.com/notebooks/data_table.ipynb>data table notebook</a>'\n",
       "          + ' to learn more about interactive tables.';\n",
       "        element.innerHTML = '';\n",
       "        dataTable['output_type'] = 'display_data';\n",
       "        await google.colab.output.renderOutput(dataTable, element);\n",
       "        const docLink = document.createElement('div');\n",
       "        docLink.innerHTML = docLinkHtml;\n",
       "        element.appendChild(docLink);\n",
       "      }\n",
       "    </script>\n",
       "  </div>\n",
       "\n",
       "\n",
       "<div id=\"df-db238625-64d0-4dce-8825-0033cbcc8733\">\n",
       "  <button class=\"colab-df-quickchart\" onclick=\"quickchart('df-db238625-64d0-4dce-8825-0033cbcc8733')\"\n",
       "            title=\"Suggest charts\"\n",
       "            style=\"display:none;\">\n",
       "\n",
       "<svg xmlns=\"http://www.w3.org/2000/svg\" height=\"24px\"viewBox=\"0 0 24 24\"\n",
       "     width=\"24px\">\n",
       "    <g>\n",
       "        <path d=\"M19 3H5c-1.1 0-2 .9-2 2v14c0 1.1.9 2 2 2h14c1.1 0 2-.9 2-2V5c0-1.1-.9-2-2-2zM9 17H7v-7h2v7zm4 0h-2V7h2v10zm4 0h-2v-4h2v4z\"/>\n",
       "    </g>\n",
       "</svg>\n",
       "  </button>\n",
       "\n",
       "<style>\n",
       "  .colab-df-quickchart {\n",
       "      --bg-color: #E8F0FE;\n",
       "      --fill-color: #1967D2;\n",
       "      --hover-bg-color: #E2EBFA;\n",
       "      --hover-fill-color: #174EA6;\n",
       "      --disabled-fill-color: #AAA;\n",
       "      --disabled-bg-color: #DDD;\n",
       "  }\n",
       "\n",
       "  [theme=dark] .colab-df-quickchart {\n",
       "      --bg-color: #3B4455;\n",
       "      --fill-color: #D2E3FC;\n",
       "      --hover-bg-color: #434B5C;\n",
       "      --hover-fill-color: #FFFFFF;\n",
       "      --disabled-bg-color: #3B4455;\n",
       "      --disabled-fill-color: #666;\n",
       "  }\n",
       "\n",
       "  .colab-df-quickchart {\n",
       "    background-color: var(--bg-color);\n",
       "    border: none;\n",
       "    border-radius: 50%;\n",
       "    cursor: pointer;\n",
       "    display: none;\n",
       "    fill: var(--fill-color);\n",
       "    height: 32px;\n",
       "    padding: 0;\n",
       "    width: 32px;\n",
       "  }\n",
       "\n",
       "  .colab-df-quickchart:hover {\n",
       "    background-color: var(--hover-bg-color);\n",
       "    box-shadow: 0 1px 2px rgba(60, 64, 67, 0.3), 0 1px 3px 1px rgba(60, 64, 67, 0.15);\n",
       "    fill: var(--button-hover-fill-color);\n",
       "  }\n",
       "\n",
       "  .colab-df-quickchart-complete:disabled,\n",
       "  .colab-df-quickchart-complete:disabled:hover {\n",
       "    background-color: var(--disabled-bg-color);\n",
       "    fill: var(--disabled-fill-color);\n",
       "    box-shadow: none;\n",
       "  }\n",
       "\n",
       "  .colab-df-spinner {\n",
       "    border: 2px solid var(--fill-color);\n",
       "    border-color: transparent;\n",
       "    border-bottom-color: var(--fill-color);\n",
       "    animation:\n",
       "      spin 1s steps(1) infinite;\n",
       "  }\n",
       "\n",
       "  @keyframes spin {\n",
       "    0% {\n",
       "      border-color: transparent;\n",
       "      border-bottom-color: var(--fill-color);\n",
       "      border-left-color: var(--fill-color);\n",
       "    }\n",
       "    20% {\n",
       "      border-color: transparent;\n",
       "      border-left-color: var(--fill-color);\n",
       "      border-top-color: var(--fill-color);\n",
       "    }\n",
       "    30% {\n",
       "      border-color: transparent;\n",
       "      border-left-color: var(--fill-color);\n",
       "      border-top-color: var(--fill-color);\n",
       "      border-right-color: var(--fill-color);\n",
       "    }\n",
       "    40% {\n",
       "      border-color: transparent;\n",
       "      border-right-color: var(--fill-color);\n",
       "      border-top-color: var(--fill-color);\n",
       "    }\n",
       "    60% {\n",
       "      border-color: transparent;\n",
       "      border-right-color: var(--fill-color);\n",
       "    }\n",
       "    80% {\n",
       "      border-color: transparent;\n",
       "      border-right-color: var(--fill-color);\n",
       "      border-bottom-color: var(--fill-color);\n",
       "    }\n",
       "    90% {\n",
       "      border-color: transparent;\n",
       "      border-bottom-color: var(--fill-color);\n",
       "    }\n",
       "  }\n",
       "</style>\n",
       "\n",
       "  <script>\n",
       "    async function quickchart(key) {\n",
       "      const quickchartButtonEl =\n",
       "        document.querySelector('#' + key + ' button');\n",
       "      quickchartButtonEl.disabled = true;  // To prevent multiple clicks.\n",
       "      quickchartButtonEl.classList.add('colab-df-spinner');\n",
       "      try {\n",
       "        const charts = await google.colab.kernel.invokeFunction(\n",
       "            'suggestCharts', [key], {});\n",
       "      } catch (error) {\n",
       "        console.error('Error during call to suggestCharts:', error);\n",
       "      }\n",
       "      quickchartButtonEl.classList.remove('colab-df-spinner');\n",
       "      quickchartButtonEl.classList.add('colab-df-quickchart-complete');\n",
       "    }\n",
       "    (() => {\n",
       "      let quickchartButtonEl =\n",
       "        document.querySelector('#df-db238625-64d0-4dce-8825-0033cbcc8733 button');\n",
       "      quickchartButtonEl.style.display =\n",
       "        google.colab.kernel.accessAllowed ? 'block' : 'none';\n",
       "    })();\n",
       "  </script>\n",
       "</div>\n",
       "\n",
       "    </div>\n",
       "  </div>\n"
      ],
      "text/plain": [
       "     user_id  song_id  play_count                            title  \\\n",
       "209     6958      447           1               Daisy And Prudence   \n",
       "211     6958      512           1  The Ballad of Michael Valentine   \n",
       "212     6958      549           1        I Stand Corrected (Album)   \n",
       "213     6958      703           1            They Might Follow You   \n",
       "214     6958      719           1                       Monkey Man   \n",
       "\n",
       "                  release      artist_name  year  \n",
       "209          Distillation     Erin McKeown  2000  \n",
       "211               Sawdust      The Killers  2004  \n",
       "212       Vampire Weekend  Vampire Weekend  2007  \n",
       "213           Tiny Vipers      Tiny Vipers  2007  \n",
       "214  You Know I'm No Good    Amy Winehouse  2007  "
      ]
     },
     "execution_count": 86,
     "metadata": {},
     "output_type": "execute_result"
    }
   ],
   "source": [
    "df_final.head()"
   ]
  },
  {
   "cell_type": "code",
   "execution_count": 87,
   "metadata": {
    "colab": {
     "base_uri": "https://localhost:8080/",
     "height": 206
    },
    "executionInfo": {
     "elapsed": 23,
     "status": "ok",
     "timestamp": 1728915313793,
     "user": {
      "displayName": "Jayashree Lakshmi",
      "userId": "09309199442259744900"
     },
     "user_tz": 240
    },
    "id": "UX826CsjR-F3",
    "outputId": "5e92cc45-d5fc-4cfe-932d-f36ff266fe78"
   },
   "outputs": [
    {
     "data": {
      "application/vnd.google.colaboratory.intrinsic+json": {
       "type": "dataframe",
       "variable_name": "df_final"
      },
      "text/html": [
       "\n",
       "  <div id=\"df-5f30929a-a477-4627-9193-1ecdf7902cae\" class=\"colab-df-container\">\n",
       "    <div>\n",
       "<style scoped>\n",
       "    .dataframe tbody tr th:only-of-type {\n",
       "        vertical-align: middle;\n",
       "    }\n",
       "\n",
       "    .dataframe tbody tr th {\n",
       "        vertical-align: top;\n",
       "    }\n",
       "\n",
       "    .dataframe thead th {\n",
       "        text-align: right;\n",
       "    }\n",
       "</style>\n",
       "<table border=\"1\" class=\"dataframe\">\n",
       "  <thead>\n",
       "    <tr style=\"text-align: right;\">\n",
       "      <th></th>\n",
       "      <th>user_id</th>\n",
       "      <th>song_id</th>\n",
       "      <th>play_count</th>\n",
       "      <th>title</th>\n",
       "      <th>release</th>\n",
       "      <th>artist_name</th>\n",
       "      <th>year</th>\n",
       "      <th>text</th>\n",
       "    </tr>\n",
       "  </thead>\n",
       "  <tbody>\n",
       "    <tr>\n",
       "      <th>209</th>\n",
       "      <td>6958</td>\n",
       "      <td>447</td>\n",
       "      <td>1</td>\n",
       "      <td>Daisy And Prudence</td>\n",
       "      <td>Distillation</td>\n",
       "      <td>Erin McKeown</td>\n",
       "      <td>2000</td>\n",
       "      <td>Daisy And Prudence Distillation Erin McKeown</td>\n",
       "    </tr>\n",
       "    <tr>\n",
       "      <th>211</th>\n",
       "      <td>6958</td>\n",
       "      <td>512</td>\n",
       "      <td>1</td>\n",
       "      <td>The Ballad of Michael Valentine</td>\n",
       "      <td>Sawdust</td>\n",
       "      <td>The Killers</td>\n",
       "      <td>2004</td>\n",
       "      <td>The Ballad of Michael Valentine Sawdust The Ki...</td>\n",
       "    </tr>\n",
       "    <tr>\n",
       "      <th>212</th>\n",
       "      <td>6958</td>\n",
       "      <td>549</td>\n",
       "      <td>1</td>\n",
       "      <td>I Stand Corrected (Album)</td>\n",
       "      <td>Vampire Weekend</td>\n",
       "      <td>Vampire Weekend</td>\n",
       "      <td>2007</td>\n",
       "      <td>I Stand Corrected (Album) Vampire Weekend Vamp...</td>\n",
       "    </tr>\n",
       "    <tr>\n",
       "      <th>213</th>\n",
       "      <td>6958</td>\n",
       "      <td>703</td>\n",
       "      <td>1</td>\n",
       "      <td>They Might Follow You</td>\n",
       "      <td>Tiny Vipers</td>\n",
       "      <td>Tiny Vipers</td>\n",
       "      <td>2007</td>\n",
       "      <td>They Might Follow You Tiny Vipers Tiny Vipers</td>\n",
       "    </tr>\n",
       "    <tr>\n",
       "      <th>214</th>\n",
       "      <td>6958</td>\n",
       "      <td>719</td>\n",
       "      <td>1</td>\n",
       "      <td>Monkey Man</td>\n",
       "      <td>You Know I'm No Good</td>\n",
       "      <td>Amy Winehouse</td>\n",
       "      <td>2007</td>\n",
       "      <td>Monkey Man You Know I'm No Good Amy Winehouse</td>\n",
       "    </tr>\n",
       "  </tbody>\n",
       "</table>\n",
       "</div>\n",
       "    <div class=\"colab-df-buttons\">\n",
       "\n",
       "  <div class=\"colab-df-container\">\n",
       "    <button class=\"colab-df-convert\" onclick=\"convertToInteractive('df-5f30929a-a477-4627-9193-1ecdf7902cae')\"\n",
       "            title=\"Convert this dataframe to an interactive table.\"\n",
       "            style=\"display:none;\">\n",
       "\n",
       "  <svg xmlns=\"http://www.w3.org/2000/svg\" height=\"24px\" viewBox=\"0 -960 960 960\">\n",
       "    <path d=\"M120-120v-720h720v720H120Zm60-500h600v-160H180v160Zm220 220h160v-160H400v160Zm0 220h160v-160H400v160ZM180-400h160v-160H180v160Zm440 0h160v-160H620v160ZM180-180h160v-160H180v160Zm440 0h160v-160H620v160Z\"/>\n",
       "  </svg>\n",
       "    </button>\n",
       "\n",
       "  <style>\n",
       "    .colab-df-container {\n",
       "      display:flex;\n",
       "      gap: 12px;\n",
       "    }\n",
       "\n",
       "    .colab-df-convert {\n",
       "      background-color: #E8F0FE;\n",
       "      border: none;\n",
       "      border-radius: 50%;\n",
       "      cursor: pointer;\n",
       "      display: none;\n",
       "      fill: #1967D2;\n",
       "      height: 32px;\n",
       "      padding: 0 0 0 0;\n",
       "      width: 32px;\n",
       "    }\n",
       "\n",
       "    .colab-df-convert:hover {\n",
       "      background-color: #E2EBFA;\n",
       "      box-shadow: 0px 1px 2px rgba(60, 64, 67, 0.3), 0px 1px 3px 1px rgba(60, 64, 67, 0.15);\n",
       "      fill: #174EA6;\n",
       "    }\n",
       "\n",
       "    .colab-df-buttons div {\n",
       "      margin-bottom: 4px;\n",
       "    }\n",
       "\n",
       "    [theme=dark] .colab-df-convert {\n",
       "      background-color: #3B4455;\n",
       "      fill: #D2E3FC;\n",
       "    }\n",
       "\n",
       "    [theme=dark] .colab-df-convert:hover {\n",
       "      background-color: #434B5C;\n",
       "      box-shadow: 0px 1px 3px 1px rgba(0, 0, 0, 0.15);\n",
       "      filter: drop-shadow(0px 1px 2px rgba(0, 0, 0, 0.3));\n",
       "      fill: #FFFFFF;\n",
       "    }\n",
       "  </style>\n",
       "\n",
       "    <script>\n",
       "      const buttonEl =\n",
       "        document.querySelector('#df-5f30929a-a477-4627-9193-1ecdf7902cae button.colab-df-convert');\n",
       "      buttonEl.style.display =\n",
       "        google.colab.kernel.accessAllowed ? 'block' : 'none';\n",
       "\n",
       "      async function convertToInteractive(key) {\n",
       "        const element = document.querySelector('#df-5f30929a-a477-4627-9193-1ecdf7902cae');\n",
       "        const dataTable =\n",
       "          await google.colab.kernel.invokeFunction('convertToInteractive',\n",
       "                                                    [key], {});\n",
       "        if (!dataTable) return;\n",
       "\n",
       "        const docLinkHtml = 'Like what you see? Visit the ' +\n",
       "          '<a target=\"_blank\" href=https://colab.research.google.com/notebooks/data_table.ipynb>data table notebook</a>'\n",
       "          + ' to learn more about interactive tables.';\n",
       "        element.innerHTML = '';\n",
       "        dataTable['output_type'] = 'display_data';\n",
       "        await google.colab.output.renderOutput(dataTable, element);\n",
       "        const docLink = document.createElement('div');\n",
       "        docLink.innerHTML = docLinkHtml;\n",
       "        element.appendChild(docLink);\n",
       "      }\n",
       "    </script>\n",
       "  </div>\n",
       "\n",
       "\n",
       "<div id=\"df-df1eef1c-c7b9-4649-957c-2a4ab2d77686\">\n",
       "  <button class=\"colab-df-quickchart\" onclick=\"quickchart('df-df1eef1c-c7b9-4649-957c-2a4ab2d77686')\"\n",
       "            title=\"Suggest charts\"\n",
       "            style=\"display:none;\">\n",
       "\n",
       "<svg xmlns=\"http://www.w3.org/2000/svg\" height=\"24px\"viewBox=\"0 0 24 24\"\n",
       "     width=\"24px\">\n",
       "    <g>\n",
       "        <path d=\"M19 3H5c-1.1 0-2 .9-2 2v14c0 1.1.9 2 2 2h14c1.1 0 2-.9 2-2V5c0-1.1-.9-2-2-2zM9 17H7v-7h2v7zm4 0h-2V7h2v10zm4 0h-2v-4h2v4z\"/>\n",
       "    </g>\n",
       "</svg>\n",
       "  </button>\n",
       "\n",
       "<style>\n",
       "  .colab-df-quickchart {\n",
       "      --bg-color: #E8F0FE;\n",
       "      --fill-color: #1967D2;\n",
       "      --hover-bg-color: #E2EBFA;\n",
       "      --hover-fill-color: #174EA6;\n",
       "      --disabled-fill-color: #AAA;\n",
       "      --disabled-bg-color: #DDD;\n",
       "  }\n",
       "\n",
       "  [theme=dark] .colab-df-quickchart {\n",
       "      --bg-color: #3B4455;\n",
       "      --fill-color: #D2E3FC;\n",
       "      --hover-bg-color: #434B5C;\n",
       "      --hover-fill-color: #FFFFFF;\n",
       "      --disabled-bg-color: #3B4455;\n",
       "      --disabled-fill-color: #666;\n",
       "  }\n",
       "\n",
       "  .colab-df-quickchart {\n",
       "    background-color: var(--bg-color);\n",
       "    border: none;\n",
       "    border-radius: 50%;\n",
       "    cursor: pointer;\n",
       "    display: none;\n",
       "    fill: var(--fill-color);\n",
       "    height: 32px;\n",
       "    padding: 0;\n",
       "    width: 32px;\n",
       "  }\n",
       "\n",
       "  .colab-df-quickchart:hover {\n",
       "    background-color: var(--hover-bg-color);\n",
       "    box-shadow: 0 1px 2px rgba(60, 64, 67, 0.3), 0 1px 3px 1px rgba(60, 64, 67, 0.15);\n",
       "    fill: var(--button-hover-fill-color);\n",
       "  }\n",
       "\n",
       "  .colab-df-quickchart-complete:disabled,\n",
       "  .colab-df-quickchart-complete:disabled:hover {\n",
       "    background-color: var(--disabled-bg-color);\n",
       "    fill: var(--disabled-fill-color);\n",
       "    box-shadow: none;\n",
       "  }\n",
       "\n",
       "  .colab-df-spinner {\n",
       "    border: 2px solid var(--fill-color);\n",
       "    border-color: transparent;\n",
       "    border-bottom-color: var(--fill-color);\n",
       "    animation:\n",
       "      spin 1s steps(1) infinite;\n",
       "  }\n",
       "\n",
       "  @keyframes spin {\n",
       "    0% {\n",
       "      border-color: transparent;\n",
       "      border-bottom-color: var(--fill-color);\n",
       "      border-left-color: var(--fill-color);\n",
       "    }\n",
       "    20% {\n",
       "      border-color: transparent;\n",
       "      border-left-color: var(--fill-color);\n",
       "      border-top-color: var(--fill-color);\n",
       "    }\n",
       "    30% {\n",
       "      border-color: transparent;\n",
       "      border-left-color: var(--fill-color);\n",
       "      border-top-color: var(--fill-color);\n",
       "      border-right-color: var(--fill-color);\n",
       "    }\n",
       "    40% {\n",
       "      border-color: transparent;\n",
       "      border-right-color: var(--fill-color);\n",
       "      border-top-color: var(--fill-color);\n",
       "    }\n",
       "    60% {\n",
       "      border-color: transparent;\n",
       "      border-right-color: var(--fill-color);\n",
       "    }\n",
       "    80% {\n",
       "      border-color: transparent;\n",
       "      border-right-color: var(--fill-color);\n",
       "      border-bottom-color: var(--fill-color);\n",
       "    }\n",
       "    90% {\n",
       "      border-color: transparent;\n",
       "      border-bottom-color: var(--fill-color);\n",
       "    }\n",
       "  }\n",
       "</style>\n",
       "\n",
       "  <script>\n",
       "    async function quickchart(key) {\n",
       "      const quickchartButtonEl =\n",
       "        document.querySelector('#' + key + ' button');\n",
       "      quickchartButtonEl.disabled = true;  // To prevent multiple clicks.\n",
       "      quickchartButtonEl.classList.add('colab-df-spinner');\n",
       "      try {\n",
       "        const charts = await google.colab.kernel.invokeFunction(\n",
       "            'suggestCharts', [key], {});\n",
       "      } catch (error) {\n",
       "        console.error('Error during call to suggestCharts:', error);\n",
       "      }\n",
       "      quickchartButtonEl.classList.remove('colab-df-spinner');\n",
       "      quickchartButtonEl.classList.add('colab-df-quickchart-complete');\n",
       "    }\n",
       "    (() => {\n",
       "      let quickchartButtonEl =\n",
       "        document.querySelector('#df-df1eef1c-c7b9-4649-957c-2a4ab2d77686 button');\n",
       "      quickchartButtonEl.style.display =\n",
       "        google.colab.kernel.accessAllowed ? 'block' : 'none';\n",
       "    })();\n",
       "  </script>\n",
       "</div>\n",
       "\n",
       "    </div>\n",
       "  </div>\n"
      ],
      "text/plain": [
       "     user_id  song_id  play_count                            title  \\\n",
       "209     6958      447           1               Daisy And Prudence   \n",
       "211     6958      512           1  The Ballad of Michael Valentine   \n",
       "212     6958      549           1        I Stand Corrected (Album)   \n",
       "213     6958      703           1            They Might Follow You   \n",
       "214     6958      719           1                       Monkey Man   \n",
       "\n",
       "                  release      artist_name  year  \\\n",
       "209          Distillation     Erin McKeown  2000   \n",
       "211               Sawdust      The Killers  2004   \n",
       "212       Vampire Weekend  Vampire Weekend  2007   \n",
       "213           Tiny Vipers      Tiny Vipers  2007   \n",
       "214  You Know I'm No Good    Amy Winehouse  2007   \n",
       "\n",
       "                                                  text  \n",
       "209       Daisy And Prudence Distillation Erin McKeown  \n",
       "211  The Ballad of Michael Valentine Sawdust The Ki...  \n",
       "212  I Stand Corrected (Album) Vampire Weekend Vamp...  \n",
       "213      They Might Follow You Tiny Vipers Tiny Vipers  \n",
       "214      Monkey Man You Know I'm No Good Amy Winehouse  "
      ]
     },
     "execution_count": 87,
     "metadata": {},
     "output_type": "execute_result"
    }
   ],
   "source": [
    "# Concatenate the \"title\", \"release\", \"artist_name\" columns to create a different column named \"text\"\n",
    "df_final['text'] = df_final['title']+ ' ' + df_final['release'] + ' ' + df_final['artist_name']\n",
    "df_final.head()"
   ]
  },
  {
   "cell_type": "code",
   "execution_count": 88,
   "metadata": {
    "colab": {
     "base_uri": "https://localhost:8080/",
     "height": 238
    },
    "executionInfo": {
     "elapsed": 21,
     "status": "ok",
     "timestamp": 1728915313793,
     "user": {
      "displayName": "Jayashree Lakshmi",
      "userId": "09309199442259744900"
     },
     "user_tz": 240
    },
    "id": "WdXw4U-wR-F4",
    "outputId": "f09f7cac-475d-4030-8aa4-bffbca1a7132"
   },
   "outputs": [
    {
     "data": {
      "application/vnd.google.colaboratory.intrinsic+json": {
       "summary": "{\n  \"name\": \"df_final\",\n  \"rows\": 629,\n  \"fields\": [\n    {\n      \"column\": \"title\",\n      \"properties\": {\n        \"dtype\": \"string\",\n        \"num_unique_values\": 629,\n        \"samples\": [\n          \"Mykonos\",\n          \"I'm On A Boat\",\n          \"Never Gonna Happen\"\n        ],\n        \"semantic_type\": \"\",\n        \"description\": \"\"\n      }\n    },\n    {\n      \"column\": \"user_id\",\n      \"properties\": {\n        \"dtype\": \"number\",\n        \"std\": 18457,\n        \"min\": 11,\n        \"max\": 75901,\n        \"num_unique_values\": 80,\n        \"samples\": [\n          60910,\n          6958,\n          52928\n        ],\n        \"semantic_type\": \"\",\n        \"description\": \"\"\n      }\n    },\n    {\n      \"column\": \"song_id\",\n      \"properties\": {\n        \"dtype\": \"number\",\n        \"std\": 2884,\n        \"min\": 21,\n        \"max\": 9989,\n        \"num_unique_values\": 618,\n        \"samples\": [\n          1519,\n          498,\n          6079\n        ],\n        \"semantic_type\": \"\",\n        \"description\": \"\"\n      }\n    },\n    {\n      \"column\": \"play_count\",\n      \"properties\": {\n        \"dtype\": \"number\",\n        \"std\": 1,\n        \"min\": 1,\n        \"max\": 5,\n        \"num_unique_values\": 5,\n        \"samples\": [\n          5,\n          4,\n          2\n        ],\n        \"semantic_type\": \"\",\n        \"description\": \"\"\n      }\n    },\n    {\n      \"column\": \"release\",\n      \"properties\": {\n        \"dtype\": \"string\",\n        \"num_unique_values\": 419,\n        \"samples\": [\n          \"When You  Were Young\",\n          \"I Need A Dollar\",\n          \"Hybrid Theory\"\n        ],\n        \"semantic_type\": \"\",\n        \"description\": \"\"\n      }\n    },\n    {\n      \"column\": \"artist_name\",\n      \"properties\": {\n        \"dtype\": \"category\",\n        \"num_unique_values\": 247,\n        \"samples\": [\n          \"The Pussycat Dolls\",\n          \"Metric\",\n          \"California Swag District\"\n        ],\n        \"semantic_type\": \"\",\n        \"description\": \"\"\n      }\n    },\n    {\n      \"column\": \"year\",\n      \"properties\": {\n        \"dtype\": \"number\",\n        \"std\": 724,\n        \"min\": 0,\n        \"max\": 2010,\n        \"num_unique_values\": 37,\n        \"samples\": [\n          1994,\n          1992,\n          2003\n        ],\n        \"semantic_type\": \"\",\n        \"description\": \"\"\n      }\n    },\n    {\n      \"column\": \"text\",\n      \"properties\": {\n        \"dtype\": \"string\",\n        \"num_unique_values\": 629,\n        \"samples\": [\n          \"Mykonos Sun Giant Fleet Foxes\",\n          \"I'm On A Boat Incredibad The Lonely Island / T-Pain\",\n          \"Never Gonna Happen It's Not Me_ It's You (Special Edition) Lily Allen\"\n        ],\n        \"semantic_type\": \"\",\n        \"description\": \"\"\n      }\n    }\n  ]\n}",
       "type": "dataframe",
       "variable_name": "df_final"
      },
      "text/html": [
       "\n",
       "  <div id=\"df-940d5a35-a6c6-49f3-a424-fb00376b0cfd\" class=\"colab-df-container\">\n",
       "    <div>\n",
       "<style scoped>\n",
       "    .dataframe tbody tr th:only-of-type {\n",
       "        vertical-align: middle;\n",
       "    }\n",
       "\n",
       "    .dataframe tbody tr th {\n",
       "        vertical-align: top;\n",
       "    }\n",
       "\n",
       "    .dataframe thead th {\n",
       "        text-align: right;\n",
       "    }\n",
       "</style>\n",
       "<table border=\"1\" class=\"dataframe\">\n",
       "  <thead>\n",
       "    <tr style=\"text-align: right;\">\n",
       "      <th></th>\n",
       "      <th>user_id</th>\n",
       "      <th>song_id</th>\n",
       "      <th>play_count</th>\n",
       "      <th>release</th>\n",
       "      <th>artist_name</th>\n",
       "      <th>year</th>\n",
       "      <th>text</th>\n",
       "    </tr>\n",
       "    <tr>\n",
       "      <th>title</th>\n",
       "      <th></th>\n",
       "      <th></th>\n",
       "      <th></th>\n",
       "      <th></th>\n",
       "      <th></th>\n",
       "      <th></th>\n",
       "      <th></th>\n",
       "    </tr>\n",
       "  </thead>\n",
       "  <tbody>\n",
       "    <tr>\n",
       "      <th>Daisy And Prudence</th>\n",
       "      <td>6958</td>\n",
       "      <td>447</td>\n",
       "      <td>1</td>\n",
       "      <td>Distillation</td>\n",
       "      <td>Erin McKeown</td>\n",
       "      <td>2000</td>\n",
       "      <td>Daisy And Prudence Distillation Erin McKeown</td>\n",
       "    </tr>\n",
       "    <tr>\n",
       "      <th>The Ballad of Michael Valentine</th>\n",
       "      <td>6958</td>\n",
       "      <td>512</td>\n",
       "      <td>1</td>\n",
       "      <td>Sawdust</td>\n",
       "      <td>The Killers</td>\n",
       "      <td>2004</td>\n",
       "      <td>The Ballad of Michael Valentine Sawdust The Ki...</td>\n",
       "    </tr>\n",
       "    <tr>\n",
       "      <th>I Stand Corrected (Album)</th>\n",
       "      <td>6958</td>\n",
       "      <td>549</td>\n",
       "      <td>1</td>\n",
       "      <td>Vampire Weekend</td>\n",
       "      <td>Vampire Weekend</td>\n",
       "      <td>2007</td>\n",
       "      <td>I Stand Corrected (Album) Vampire Weekend Vamp...</td>\n",
       "    </tr>\n",
       "    <tr>\n",
       "      <th>They Might Follow You</th>\n",
       "      <td>6958</td>\n",
       "      <td>703</td>\n",
       "      <td>1</td>\n",
       "      <td>Tiny Vipers</td>\n",
       "      <td>Tiny Vipers</td>\n",
       "      <td>2007</td>\n",
       "      <td>They Might Follow You Tiny Vipers Tiny Vipers</td>\n",
       "    </tr>\n",
       "    <tr>\n",
       "      <th>Monkey Man</th>\n",
       "      <td>6958</td>\n",
       "      <td>719</td>\n",
       "      <td>1</td>\n",
       "      <td>You Know I'm No Good</td>\n",
       "      <td>Amy Winehouse</td>\n",
       "      <td>2007</td>\n",
       "      <td>Monkey Man You Know I'm No Good Amy Winehouse</td>\n",
       "    </tr>\n",
       "  </tbody>\n",
       "</table>\n",
       "</div>\n",
       "    <div class=\"colab-df-buttons\">\n",
       "\n",
       "  <div class=\"colab-df-container\">\n",
       "    <button class=\"colab-df-convert\" onclick=\"convertToInteractive('df-940d5a35-a6c6-49f3-a424-fb00376b0cfd')\"\n",
       "            title=\"Convert this dataframe to an interactive table.\"\n",
       "            style=\"display:none;\">\n",
       "\n",
       "  <svg xmlns=\"http://www.w3.org/2000/svg\" height=\"24px\" viewBox=\"0 -960 960 960\">\n",
       "    <path d=\"M120-120v-720h720v720H120Zm60-500h600v-160H180v160Zm220 220h160v-160H400v160Zm0 220h160v-160H400v160ZM180-400h160v-160H180v160Zm440 0h160v-160H620v160ZM180-180h160v-160H180v160Zm440 0h160v-160H620v160Z\"/>\n",
       "  </svg>\n",
       "    </button>\n",
       "\n",
       "  <style>\n",
       "    .colab-df-container {\n",
       "      display:flex;\n",
       "      gap: 12px;\n",
       "    }\n",
       "\n",
       "    .colab-df-convert {\n",
       "      background-color: #E8F0FE;\n",
       "      border: none;\n",
       "      border-radius: 50%;\n",
       "      cursor: pointer;\n",
       "      display: none;\n",
       "      fill: #1967D2;\n",
       "      height: 32px;\n",
       "      padding: 0 0 0 0;\n",
       "      width: 32px;\n",
       "    }\n",
       "\n",
       "    .colab-df-convert:hover {\n",
       "      background-color: #E2EBFA;\n",
       "      box-shadow: 0px 1px 2px rgba(60, 64, 67, 0.3), 0px 1px 3px 1px rgba(60, 64, 67, 0.15);\n",
       "      fill: #174EA6;\n",
       "    }\n",
       "\n",
       "    .colab-df-buttons div {\n",
       "      margin-bottom: 4px;\n",
       "    }\n",
       "\n",
       "    [theme=dark] .colab-df-convert {\n",
       "      background-color: #3B4455;\n",
       "      fill: #D2E3FC;\n",
       "    }\n",
       "\n",
       "    [theme=dark] .colab-df-convert:hover {\n",
       "      background-color: #434B5C;\n",
       "      box-shadow: 0px 1px 3px 1px rgba(0, 0, 0, 0.15);\n",
       "      filter: drop-shadow(0px 1px 2px rgba(0, 0, 0, 0.3));\n",
       "      fill: #FFFFFF;\n",
       "    }\n",
       "  </style>\n",
       "\n",
       "    <script>\n",
       "      const buttonEl =\n",
       "        document.querySelector('#df-940d5a35-a6c6-49f3-a424-fb00376b0cfd button.colab-df-convert');\n",
       "      buttonEl.style.display =\n",
       "        google.colab.kernel.accessAllowed ? 'block' : 'none';\n",
       "\n",
       "      async function convertToInteractive(key) {\n",
       "        const element = document.querySelector('#df-940d5a35-a6c6-49f3-a424-fb00376b0cfd');\n",
       "        const dataTable =\n",
       "          await google.colab.kernel.invokeFunction('convertToInteractive',\n",
       "                                                    [key], {});\n",
       "        if (!dataTable) return;\n",
       "\n",
       "        const docLinkHtml = 'Like what you see? Visit the ' +\n",
       "          '<a target=\"_blank\" href=https://colab.research.google.com/notebooks/data_table.ipynb>data table notebook</a>'\n",
       "          + ' to learn more about interactive tables.';\n",
       "        element.innerHTML = '';\n",
       "        dataTable['output_type'] = 'display_data';\n",
       "        await google.colab.output.renderOutput(dataTable, element);\n",
       "        const docLink = document.createElement('div');\n",
       "        docLink.innerHTML = docLinkHtml;\n",
       "        element.appendChild(docLink);\n",
       "      }\n",
       "    </script>\n",
       "  </div>\n",
       "\n",
       "\n",
       "<div id=\"df-503cbb1a-3147-467b-bc44-68207d5d8c68\">\n",
       "  <button class=\"colab-df-quickchart\" onclick=\"quickchart('df-503cbb1a-3147-467b-bc44-68207d5d8c68')\"\n",
       "            title=\"Suggest charts\"\n",
       "            style=\"display:none;\">\n",
       "\n",
       "<svg xmlns=\"http://www.w3.org/2000/svg\" height=\"24px\"viewBox=\"0 0 24 24\"\n",
       "     width=\"24px\">\n",
       "    <g>\n",
       "        <path d=\"M19 3H5c-1.1 0-2 .9-2 2v14c0 1.1.9 2 2 2h14c1.1 0 2-.9 2-2V5c0-1.1-.9-2-2-2zM9 17H7v-7h2v7zm4 0h-2V7h2v10zm4 0h-2v-4h2v4z\"/>\n",
       "    </g>\n",
       "</svg>\n",
       "  </button>\n",
       "\n",
       "<style>\n",
       "  .colab-df-quickchart {\n",
       "      --bg-color: #E8F0FE;\n",
       "      --fill-color: #1967D2;\n",
       "      --hover-bg-color: #E2EBFA;\n",
       "      --hover-fill-color: #174EA6;\n",
       "      --disabled-fill-color: #AAA;\n",
       "      --disabled-bg-color: #DDD;\n",
       "  }\n",
       "\n",
       "  [theme=dark] .colab-df-quickchart {\n",
       "      --bg-color: #3B4455;\n",
       "      --fill-color: #D2E3FC;\n",
       "      --hover-bg-color: #434B5C;\n",
       "      --hover-fill-color: #FFFFFF;\n",
       "      --disabled-bg-color: #3B4455;\n",
       "      --disabled-fill-color: #666;\n",
       "  }\n",
       "\n",
       "  .colab-df-quickchart {\n",
       "    background-color: var(--bg-color);\n",
       "    border: none;\n",
       "    border-radius: 50%;\n",
       "    cursor: pointer;\n",
       "    display: none;\n",
       "    fill: var(--fill-color);\n",
       "    height: 32px;\n",
       "    padding: 0;\n",
       "    width: 32px;\n",
       "  }\n",
       "\n",
       "  .colab-df-quickchart:hover {\n",
       "    background-color: var(--hover-bg-color);\n",
       "    box-shadow: 0 1px 2px rgba(60, 64, 67, 0.3), 0 1px 3px 1px rgba(60, 64, 67, 0.15);\n",
       "    fill: var(--button-hover-fill-color);\n",
       "  }\n",
       "\n",
       "  .colab-df-quickchart-complete:disabled,\n",
       "  .colab-df-quickchart-complete:disabled:hover {\n",
       "    background-color: var(--disabled-bg-color);\n",
       "    fill: var(--disabled-fill-color);\n",
       "    box-shadow: none;\n",
       "  }\n",
       "\n",
       "  .colab-df-spinner {\n",
       "    border: 2px solid var(--fill-color);\n",
       "    border-color: transparent;\n",
       "    border-bottom-color: var(--fill-color);\n",
       "    animation:\n",
       "      spin 1s steps(1) infinite;\n",
       "  }\n",
       "\n",
       "  @keyframes spin {\n",
       "    0% {\n",
       "      border-color: transparent;\n",
       "      border-bottom-color: var(--fill-color);\n",
       "      border-left-color: var(--fill-color);\n",
       "    }\n",
       "    20% {\n",
       "      border-color: transparent;\n",
       "      border-left-color: var(--fill-color);\n",
       "      border-top-color: var(--fill-color);\n",
       "    }\n",
       "    30% {\n",
       "      border-color: transparent;\n",
       "      border-left-color: var(--fill-color);\n",
       "      border-top-color: var(--fill-color);\n",
       "      border-right-color: var(--fill-color);\n",
       "    }\n",
       "    40% {\n",
       "      border-color: transparent;\n",
       "      border-right-color: var(--fill-color);\n",
       "      border-top-color: var(--fill-color);\n",
       "    }\n",
       "    60% {\n",
       "      border-color: transparent;\n",
       "      border-right-color: var(--fill-color);\n",
       "    }\n",
       "    80% {\n",
       "      border-color: transparent;\n",
       "      border-right-color: var(--fill-color);\n",
       "      border-bottom-color: var(--fill-color);\n",
       "    }\n",
       "    90% {\n",
       "      border-color: transparent;\n",
       "      border-bottom-color: var(--fill-color);\n",
       "    }\n",
       "  }\n",
       "</style>\n",
       "\n",
       "  <script>\n",
       "    async function quickchart(key) {\n",
       "      const quickchartButtonEl =\n",
       "        document.querySelector('#' + key + ' button');\n",
       "      quickchartButtonEl.disabled = true;  // To prevent multiple clicks.\n",
       "      quickchartButtonEl.classList.add('colab-df-spinner');\n",
       "      try {\n",
       "        const charts = await google.colab.kernel.invokeFunction(\n",
       "            'suggestCharts', [key], {});\n",
       "      } catch (error) {\n",
       "        console.error('Error during call to suggestCharts:', error);\n",
       "      }\n",
       "      quickchartButtonEl.classList.remove('colab-df-spinner');\n",
       "      quickchartButtonEl.classList.add('colab-df-quickchart-complete');\n",
       "    }\n",
       "    (() => {\n",
       "      let quickchartButtonEl =\n",
       "        document.querySelector('#df-503cbb1a-3147-467b-bc44-68207d5d8c68 button');\n",
       "      quickchartButtonEl.style.display =\n",
       "        google.colab.kernel.accessAllowed ? 'block' : 'none';\n",
       "    })();\n",
       "  </script>\n",
       "</div>\n",
       "\n",
       "    </div>\n",
       "  </div>\n"
      ],
      "text/plain": [
       "                                 user_id  song_id  play_count  \\\n",
       "title                                                           \n",
       "Daisy And Prudence                  6958      447           1   \n",
       "The Ballad of Michael Valentine     6958      512           1   \n",
       "I Stand Corrected (Album)           6958      549           1   \n",
       "They Might Follow You               6958      703           1   \n",
       "Monkey Man                          6958      719           1   \n",
       "\n",
       "                                              release      artist_name  year  \\\n",
       "title                                                                          \n",
       "Daisy And Prudence                       Distillation     Erin McKeown  2000   \n",
       "The Ballad of Michael Valentine               Sawdust      The Killers  2004   \n",
       "I Stand Corrected (Album)             Vampire Weekend  Vampire Weekend  2007   \n",
       "They Might Follow You                     Tiny Vipers      Tiny Vipers  2007   \n",
       "Monkey Man                       You Know I'm No Good    Amy Winehouse  2007   \n",
       "\n",
       "                                                                              text  \n",
       "title                                                                               \n",
       "Daisy And Prudence                    Daisy And Prudence Distillation Erin McKeown  \n",
       "The Ballad of Michael Valentine  The Ballad of Michael Valentine Sawdust The Ki...  \n",
       "I Stand Corrected (Album)        I Stand Corrected (Album) Vampire Weekend Vamp...  \n",
       "They Might Follow You                They Might Follow You Tiny Vipers Tiny Vipers  \n",
       "Monkey Man                           Monkey Man You Know I'm No Good Amy Winehouse  "
      ]
     },
     "execution_count": 88,
     "metadata": {},
     "output_type": "execute_result"
    }
   ],
   "source": [
    "# Select the columns 'user_id', 'song_id', 'play_count', 'title', 'text' from df_small data\n",
    "\n",
    "# Drop the duplicates from the title column\n",
    "df_final.drop_duplicates(subset=['title'], inplace=True)\n",
    "# Set the title column as the index\n",
    "df_final.set_index('title', inplace=True)\n",
    "# See the first 5 records of the df_small dataset\n",
    "df_final.head()"
   ]
  },
  {
   "cell_type": "code",
   "execution_count": 89,
   "metadata": {
    "colab": {
     "base_uri": "https://localhost:8080/",
     "height": 458
    },
    "executionInfo": {
     "elapsed": 19,
     "status": "ok",
     "timestamp": 1728915313793,
     "user": {
      "displayName": "Jayashree Lakshmi",
      "userId": "09309199442259744900"
     },
     "user_tz": 240
    },
    "id": "qDcYHwZTR-F5",
    "outputId": "47a06264-242a-4f99-d126-5ea0fde9ad20"
   },
   "outputs": [
    {
     "data": {
      "text/html": [
       "<div>\n",
       "<style scoped>\n",
       "    .dataframe tbody tr th:only-of-type {\n",
       "        vertical-align: middle;\n",
       "    }\n",
       "\n",
       "    .dataframe tbody tr th {\n",
       "        vertical-align: top;\n",
       "    }\n",
       "\n",
       "    .dataframe thead th {\n",
       "        text-align: right;\n",
       "    }\n",
       "</style>\n",
       "<table border=\"1\" class=\"dataframe\">\n",
       "  <thead>\n",
       "    <tr style=\"text-align: right;\">\n",
       "      <th></th>\n",
       "      <th>title</th>\n",
       "    </tr>\n",
       "  </thead>\n",
       "  <tbody>\n",
       "    <tr>\n",
       "      <th>0</th>\n",
       "      <td>Daisy And Prudence</td>\n",
       "    </tr>\n",
       "    <tr>\n",
       "      <th>1</th>\n",
       "      <td>The Ballad of Michael Valentine</td>\n",
       "    </tr>\n",
       "    <tr>\n",
       "      <th>2</th>\n",
       "      <td>I Stand Corrected (Album)</td>\n",
       "    </tr>\n",
       "    <tr>\n",
       "      <th>3</th>\n",
       "      <td>They Might Follow You</td>\n",
       "    </tr>\n",
       "    <tr>\n",
       "      <th>4</th>\n",
       "      <td>Monkey Man</td>\n",
       "    </tr>\n",
       "    <tr>\n",
       "      <th>...</th>\n",
       "      <td>...</td>\n",
       "    </tr>\n",
       "    <tr>\n",
       "      <th>624</th>\n",
       "      <td>The Last Song</td>\n",
       "    </tr>\n",
       "    <tr>\n",
       "      <th>625</th>\n",
       "      <td>Invincible</td>\n",
       "    </tr>\n",
       "    <tr>\n",
       "      <th>626</th>\n",
       "      <td>Paper Gangsta</td>\n",
       "    </tr>\n",
       "    <tr>\n",
       "      <th>627</th>\n",
       "      <td>Starlight</td>\n",
       "    </tr>\n",
       "    <tr>\n",
       "      <th>628</th>\n",
       "      <td>Tangerine  (Album Version)</td>\n",
       "    </tr>\n",
       "  </tbody>\n",
       "</table>\n",
       "<p>629 rows × 1 columns</p>\n",
       "</div><br><label><b>dtype:</b> object</label>"
      ],
      "text/plain": [
       "0                   Daisy And Prudence\n",
       "1      The Ballad of Michael Valentine\n",
       "2            I Stand Corrected (Album)\n",
       "3                They Might Follow You\n",
       "4                           Monkey Man\n",
       "                    ...               \n",
       "624                      The Last Song\n",
       "625                         Invincible\n",
       "626                      Paper Gangsta\n",
       "627                          Starlight\n",
       "628         Tangerine  (Album Version)\n",
       "Name: title, Length: 629, dtype: object"
      ]
     },
     "execution_count": 89,
     "metadata": {},
     "output_type": "execute_result"
    }
   ],
   "source": [
    "# Create the series of indices from the data\n",
    "index_series = pd.Series(df_final.index)\n",
    "index_series"
   ]
  },
  {
   "cell_type": "code",
   "execution_count": 90,
   "metadata": {
    "colab": {
     "base_uri": "https://localhost:8080/"
    },
    "executionInfo": {
     "elapsed": 1653,
     "status": "ok",
     "timestamp": 1728915315430,
     "user": {
      "displayName": "Jayashree Lakshmi",
      "userId": "09309199442259744900"
     },
     "user_tz": 240
    },
    "id": "9UINF3Nwvwfr",
    "outputId": "f49d2108-d0b7-4d0c-dcd2-b51830e6ba08"
   },
   "outputs": [
    {
     "name": "stderr",
     "output_type": "stream",
     "text": [
      "[nltk_data] Downloading package omw-1.4 to /root/nltk_data...\n",
      "[nltk_data] Downloading package punkt to /root/nltk_data...\n",
      "[nltk_data]   Unzipping tokenizers/punkt.zip.\n",
      "[nltk_data] Downloading package stopwords to /root/nltk_data...\n",
      "[nltk_data]   Unzipping corpora/stopwords.zip.\n",
      "[nltk_data] Downloading package wordnet to /root/nltk_data...\n"
     ]
    }
   ],
   "source": [
    "# Importing necessary packages to work with text data\n",
    "import nltk\n",
    "nltk.download('omw-1.4')\n",
    "# Download punkt library\n",
    "nltk.download('punkt')\n",
    "\n",
    "# Download stopwords library\n",
    "nltk.download('stopwords')\n",
    "\n",
    "# Download wordnet\n",
    "nltk.download('wordnet')\n",
    "\n",
    "# Import regular expression\n",
    "import re\n",
    "\n",
    "# Import word_tokenizer\n",
    "from nltk import word_tokenize\n",
    "\n",
    "# Import WordNetLemmatizer\n",
    "from nltk.stem import WordNetLemmatizer\n",
    "# Import stopwords\n",
    "from nltk.corpus import stopwords\n",
    "\n",
    "# Import CountVectorizer and TfidfVectorizer\n",
    "from sklearn.feature_extraction.text import CountVectorizer, TfidfVectorizer"
   ]
  },
  {
   "cell_type": "markdown",
   "metadata": {
    "id": "Jt2vitlnhoEg"
   },
   "source": [
    "We will create a **function to pre-process the text data:**"
   ]
  },
  {
   "cell_type": "code",
   "execution_count": 91,
   "metadata": {
    "executionInfo": {
     "elapsed": 6,
     "status": "ok",
     "timestamp": 1728915315430,
     "user": {
      "displayName": "Jayashree Lakshmi",
      "userId": "09309199442259744900"
     },
     "user_tz": 240
    },
    "id": "j5QSSeUvR-F6"
   },
   "outputs": [],
   "source": [
    "# Create a function to tokenize the text\n",
    "def tokenize(text):\n",
    "\n",
    "    # Making each letter as lowercase and removing non-alphabetical text\n",
    "    text = re.sub(r\"[^a-zA-Z]\",\" \", text.lower())\n",
    "\n",
    "    # Extracting each word in the text\n",
    "    tokens = word_tokenize(text)\n",
    "\n",
    "    # Removing stopwords\n",
    "    words = [word for word in tokens if word not in stopwords.words(\"english\")]\n",
    "\n",
    "    # Lemmatize the words\n",
    "    text_lems = [WordNetLemmatizer().lemmatize(lem).strip() for lem in words]\n",
    "\n",
    "    return text_lems"
   ]
  },
  {
   "cell_type": "code",
   "execution_count": 92,
   "metadata": {
    "executionInfo": {
     "elapsed": 3591,
     "status": "ok",
     "timestamp": 1728915319016,
     "user": {
      "displayName": "Jayashree Lakshmi",
      "userId": "09309199442259744900"
     },
     "user_tz": 240
    },
    "id": "RI_onIGdR-F6"
   },
   "outputs": [],
   "source": [
    "# Create tfidf vectorizer\n",
    "tfidf = TfidfVectorizer(tokenizer = tokenize)\n",
    "\n",
    "# Fit_transfrom the above vectorizer on the text column and then convert the output into an array\n",
    "song_tfidf = tfidf.fit_transform(df_final['text'].values).toarray()"
   ]
  },
  {
   "cell_type": "code",
   "execution_count": 93,
   "metadata": {
    "colab": {
     "base_uri": "https://localhost:8080/"
    },
    "executionInfo": {
     "elapsed": 8,
     "status": "ok",
     "timestamp": 1728915319016,
     "user": {
      "displayName": "Jayashree Lakshmi",
      "userId": "09309199442259744900"
     },
     "user_tz": 240
    },
    "id": "Beak6ODRR-F7",
    "outputId": "87c5a5c4-4241-44ff-bf6f-fad8bb7914d5"
   },
   "outputs": [
    {
     "data": {
      "text/plain": [
       "array([[1.        , 0.        , 0.        , ..., 0.        , 0.        ,\n",
       "        0.        ],\n",
       "       [0.        , 1.        , 0.        , ..., 0.        , 0.        ,\n",
       "        0.        ],\n",
       "       [0.        , 0.        , 1.        , ..., 0.        , 0.        ,\n",
       "        0.03257364],\n",
       "       ...,\n",
       "       [0.        , 0.        , 0.        , ..., 1.        , 0.        ,\n",
       "        0.        ],\n",
       "       [0.        , 0.        , 0.        , ..., 0.        , 1.        ,\n",
       "        0.        ],\n",
       "       [0.        , 0.        , 0.03257364, ..., 0.        , 0.        ,\n",
       "        1.        ]])"
      ]
     },
     "execution_count": 93,
     "metadata": {},
     "output_type": "execute_result"
    }
   ],
   "source": [
    "# Compute the cosine similarity for the tfidf above output\n",
    "similar_songs = cosine_similarity(song_tfidf, song_tfidf)\n",
    "similar_songs"
   ]
  },
  {
   "cell_type": "markdown",
   "metadata": {
    "id": "3Jjo3UHKhoEh"
   },
   "source": [
    " Finally, let's create a function to find most similar songs to recommend for a given song."
   ]
  },
  {
   "cell_type": "code",
   "execution_count": 104,
   "metadata": {
    "executionInfo": {
     "elapsed": 362,
     "status": "ok",
     "timestamp": 1728917801841,
     "user": {
      "displayName": "Jayashree Lakshmi",
      "userId": "09309199442259744900"
     },
     "user_tz": 240
    },
    "id": "upANOISkR-F8"
   },
   "outputs": [],
   "source": [
    "# Function that takes in song title as input and returns the top 10 recommended songs\n",
    "def recommendations(title, similar_songs):\n",
    "\n",
    "    recommended_songs = []\n",
    "\n",
    "    indices = pd.Series(df_final.index)\n",
    "\n",
    "    # Getting the index of the song that matches the title\n",
    "    idx = indices[indices == title].index[0]\n",
    "\n",
    "    # Creating a Series with the similarity scores in descending order\n",
    "    score_series = pd.Series(similar_songs[idx]).sort_values(ascending = False)\n",
    "\n",
    "    # Getting the indexes of the 10 most similar songs\n",
    "    top_10_indexes = list(score_series.iloc[1 : 11].index)\n",
    "    #print(top_10_indexes)\n",
    "\n",
    "    # Populating the list with the titles of the best 10 matching songs\n",
    "    for i in top_10_indexes:\n",
    "        recommended_songs.append(list(df_final.index)[i])\n",
    "\n",
    "    return recommended_songs"
   ]
  },
  {
   "cell_type": "markdown",
   "metadata": {
    "id": "o4EINBmkR-F8"
   },
   "source": [
    "Recommending 10 songs similar to Learn to Fly"
   ]
  },
  {
   "cell_type": "code",
   "execution_count": 113,
   "metadata": {
    "colab": {
     "base_uri": "https://localhost:8080/"
    },
    "executionInfo": {
     "elapsed": 208,
     "status": "ok",
     "timestamp": 1728918432434,
     "user": {
      "displayName": "Jayashree Lakshmi",
      "userId": "09309199442259744900"
     },
     "user_tz": 240
    },
    "id": "ohEK5dkVR-F8",
    "outputId": "23432b98-252e-4031-b0d6-3b8f904c4afe"
   },
   "outputs": [
    {
     "name": "stdout",
     "output_type": "stream",
     "text": [
      "Content-Based Similarity Score for Learn To Fly: 1.0000000000000002\n",
      "Recommendation for a Learn To Fly:['Big Me', 'Everlong', 'The Pretender', 'Nothing Better (Album)', 'From Left To Right', 'Lifespan Of A Fly', 'Daisy And Prudence', \"Ghosts 'n' Stuff (Original Instrumental Mix)\", 'Closer', 'No Cars Go']\n"
     ]
    }
   ],
   "source": [
    "# Make the recommendation for the song with title 'Learn To Fly'\n",
    "song = 'Learn To Fly'\n",
    "print(f\"Content-Based Similarity Score for {song}: {similar_songs[0][0]}\")\n",
    "print(f\"Recommendation for a {song}:{recommendations('Learn To Fly', similar_songs)}\")"
   ]
  },
  {
   "cell_type": "markdown",
   "metadata": {
    "id": "GKu1owAVog3Y"
   },
   "source": [
    "# Hybrid **Model**"
   ]
  },
  {
   "cell_type": "code",
   "execution_count": 117,
   "metadata": {
    "executionInfo": {
     "elapsed": 234,
     "status": "ok",
     "timestamp": 1728919663324,
     "user": {
      "displayName": "Jayashree Lakshmi",
      "userId": "09309199442259744900"
     },
     "user_tz": 240
    },
    "id": "y9bpCdefeWOh"
   },
   "outputs": [],
   "source": [
    "#Combine models in the hybrid\n",
    "def hybrid_predict(user_id, song_id, weights):\n",
    "    \"\"\"\n",
    "    Predict a rating by combining predictions from multiple models using weighted averaging.\n",
    "\n",
    "    weights: a dict of model weights {model_name: weight}\n",
    "    \"\"\"\n",
    "    # Get predictions from each model\n",
    "    user_user_pred = tuned_user_user_cf_model.predict(user_id, song_id).est\n",
    "    item_item_pred = tuned_item_item_cf_model.predict(user_id, song_id).est\n",
    "    svd_pred = svd_model.predict(user_id, song_id).est\n",
    "    cluster_pred = clust_tuned.predict(user_id, song_id).est\n",
    "\n",
    "    # Weighted sum of predictions\n",
    "    final_prediction = (weights['user_user'] * user_user_pred +\n",
    "                        weights['item_item'] * item_item_pred +\n",
    "                        weights['svd'] * svd_pred +\n",
    "                        weights['cluster'] * cluster_pred)\n",
    "\n",
    "    return final_prediction"
   ]
  },
  {
   "cell_type": "code",
   "execution_count": 118,
   "metadata": {
    "colab": {
     "base_uri": "https://localhost:8080/"
    },
    "executionInfo": {
     "elapsed": 205,
     "status": "ok",
     "timestamp": 1728919664916,
     "user": {
      "displayName": "Jayashree Lakshmi",
      "userId": "09309199442259744900"
     },
     "user_tz": 240
    },
    "id": "gl-KgBYrhJlJ",
    "outputId": "f5376403-e46b-4e96-8302-7b725c422514"
   },
   "outputs": [
    {
     "name": "stdout",
     "output_type": "stream",
     "text": [
      "Hybrid Prediction for User 6958 and Item 1671: 1.4062556144084044\n"
     ]
    }
   ],
   "source": [
    "weights = {\n",
    "    'user_user': 0.10,        # Weight for User-User CF\n",
    "    'item_item': 0.10,        # Weight for Item-Item CF\n",
    "    'svd': 0.50,              # Weight for Matrix Factorization\n",
    "    'cluster': 0.30,          # Weight for Cluster-Based\n",
    "\n",
    "}\n",
    "user_id = 6958\n",
    "song_id = 1671\n",
    "prediction = hybrid_predict(user_id, song_id, weights)\n",
    "print(f\"Hybrid Prediction for User {user_id} and Item {song_id}: {prediction}\")\n"
   ]
  },
  {
   "cell_type": "markdown",
   "metadata": {
    "id": "UQ7iI5QJ0oem"
   },
   "source": [
    "**Observations and Insights:_________**\n",
    "The recommendations are likely based on various content features such as genre, tempo, instrumentation, or lyrical themes that align with \"Learn To Fly.\"\n",
    "Variety of Recommendations: The list includes songs that span various aspects of musical composition, which may appeal to listeners who enjoy \"Learn To Fly.\"\n",
    "Artist Variety: Some songs may come from different artists or albums, indicating that the recommendation system is broad in its scope rather than limited to a specific artist or style.\n",
    "User Engagement: If the user enjoyed \"Learn To Fly,\" there’s a good chance they might appreciate these songs, as they are tailored based on the characteristics of the initial song.\n",
    "\n",
    "The hybrid model RMSE could be improved, and while it provides some benefits (like diversity in recommendations), you might want to optimize it further for accuracy."
   ]
  },
  {
   "cell_type": "markdown",
   "metadata": {
    "id": "73367782"
   },
   "source": [
    "## **Conclusion and Recommendations**"
   ]
  },
  {
   "cell_type": "markdown",
   "metadata": {
    "id": "N5BT7Ocwqf5x"
   },
   "source": [
    "**1. Comparison of various techniques and their relative performance based on chosen Metric (Measure of success)**:\n",
    "- How do different techniques perform? Which one is performing relatively better? Is there scope to improve the performance further?\n",
    "\n",
    "* SVD Baseline: This model has the best RMSE (0.6590), indicating it makes the most accurate predictions on average. Its precision (0.184) and recall (0.103) suggest a reasonable ability to identify relevant items, with an F1 score of 0.132 reflecting a balance between precision and recall.\n",
    "* Cluster-Based Recommendation: This model shows a strong performance in precision (0.438) and recall (0.653), resulting in a high F1 score of 0.524. This indicates that while it may not have the best RMSE, it effectively identifies and captures relevant items.\n",
    "* Item-Item Similarity: With an RMSE of 0.8186, this model performs adequately but has low precision (0.026) and recall (0.017), indicating it struggles to identify relevant items.\n",
    "* User-User Similarity: This model has the highest RMSE (1.0817) and very low precision, recall, and F1 scores, making it the least effective option."
   ]
  },
  {
   "cell_type": "markdown",
   "metadata": {
    "id": "wjc6vTcoqp6v"
   },
   "source": [
    "**2. Refined insights**:\n",
    "- What are the most meaningful insights from the data relevant to the problem?\n",
    "The comparison of various recommendation techniques reveals that while some models perform better in specific areas, there remains ample opportunity for enhancing overall effectiveness. By focusing on hyperparameter tuning, integrating diverse data features, and exploring hybrid approaches, we can develop more sophisticated systems that offer users highly relevant and personalized recommendations. Continuous evaluation and adaptation will be key in maintaining model performance in a dynamic user landscape."
   ]
  },
  {
   "cell_type": "markdown",
   "metadata": {
    "id": "hK6PMGUtoxVx"
   },
   "source": [
    "**3. Proposal for the final solution design:**\n",
    "- What model do you propose to be adopted? Why is this the best solution to adopt?\n",
    "* The recommended approach is to adopt a Hybrid Recommendation System that combines multiple recommendation techniques, specifically:\n",
    "\n",
    "Collaborative Filtering (User-User and Item-Item)\n",
    "Content-Based Filtering\n",
    "Matrix Factorization (e.g., SVD)\n",
    "Ensemble Learning\n",
    "This model leverages the strengths of each individual technique while mitigating their weaknesses, resulting in a more robust and accurate recommendation engine.\n",
    "\n",
    "* By integrating collaborative filtering and content-based methods, the hybrid system can better capture user preferences. Collaborative filtering addresses user behavior and similarities, while content-based filtering considers the intrinsic characteristics of items.\n",
    "The use of matrix factorization techniques (like SVD) allows the model to uncover latent factors that influence user-item interactions, improving prediction accuracy.\n",
    "\n",
    "*  Content-based filtering can provide recommendations for new items (songs) that lack user interaction data. This is particularly useful in a music recommendation context where new songs are frequently added.\n",
    "\n"
   ]
  },
  {
   "cell_type": "code",
   "execution_count": null,
   "metadata": {
    "id": "IM9jv-hcqjCs"
   },
   "outputs": [],
   "source": []
  }
 ],
 "metadata": {
  "colab": {
   "provenance": []
  },
  "kernelspec": {
   "display_name": "Python 3",
   "language": "python",
   "name": "python3"
  },
  "language_info": {
   "codemirror_mode": {
    "name": "ipython",
    "version": 3
   },
   "file_extension": ".py",
   "mimetype": "text/x-python",
   "name": "python",
   "nbconvert_exporter": "python",
   "pygments_lexer": "ipython3",
   "version": "3.13.1"
  }
 },
 "nbformat": 4,
 "nbformat_minor": 0
}
